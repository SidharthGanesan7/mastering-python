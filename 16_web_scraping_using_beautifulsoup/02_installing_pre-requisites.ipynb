{
 "cells": [
  {
   "cell_type": "markdown",
   "metadata": {},
   "source": [
    "## Installing Pre-requisites\n",
    "\n",
    "We will use multiple Python libraries to perform Web Scraping.\n",
    "* Library to get the content from HTML Pages requests\n",
    "* Process HTML Tags and extract Data beautifulsoup4\n",
    "* Data Processing using Data Frame APIs pandas. We can also use native collections and associated libraries to process scraped data using `beautiful soup`.\n",
    "\n",
    "```shell\n",
    "pip install beautifulsoup4\n",
    "pip install pandas\n",
    "```"
   ]
  },
  {
   "cell_type": "code",
   "execution_count": null,
   "metadata": {},
   "outputs": [],
   "source": []
  }
 ],
 "metadata": {
  "kernelspec": {
   "display_name": "Python 3",
   "language": "python",
   "name": "python3"
  },
  "language_info": {
   "codemirror_mode": {
    "name": "ipython",
    "version": 3
   },
   "file_extension": ".py",
   "mimetype": "text/x-python",
   "name": "python",
   "nbconvert_exporter": "python",
   "pygments_lexer": "ipython3",
   "version": "3.6.12"
  }
 },
 "nbformat": 4,
 "nbformat_minor": 4
}
