{
 "cells": [
  {
   "cell_type": "markdown",
   "metadata": {},
   "source": [
    "## Scraping Website Content\n",
    "\n",
    "We can use Python core library `requests` to get the content from HTML pages. Let us understand how we can pass the html content fetched by `requests` to `BeautifulSoup`.\n",
    "* `requests` provides `get` funcion to which we can pass web URL. - `python_page = requests.get(python_url)`\n",
    "* We can access content using `python_page.content`.\n",
    "* We can use pass the content to BeautifulSoup and parse the HTML Tags and data for further processing."
   ]
  },
  {
   "cell_type": "code",
   "execution_count": 2,
   "metadata": {},
   "outputs": [],
   "source": [
    "import requests"
   ]
  },
  {
   "cell_type": "code",
   "execution_count": 3,
   "metadata": {},
   "outputs": [],
   "source": [
    "python_url = 'https://python.itversity.com/mastering-python.html'\n",
    "python_page = requests.get(python_url)"
   ]
  },
  {
   "cell_type": "markdown",
   "metadata": {},
   "source": [
    "### Processing HTML Content\n",
    "\n",
    "We can pass the content and extract HTML Tags as well as data using BeautifulSoup.\n",
    "* We have to pass the content using `html.parser` and build the BeautifulSoup object.\n",
    "* Let us prettify and print the content."
   ]
  },
  {
   "cell_type": "code",
   "execution_count": 6,
   "metadata": {},
   "outputs": [],
   "source": [
    "from bs4 import BeautifulSoup"
   ]
  },
  {
   "cell_type": "code",
   "execution_count": 17,
   "metadata": {},
   "outputs": [],
   "source": [
    "soup = BeautifulSoup(python_page.content, 'html.parser')\n",
    "\n",
    "# print(soup.prettify())"
   ]
  }
 ],
 "metadata": {
  "kernelspec": {
   "display_name": "Python 3",
   "language": "python",
   "name": "python3"
  },
  "language_info": {
   "codemirror_mode": {
    "name": "ipython",
    "version": 3
   },
   "file_extension": ".py",
   "mimetype": "text/x-python",
   "name": "python",
   "nbconvert_exporter": "python",
   "pygments_lexer": "ipython3",
   "version": "3.6.12"
  }
 },
 "nbformat": 4,
 "nbformat_minor": 4
}
