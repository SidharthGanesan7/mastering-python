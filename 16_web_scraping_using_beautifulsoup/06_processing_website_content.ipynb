{
 "cells": [
  {
   "cell_type": "markdown",
   "metadata": {},
   "source": [
    "## Processing Website Content\n",
    "\n",
    "We can process the content and extract HTML Tags as well as data using BeautifulSoup.\n",
    "* We have to pass the content using `html.parser` and build the BeautifulSoup object.\n",
    "* Let us prettify and print the content."
   ]
  },
  {
   "cell_type": "code",
   "execution_count": null,
   "metadata": {},
   "outputs": [],
   "source": [
    "import requests\n",
    "\n",
    "python_base_url = 'https://python.itversity.com'\n",
    "python_url = f'{python_base_url}/mastering-python.html'\n",
    "python_page = requests.get(python_url)\n",
    "\n",
    "from bs4 import BeautifulSoup\n",
    "\n",
    "soup = BeautifulSoup(python_page.content, 'html.parser')"
   ]
  },
  {
   "cell_type": "code",
   "execution_count": null,
   "metadata": {},
   "outputs": [],
   "source": [
    "print(soup.prettify())"
   ]
  },
  {
   "cell_type": "markdown",
   "metadata": {},
   "source": [
    "* Let us extract all the `a` tags. We can extract links provided as part of this website.\n",
    "* Here is the code snippet to get the `a` tags from the landing page."
   ]
  },
  {
   "cell_type": "code",
   "execution_count": null,
   "metadata": {},
   "outputs": [],
   "source": [
    "for a in soup.find_all('a'):\n",
    "    print(a)"
   ]
  },
  {
   "cell_type": "markdown",
   "metadata": {},
   "source": [
    "* We can use `field_name.string` to get only the value."
   ]
  },
  {
   "cell_type": "code",
   "execution_count": null,
   "metadata": {},
   "outputs": [],
   "source": [
    "for a in soup.find_all('a'):\n",
    "    print(a.string)"
   ]
  },
  {
   "cell_type": "code",
   "execution_count": null,
   "metadata": {},
   "outputs": [],
   "source": [
    "for a in soup.find_all('a'):\n",
    "    print(a.get_text())"
   ]
  },
  {
   "cell_type": "markdown",
   "metadata": {},
   "source": [
    "* We can also get the urls used as part of these `a` tags."
   ]
  },
  {
   "cell_type": "code",
   "execution_count": null,
   "metadata": {},
   "outputs": [],
   "source": [
    "for a in soup.find_all('a'):\n",
    "    print(a['href'])"
   ]
  },
  {
   "cell_type": "code",
   "execution_count": null,
   "metadata": {},
   "outputs": [],
   "source": [
    "for a in soup.find_all('a'):\n",
    "    if a.get('href'):\n",
    "        print(a['href'])"
   ]
  },
  {
   "cell_type": "markdown",
   "metadata": {},
   "source": [
    "* We can also pass attributes such as `class`, `id` etc to access HTML data."
   ]
  },
  {
   "cell_type": "code",
   "execution_count": 35,
   "metadata": {},
   "outputs": [
    {
     "name": "stdout",
     "output_type": "stream",
     "text": [
      "['navbar-brand', 'text-wrap']\n",
      "['reference', 'internal']\n",
      "['reference', 'internal']\n",
      "['reference', 'internal']\n",
      "['reference', 'internal']\n",
      "['reference', 'internal']\n",
      "['reference', 'internal']\n",
      "['reference', 'internal']\n",
      "['reference', 'internal']\n",
      "['reference', 'internal']\n",
      "['reference', 'internal']\n",
      "['reference', 'internal']\n",
      "['reference', 'internal']\n",
      "['reference', 'internal']\n",
      "['reference', 'internal']\n",
      "['reference', 'internal']\n",
      "['reference', 'internal']\n",
      "['reference', 'internal']\n",
      "['reference', 'internal']\n",
      "['dropdown-buttons']\n",
      "['repository-button']\n",
      "['issues-button']\n",
      "['edit-button']\n",
      "['full-screen-button']\n",
      "['binder-button']\n",
      "['reference', 'internal', 'nav-link']\n",
      "['reference', 'internal', 'nav-link']\n",
      "['reference', 'internal', 'nav-link']\n",
      "['reference', 'internal', 'nav-link']\n",
      "['reference', 'internal', 'nav-link']\n",
      "['reference', 'internal', 'nav-link']\n",
      "['reference', 'internal', 'nav-link']\n",
      "['headerlink']\n",
      "['headerlink']\n",
      "['headerlink']\n",
      "['headerlink']\n",
      "['headerlink']\n",
      "['headerlink']\n",
      "['headerlink']\n",
      "['headerlink']\n",
      "['right-next']\n"
     ]
    }
   ],
   "source": [
    "for a in soup.find_all('a'):\n",
    "    if a.get('class'):\n",
    "        print(a['class'])"
   ]
  },
  {
   "cell_type": "code",
   "execution_count": 39,
   "metadata": {},
   "outputs": [
    {
     "data": {
      "text/plain": [
       "<a class=\"reference internal\" href=\"#\">\n",
       "   Mastering Python\n",
       "  </a>"
      ]
     },
     "execution_count": 39,
     "metadata": {},
     "output_type": "execute_result"
    }
   ],
   "source": [
    "soup.find('a', {'class': 'reference internal'})"
   ]
  },
  {
   "cell_type": "code",
   "execution_count": 41,
   "metadata": {},
   "outputs": [
    {
     "data": {
      "text/plain": [
       "<a class=\"reference internal\" href=\"#\">\n",
       "   Mastering Python\n",
       "  </a>"
      ]
     },
     "execution_count": 41,
     "metadata": {},
     "output_type": "execute_result"
    }
   ],
   "source": [
    "soup.find('a', class_='reference internal')"
   ]
  },
  {
   "cell_type": "code",
   "execution_count": 37,
   "metadata": {},
   "outputs": [
    {
     "name": "stdout",
     "output_type": "stream",
     "text": [
      "#\n",
      "01_overview_of_windows_os/01_overview_of_windows_os.html\n",
      "04_postgres_database_operations/01_postgres_database_operations.html\n",
      "05_getting_started_with_python/01_getting_started_with_python.html\n",
      "06_basic_programming_constructs/01_basic_programming_constructs.html\n",
      "07_pre_defined_functions/01_pre_defined_functions.html\n",
      "08_user_defined_functions/01_user_defined_functions.html\n",
      "09_overview_of_collections_list_and_set/01_overview_of_collections_list_and_set.html\n",
      "10_overview_of_collections_dict_and_tuple/01_overview_of_collections_dict_and_tuple.html\n",
      "11_manipulating_collections_using_loops/01_manipulating_collections_using_loops.html\n",
      "12_development_of_map_reduce_apis/01_development_of_map_reduce_apis.html\n",
      "13_understanding_map_reduce_libraries/01_understanding_map_reduce_libraries.html\n",
      "14_overview_of_object_oriented_programming/01_overview_of_object_oriented_programming.html\n",
      "15_overview_of_pandas_libraries/01_overview_of_pandas_libraries.html\n",
      "16_web_scraping_using_beautifulsoup/01_web_scraping_using_beautifulsoup.html\n",
      "17_database_programming_crud_operations/01_database_programming_crud_operations.html\n",
      "18_database_programming_batch_operations/01_database_programming_batch_operations.html\n",
      "19_project_web_scraping_into_database/01_project_web_scraping_into_database.html\n"
     ]
    }
   ],
   "source": [
    "for a in soup.find_all('a', {'class': 'reference internal'}):\n",
    "    if a.get('href'):\n",
    "        print(a['href'])"
   ]
  },
  {
   "cell_type": "code",
   "execution_count": 42,
   "metadata": {},
   "outputs": [
    {
     "name": "stdout",
     "output_type": "stream",
     "text": [
      "next-link\n"
     ]
    }
   ],
   "source": [
    "for a in soup.find_all('a'):\n",
    "    if a.get('id'):\n",
    "        print(a['id'])"
   ]
  },
  {
   "cell_type": "code",
   "execution_count": 43,
   "metadata": {},
   "outputs": [
    {
     "data": {
      "text/plain": [
       "<a class=\"right-next\" href=\"01_overview_of_windows_os/01_overview_of_windows_os.html\" id=\"next-link\" title=\"next page\">Overview of Windows Operating System</a>"
      ]
     },
     "execution_count": 43,
     "metadata": {},
     "output_type": "execute_result"
    }
   ],
   "source": [
    "soup.find('a', {'id': 'next-link'})"
   ]
  },
  {
   "cell_type": "code",
   "execution_count": 44,
   "metadata": {},
   "outputs": [
    {
     "data": {
      "text/plain": [
       "<a class=\"right-next\" href=\"01_overview_of_windows_os/01_overview_of_windows_os.html\" id=\"next-link\" title=\"next page\">Overview of Windows Operating System</a>"
      ]
     },
     "execution_count": 44,
     "metadata": {},
     "output_type": "execute_result"
    }
   ],
   "source": [
    "soup.find('a', id='next-link')"
   ]
  },
  {
   "cell_type": "code",
   "execution_count": null,
   "metadata": {},
   "outputs": [],
   "source": []
  }
 ],
 "metadata": {
  "kernelspec": {
   "display_name": "Python 3",
   "language": "python",
   "name": "python3"
  },
  "language_info": {
   "codemirror_mode": {
    "name": "ipython",
    "version": 3
   },
   "file_extension": ".py",
   "mimetype": "text/x-python",
   "name": "python",
   "nbconvert_exporter": "python",
   "pygments_lexer": "ipython3",
   "version": "3.6.12"
  }
 },
 "nbformat": 4,
 "nbformat_minor": 4
}
