{
 "cells": [
  {
   "cell_type": "markdown",
   "metadata": {
    "pycharm": {
     "name": "#%% md"
    }
   },
   "source": [
    "# Project – Web Scraping and loading into Database – 1\n",
    "\n",
    "* Define Problem Statement\n",
    "* Setup Project\n",
    "* Overview of Python Virtual Environments\n",
    "* Installing required libraries\n",
    "* Setup Logging\n",
    "* Modularizing the Project\n",
    "* Setup Database"
   ]
  }
 ],
 "metadata": {
  "kernelspec": {
   "display_name": "Python 3",
   "language": "python",
   "name": "python3"
  },
  "language_info": {
   "codemirror_mode": {
    "name": "ipython",
    "version": 3
   },
   "file_extension": ".py",
   "mimetype": "text/x-python",
   "name": "python",
   "nbconvert_exporter": "python",
   "pygments_lexer": "ipython3",
   "version": "3.8.5"
  }
 },
 "nbformat": 4,
 "nbformat_minor": 4
}
