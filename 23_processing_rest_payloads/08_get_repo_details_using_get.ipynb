{
 "cells": [
  {
   "cell_type": "markdown",
   "id": "011073e0",
   "metadata": {},
   "source": [
    "## Get repo details using Get\n",
    "\n",
    "Let us take get repo details using REST GET via `requests` module or library.\n",
    "* We can get details about all the public repositories using `GET /repositories` from **https://api.github.com**.\n",
    "* As it is getting or reading data from external application the details are available via `GET`.\n",
    "* Here is an example using `curl` command."
   ]
  },
  {
   "cell_type": "code",
   "execution_count": null,
   "id": "0909002e",
   "metadata": {},
   "outputs": [],
   "source": [
    "!curl https://api.github.com/repositories"
   ]
  },
  {
   "cell_type": "markdown",
   "id": "a4b58a66",
   "metadata": {},
   "source": [
    "* We can get the payload of public repositories using `requests.get`.\n",
    "* The `content` attribute of response object returned will contain payload.\n",
    "* The data type of the payload is `bytes`.\n",
    "* We can decode the payload to string using `decode('utf-8')`."
   ]
  },
  {
   "cell_type": "code",
   "execution_count": 2,
   "id": "d9cd6b79",
   "metadata": {},
   "outputs": [],
   "source": [
    "import requests"
   ]
  },
  {
   "cell_type": "code",
   "execution_count": 14,
   "id": "01f1f35f",
   "metadata": {},
   "outputs": [
    {
     "data": {
      "text/plain": [
       "\u001b[0;31mSignature:\u001b[0m \u001b[0mrequests\u001b[0m\u001b[0;34m.\u001b[0m\u001b[0mget\u001b[0m\u001b[0;34m(\u001b[0m\u001b[0murl\u001b[0m\u001b[0;34m,\u001b[0m \u001b[0mparams\u001b[0m\u001b[0;34m=\u001b[0m\u001b[0;32mNone\u001b[0m\u001b[0;34m,\u001b[0m \u001b[0;34m**\u001b[0m\u001b[0mkwargs\u001b[0m\u001b[0;34m)\u001b[0m\u001b[0;34m\u001b[0m\u001b[0;34m\u001b[0m\u001b[0m\n",
       "\u001b[0;31mDocstring:\u001b[0m\n",
       "Sends a GET request.\n",
       "\n",
       ":param url: URL for the new :class:`Request` object.\n",
       ":param params: (optional) Dictionary, list of tuples or bytes to send\n",
       "    in the query string for the :class:`Request`.\n",
       ":param \\*\\*kwargs: Optional arguments that ``request`` takes.\n",
       ":return: :class:`Response <Response>` object\n",
       ":rtype: requests.Response\n",
       "\u001b[0;31mFile:\u001b[0m      /opt/anaconda3/envs/beakerx/lib/python3.6/site-packages/requests/api.py\n",
       "\u001b[0;31mType:\u001b[0m      function\n"
      ]
     },
     "metadata": {},
     "output_type": "display_data"
    }
   ],
   "source": [
    "requests.get?"
   ]
  },
  {
   "cell_type": "code",
   "execution_count": 15,
   "id": "8bdaf5bf",
   "metadata": {},
   "outputs": [],
   "source": [
    "payload = requests.get('https://api.github.com/repositories', params={'since':369}).content.decode('utf-8')"
   ]
  },
  {
   "cell_type": "code",
   "execution_count": 18,
   "id": "03140bea",
   "metadata": {},
   "outputs": [
    {
     "name": "stdin",
     "output_type": "stream",
     "text": [
      "Enter the repo id from which you want to get repositories:  369\n"
     ]
    }
   ],
   "source": [
    "since = int(input('Enter the repo id from which you want to get repositories: '))"
   ]
  },
  {
   "cell_type": "code",
   "execution_count": 19,
   "id": "cc971fe6",
   "metadata": {},
   "outputs": [],
   "source": [
    "payload = requests.get(f'https://api.github.com/repositories?since={since}').content.decode('utf-8')"
   ]
  },
  {
   "cell_type": "code",
   "execution_count": 20,
   "id": "c05452cf",
   "metadata": {},
   "outputs": [
    {
     "data": {
      "text/plain": [
       "str"
      ]
     },
     "execution_count": 20,
     "metadata": {},
     "output_type": "execute_result"
    }
   ],
   "source": [
    "type(payload)"
   ]
  },
  {
   "cell_type": "code",
   "execution_count": null,
   "id": "f048eabf",
   "metadata": {},
   "outputs": [],
   "source": [
    "payload # A string with valid json array"
   ]
  },
  {
   "cell_type": "markdown",
   "id": "460fcb8c",
   "metadata": {},
   "source": [
    "* We can convert `payload` which is of string type and contains valid JSON to `dict` or `list` using `json` module."
   ]
  },
  {
   "cell_type": "code",
   "execution_count": 6,
   "id": "d37eb5ca",
   "metadata": {},
   "outputs": [],
   "source": [
    "import json"
   ]
  },
  {
   "cell_type": "code",
   "execution_count": 7,
   "id": "ae13b002",
   "metadata": {},
   "outputs": [],
   "source": [
    "repos = json.loads(payload)"
   ]
  },
  {
   "cell_type": "code",
   "execution_count": null,
   "id": "738df6da",
   "metadata": {},
   "outputs": [],
   "source": [
    "repos"
   ]
  },
  {
   "cell_type": "code",
   "execution_count": 8,
   "id": "b0683964",
   "metadata": {},
   "outputs": [
    {
     "data": {
      "text/plain": [
       "list"
      ]
     },
     "execution_count": 8,
     "metadata": {},
     "output_type": "execute_result"
    }
   ],
   "source": [
    "type(repos) # type is list as the payload is valid JSON array."
   ]
  },
  {
   "cell_type": "code",
   "execution_count": 9,
   "id": "2f541688",
   "metadata": {},
   "outputs": [
    {
     "data": {
      "text/plain": [
       "100"
      ]
     },
     "execution_count": 9,
     "metadata": {},
     "output_type": "execute_result"
    }
   ],
   "source": [
    "len(repos)"
   ]
  },
  {
   "cell_type": "code",
   "execution_count": null,
   "id": "4caebab5",
   "metadata": {},
   "outputs": [],
   "source": [
    "repos[0]"
   ]
  },
  {
   "cell_type": "markdown",
   "id": "b200fc2f",
   "metadata": {},
   "source": [
    "* We can process the data further using appropriate Python modules based upon the requiements."
   ]
  },
  {
   "cell_type": "code",
   "execution_count": null,
   "id": "606b02c6",
   "metadata": {},
   "outputs": [],
   "source": [
    "for repo in repos:\n",
    "    print(repo['id'])"
   ]
  },
  {
   "cell_type": "code",
   "execution_count": null,
   "id": "3444a70b",
   "metadata": {},
   "outputs": [],
   "source": [
    "for repo in repos:\n",
    "    print(repo['name'])"
   ]
  },
  {
   "cell_type": "code",
   "execution_count": null,
   "id": "72b85759",
   "metadata": {},
   "outputs": [],
   "source": [
    "# Getting repo name and urls\n",
    "for repo in repos:\n",
    "    print(f\"{repo['name']}:{repo['url']}\")"
   ]
  },
  {
   "cell_type": "code",
   "execution_count": 24,
   "id": "4c708500",
   "metadata": {},
   "outputs": [],
   "source": [
    "repo_urls = [{'name': repo['name'], 'repo_url': repo['url']} for repo in repos]"
   ]
  },
  {
   "cell_type": "code",
   "execution_count": 25,
   "id": "1565a9dd",
   "metadata": {},
   "outputs": [
    {
     "data": {
      "text/plain": [
       "{'name': 'grit', 'repo_url': 'https://api.github.com/repos/mojombo/grit'}"
      ]
     },
     "execution_count": 25,
     "metadata": {},
     "output_type": "execute_result"
    }
   ],
   "source": [
    "repo_urls[0]"
   ]
  },
  {
   "cell_type": "code",
   "execution_count": 26,
   "id": "1bdd15a7",
   "metadata": {},
   "outputs": [],
   "source": [
    "repo_urls = list(map(lambda repo: {'name': repo['name'], 'repo_url': repo['url']}, repos))"
   ]
  },
  {
   "cell_type": "code",
   "execution_count": 27,
   "id": "e2e9bc55",
   "metadata": {},
   "outputs": [
    {
     "data": {
      "text/plain": [
       "{'name': 'grit', 'repo_url': 'https://api.github.com/repos/mojombo/grit'}"
      ]
     },
     "execution_count": 27,
     "metadata": {},
     "output_type": "execute_result"
    }
   ],
   "source": [
    "repo_urls[0]"
   ]
  },
  {
   "cell_type": "markdown",
   "id": "aae99e9a",
   "metadata": {},
   "source": [
    "Here are some of the exercises you can work on using `repos` data. Please come up with solutions using either loops or functions such as `map`, `filter` etc.\n",
    "* Get number of repositories.\n",
    "* Get repository name, url and owner type of all repositories. Each element in the new list should be of type **tuple**.\n",
    "* Get all unique or distinct owner types of the repositories. The output should be of type **list**.\n",
    "* Get number of repositories where owner type is **User**.\n",
    "* Get number of repositories where owner type is **Organization**.\n",
    "* Get number of repositories by each owner type.\n",
    "* Sort the data by owner type and then by id. Ensure that data is sorted by id as numeric."
   ]
  },
  {
   "cell_type": "code",
   "execution_count": null,
   "id": "d5043828",
   "metadata": {},
   "outputs": [],
   "source": []
  }
 ],
 "metadata": {
  "kernelspec": {
   "display_name": "Python 3",
   "language": "python",
   "name": "python3"
  },
  "language_info": {
   "codemirror_mode": {
    "name": "ipython",
    "version": 3
   },
   "file_extension": ".py",
   "mimetype": "text/x-python",
   "name": "python",
   "nbconvert_exporter": "python",
   "pygments_lexer": "ipython3",
   "version": "3.6.12"
  }
 },
 "nbformat": 4,
 "nbformat_minor": 5
}
