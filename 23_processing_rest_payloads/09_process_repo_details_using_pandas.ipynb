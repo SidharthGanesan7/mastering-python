{
 "cells": [
  {
   "cell_type": "markdown",
   "id": "3060b201",
   "metadata": {},
   "source": [
    "## Process repo details using pandas\n",
    "\n",
    "Let us take get repo details using REST GET via `requests` module or library. Once we get the repo details in the form of payload, we will also see how to convert the payload into `pandas` data frame and then process the data further.\n",
    "* Here is the code to get the details of public repositories in the form of payload using `requests`."
   ]
  },
  {
   "cell_type": "code",
   "execution_count": null,
   "id": "651b54c1",
   "metadata": {},
   "outputs": [],
   "source": [
    "import requests"
   ]
  },
  {
   "cell_type": "code",
   "execution_count": null,
   "id": "18f20fab",
   "metadata": {},
   "outputs": [],
   "source": [
    "payload = requests.get('https://api.github.com/repositories').content.decode('utf-8')"
   ]
  },
  {
   "cell_type": "code",
   "execution_count": null,
   "id": "a6933403",
   "metadata": {},
   "outputs": [],
   "source": [
    "payload # A string with valid json array"
   ]
  },
  {
   "cell_type": "markdown",
   "id": "a2ca9c71",
   "metadata": {},
   "source": [
    "* We can convert `payload` which is of string type and contains valid JSON to `dict` or `list` using `json` module."
   ]
  },
  {
   "cell_type": "code",
   "execution_count": null,
   "id": "03901838",
   "metadata": {},
   "outputs": [],
   "source": [
    "import json"
   ]
  },
  {
   "cell_type": "code",
   "execution_count": null,
   "id": "c45f5359",
   "metadata": {},
   "outputs": [],
   "source": [
    "repos = json.loads(payload)"
   ]
  },
  {
   "cell_type": "code",
   "execution_count": null,
   "id": "662c484f",
   "metadata": {},
   "outputs": [],
   "source": [
    "type(repos) # type is list as the payload is valid JSON array."
   ]
  },
  {
   "cell_type": "code",
   "execution_count": null,
   "id": "2f0cda64",
   "metadata": {},
   "outputs": [],
   "source": [
    "len(repos)"
   ]
  },
  {
   "cell_type": "markdown",
   "id": "666d2f67",
   "metadata": {},
   "source": [
    "* Now we can convert the list returned to pandas dataframe using `json_normalize`."
   ]
  },
  {
   "cell_type": "code",
   "execution_count": null,
   "id": "a6a89dfd",
   "metadata": {},
   "outputs": [],
   "source": [
    "import pandas as pd"
   ]
  },
  {
   "cell_type": "code",
   "execution_count": null,
   "id": "6770c615",
   "metadata": {},
   "outputs": [],
   "source": [
    "repos_df = pd.json_normalize(repos)"
   ]
  },
  {
   "cell_type": "code",
   "execution_count": null,
   "id": "10bd6dcd",
   "metadata": {},
   "outputs": [],
   "source": [
    "repos_df"
   ]
  },
  {
   "cell_type": "code",
   "execution_count": null,
   "id": "cfb4c52f",
   "metadata": {},
   "outputs": [],
   "source": [
    "repos_df.columns"
   ]
  },
  {
   "cell_type": "code",
   "execution_count": null,
   "id": "c969dcf6",
   "metadata": {},
   "outputs": [],
   "source": [
    "repos_df.dtypes"
   ]
  },
  {
   "cell_type": "code",
   "execution_count": null,
   "id": "7822dbf6",
   "metadata": {},
   "outputs": [],
   "source": [
    "repos_df.shape"
   ]
  },
  {
   "cell_type": "code",
   "execution_count": null,
   "id": "4c436e20",
   "metadata": {},
   "outputs": [],
   "source": [
    "repos_df.count()"
   ]
  },
  {
   "cell_type": "markdown",
   "id": "943024ea",
   "metadata": {},
   "source": [
    "Here are some of the exercises you can work on using `repos` data. You need to use `pandas` features for the same.\n",
    "* Get number of repositories.\n",
    "* Get repository name, url and owner type of all repositories. Each element in the new list should be of type **tuple**.\n",
    "* Get all unique or distinct owner types of the repositories. The output should be of type **list**.\n",
    "* Get number of repositories where owner type is **User**.\n",
    "* Get number of repositories where owner type is **Organization**.\n",
    "* Get number of repositories by each owner type.\n",
    "* Sort the data by owner type and then by id. Ensure that data is sorted by id as numeric."
   ]
  },
  {
   "cell_type": "code",
   "execution_count": null,
   "id": "eb24e1b6",
   "metadata": {},
   "outputs": [],
   "source": []
  }
 ],
 "metadata": {
  "kernelspec": {
   "display_name": "Python 3",
   "language": "python",
   "name": "python3"
  },
  "language_info": {
   "codemirror_mode": {
    "name": "ipython",
    "version": 3
   },
   "file_extension": ".py",
   "mimetype": "text/x-python",
   "name": "python",
   "nbconvert_exporter": "python",
   "pygments_lexer": "ipython3",
   "version": "3.6.12"
  }
 },
 "nbformat": 4,
 "nbformat_minor": 5
}
