{
 "cells": [
  {
   "cell_type": "markdown",
   "metadata": {},
   "source": [
    "## Methods"
   ]
  },
  {
   "cell_type": "markdown",
   "metadata": {},
   "source": [
    "- A method is a set of code that performs one or more actions\n",
    "- A method inside for a class is called a class method and can be accessed using the class or object\n",
    "- A method is created using the `def` keyword\n",
    "- With respect to how you can access a method, there are two types:\n",
    "    - Class method: A method that can accessed only through objects\n",
    "    - Static method: A method that can accessed through the class name\n",
    "- With respect to who can access a method, there are two types:\n",
    "    - Public method: Can be accessed from outside the class\n",
    "    - Private method: Can be only accessed from inside of the class\n",
    "- As a convention, the method names start with a small letter\n",
    "    \n",
    "In this chapter, we will go through these two types of functions with examples"
   ]
  },
  {
   "cell_type": "markdown",
   "metadata": {},
   "source": [
    "### Class methods\n",
    "\n",
    "- These methods are part of the class we define\n",
    "- They are also part of the objects we create and can be called using the object\n",
    "- They can be private or public\n",
    "\n",
    "From the previous explanation of OOP, the actions that an object do are the methods."
   ]
  },
  {
   "cell_type": "code",
   "execution_count": 1,
   "metadata": {},
   "outputs": [
    {
     "name": "stdout",
     "output_type": "stream",
     "text": [
      "Car color:  red\n",
      "Car model:  S\n",
      "Car initial speed:  0\n",
      "Car speed after acceleration:  6\n",
      "Car speed after braking:  4\n",
      "Car initial AC temperature:  28\n",
      "Car AC temperature after change:  22\n"
     ]
    }
   ],
   "source": [
    "class Car:\n",
    "    def __init__(self, color, model):\n",
    "        self.color = color\n",
    "        self.model = model\n",
    "        self.speed = 0\n",
    "        self.ac_temperature = 28\n",
    "        \n",
    "    # Function to accelerate the car, it increases the speed of car by 2\n",
    "    def accelerate(self):\n",
    "        self.speed = self.speed + 2\n",
    "    \n",
    "    # Function to accelerate the car, it decreases the speed of car by 2\n",
    "    def brake(self):\n",
    "        self.speed = self.speed - 2\n",
    "        \n",
    "    # Function to set the air conditioner(AC) temperature in the car\n",
    "    def set_ac_temperature(self, temp):\n",
    "        self.ac_temperature = temp\n",
    "        \n",
    "tesla = Car(\"red\", \"S\")\n",
    "print(\"Car color: \", tesla.color)\n",
    "print(\"Car model: \", tesla.model)\n",
    "print(\"Car initial speed: \", tesla.speed)\n",
    "tesla.accelerate()\n",
    "tesla.accelerate()\n",
    "tesla.accelerate()\n",
    "print(\"Car speed after acceleration: \", tesla.speed)\n",
    "tesla.brake()\n",
    "print(\"Car speed after braking: \", tesla.speed)\n",
    "print(\"Car initial AC temperature: \", tesla.ac_temperature)\n",
    "tesla.set_ac_temperature(22)\n",
    "print(\"Car AC temperature after change: \", tesla.ac_temperature)"
   ]
  },
  {
   "cell_type": "markdown",
   "metadata": {},
   "source": [
    "Observations to make from the above code:\n",
    "- `__init__` is a constructor\n",
    "- `accelerate`, `brake`, and `set_ac_temperature` are the three class methods\n",
    "- `accelerate` and `brake` are non-parameterized methods\n",
    "- `set_ac_temperature` is a parametized method\n",
    "- **Class methods have self as the first parameter**\n",
    "- These methods can be only accessed through the object of Car"
   ]
  },
  {
   "cell_type": "markdown",
   "metadata": {},
   "source": [
    "### Static methods\n",
    "\n",
    "- These are methods of a class which can be accessed by the class name\n",
    "- They are not accessible through the objects of the class\n",
    "- A method in a class can be made static using the `@staticmethod` attribute\n",
    "- They can be private or public"
   ]
  },
  {
   "cell_type": "code",
   "execution_count": 2,
   "metadata": {},
   "outputs": [
    {
     "name": "stdout",
     "output_type": "stream",
     "text": [
      "Elon Musk\n",
      "2024\n"
     ]
    }
   ],
   "source": [
    "class Car:\n",
    "    def __init__(self, color, model):\n",
    "        self.color = color\n",
    "        self.model = model\n",
    "        \n",
    "    @staticmethod\n",
    "    def current_ceo_of_the_company():\n",
    "        return \"Elon Musk\"\n",
    "    \n",
    "    @staticmethod\n",
    "    def warranty_till(year_of_purchase):\n",
    "        return year_of_purchase + 5\n",
    "    \n",
    "print(Car.current_ceo_of_the_company())\n",
    "print(Car.warranty_till(2019))"
   ]
  },
  {
   "cell_type": "markdown",
   "metadata": {},
   "source": [
    "Observations from the above code:\n",
    "- We didn't have to initialize the object of class Car to access the static methods\n",
    "- We don't pass the self object to the static methods\n",
    "- `current_ceo_of_the_company` was a non-parameterized method while `warranty_till` is a parameterized method\n",
    "- Static methods can be private or public"
   ]
  },
  {
   "cell_type": "markdown",
   "metadata": {},
   "source": [
    "### Private and public methods\n",
    "\n",
    "- Private methods are the ones that can NOT be accessed from outside of class and object\n",
    "- Private methods can only be accessed by other internal methods of a class and object\n",
    "- Private methods start with `__` (double underscore)\n",
    "- `__init__` is a private method, not accessible from outside\n",
    "- Public methods can be accessed from outside the class and object\n",
    "- Public methods can also be accessed from internal methods of a class and object"
   ]
  },
  {
   "cell_type": "code",
   "execution_count": 3,
   "metadata": {},
   "outputs": [
    {
     "name": "stdout",
     "output_type": "stream",
     "text": [
      "Initial tesla color and model:  red ,  3\n",
      "Color after change:  silver\n",
      "Model after change:  S\n"
     ]
    }
   ],
   "source": [
    "class Car:\n",
    "    def __init__(self, color, model):\n",
    "        self.color = color\n",
    "        self.model = model\n",
    "        \n",
    "    def change_color(self, new_color):\n",
    "        self.color = new_color\n",
    "        \n",
    "    def __change_model(self, new_model):\n",
    "        self.model = new_model\n",
    "        \n",
    "    def exchange_car(self, new_model):\n",
    "        self.__change_model(new_model)\n",
    "        \n",
    "tesla = Car('red', '3')\n",
    "print('Initial tesla color and model: ', tesla.color, ', ', tesla.model)\n",
    "tesla.change_color('silver')\n",
    "print('Color after change: ', tesla.color)\n",
    "tesla.exchange_car('S')\n",
    "print('Model after change: ', tesla.model)"
   ]
  },
  {
   "cell_type": "markdown",
   "metadata": {},
   "source": [
    "In the above code, the private function `__change_model` is being called by the public function `exchange_car`.\n",
    "\n",
    "Now, let's try to call the private function using the object, this should produce an error."
   ]
  },
  {
   "cell_type": "code",
   "execution_count": 4,
   "metadata": {},
   "outputs": [
    {
     "ename": "AttributeError",
     "evalue": "'Car' object has no attribute '__change_model'",
     "output_type": "error",
     "traceback": [
      "\u001b[0;31m---------------------------------------------------------------------------\u001b[0m",
      "\u001b[0;31mAttributeError\u001b[0m                            Traceback (most recent call last)",
      "\u001b[0;32m<ipython-input-4-be406e2e7d68>\u001b[0m in \u001b[0;36m<module>\u001b[0;34m\u001b[0m\n\u001b[0;32m----> 1\u001b[0;31m \u001b[0mtesla\u001b[0m\u001b[0;34m.\u001b[0m\u001b[0m__change_model\u001b[0m\u001b[0;34m(\u001b[0m\u001b[0;34m'Y'\u001b[0m\u001b[0;34m)\u001b[0m\u001b[0;34m\u001b[0m\u001b[0;34m\u001b[0m\u001b[0m\n\u001b[0m",
      "\u001b[0;31mAttributeError\u001b[0m: 'Car' object has no attribute '__change_model'"
     ]
    }
   ],
   "source": [
    "tesla.__change_model('Y')"
   ]
  },
  {
   "cell_type": "markdown",
   "metadata": {},
   "source": [
    "**The above error is expected as a private function is being called directly from outside the object**"
   ]
  }
 ],
 "metadata": {
  "kernelspec": {
   "display_name": "Python 3",
   "language": "python",
   "name": "python3"
  },
  "language_info": {
   "codemirror_mode": {
    "name": "ipython",
    "version": 3
   },
   "file_extension": ".py",
   "mimetype": "text/x-python",
   "name": "python",
   "nbconvert_exporter": "python",
   "pygments_lexer": "ipython3",
   "version": "3.6.12"
  }
 },
 "nbformat": 4,
 "nbformat_minor": 4
}
