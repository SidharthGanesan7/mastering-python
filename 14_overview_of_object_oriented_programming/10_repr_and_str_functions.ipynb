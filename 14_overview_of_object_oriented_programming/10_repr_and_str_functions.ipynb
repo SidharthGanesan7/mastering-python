{
 "cells": [
  {
   "cell_type": "markdown",
   "id": "3b7e839f",
   "metadata": {},
   "source": [
    "## repr and str functions\n",
    "\n",
    "Let us understand the relevance of `__repr__` and `__str__` functions in Python.\n",
    "* `__repr__` - complete string representation of the object\n",
    "* `__str__` - nice string for printing."
   ]
  },
  {
   "cell_type": "code",
   "execution_count": 1,
   "id": "e05608ca",
   "metadata": {},
   "outputs": [],
   "source": [
    "import datetime"
   ]
  },
  {
   "cell_type": "code",
   "execution_count": 2,
   "id": "8cf47428",
   "metadata": {},
   "outputs": [
    {
     "data": {
      "text/plain": [
       "datetime.datetime(2021, 6, 18, 11, 54, 51, 644543)"
      ]
     },
     "execution_count": 2,
     "metadata": {},
     "output_type": "execute_result"
    }
   ],
   "source": [
    "datetime.datetime.now()"
   ]
  },
  {
   "cell_type": "code",
   "execution_count": 3,
   "id": "7b9ee583",
   "metadata": {},
   "outputs": [
    {
     "data": {
      "text/plain": [
       "'datetime.datetime(2021, 6, 18, 11, 55, 5, 871699)'"
      ]
     },
     "execution_count": 3,
     "metadata": {},
     "output_type": "execute_result"
    }
   ],
   "source": [
    "repr(datetime.datetime.now())"
   ]
  },
  {
   "cell_type": "code",
   "execution_count": 4,
   "id": "00260bb2",
   "metadata": {},
   "outputs": [
    {
     "data": {
      "text/plain": [
       "'2021-06-18 11:55:10.731932'"
      ]
     },
     "execution_count": 4,
     "metadata": {},
     "output_type": "execute_result"
    }
   ],
   "source": [
    "str(datetime.datetime.now())"
   ]
  },
  {
   "cell_type": "code",
   "execution_count": 9,
   "id": "eb449287",
   "metadata": {},
   "outputs": [],
   "source": [
    "class Car:\n",
    "    def __str__(self):\n",
    "        return 'car'"
   ]
  },
  {
   "cell_type": "code",
   "execution_count": 10,
   "id": "6146bf22",
   "metadata": {},
   "outputs": [],
   "source": [
    "car = Car()"
   ]
  },
  {
   "cell_type": "code",
   "execution_count": 11,
   "id": "f6e5891d",
   "metadata": {},
   "outputs": [
    {
     "data": {
      "text/plain": [
       "<__main__.Car at 0x7f0b75298898>"
      ]
     },
     "execution_count": 11,
     "metadata": {},
     "output_type": "execute_result"
    }
   ],
   "source": [
    "car"
   ]
  },
  {
   "cell_type": "code",
   "execution_count": 12,
   "id": "74540bb4",
   "metadata": {},
   "outputs": [
    {
     "data": {
      "text/plain": [
       "'car'"
      ]
     },
     "execution_count": 12,
     "metadata": {},
     "output_type": "execute_result"
    }
   ],
   "source": [
    "str(car)"
   ]
  },
  {
   "cell_type": "code",
   "execution_count": 13,
   "id": "5de7dbf5",
   "metadata": {},
   "outputs": [
    {
     "data": {
      "text/plain": [
       "'<__main__.Car object at 0x7f0b75298898>'"
      ]
     },
     "execution_count": 13,
     "metadata": {},
     "output_type": "execute_result"
    }
   ],
   "source": [
    "repr(car)"
   ]
  },
  {
   "cell_type": "markdown",
   "id": "24b20b4a",
   "metadata": {},
   "source": [
    "Container’s `__str__` uses contained object's `__repr__`.\n",
    "* If you implement `__repr__` function with out `__str__`, then when you invoke `str` on object, `__repr__` will be invoked automatically."
   ]
  },
  {
   "cell_type": "code",
   "execution_count": 15,
   "id": "b40394ad",
   "metadata": {},
   "outputs": [],
   "source": [
    "class Bike:\n",
    "    def __repr__(self):\n",
    "        return 'bike'"
   ]
  },
  {
   "cell_type": "code",
   "execution_count": 16,
   "id": "47055b58",
   "metadata": {},
   "outputs": [],
   "source": [
    "bike = Bike()"
   ]
  },
  {
   "cell_type": "code",
   "execution_count": 18,
   "id": "a8704647",
   "metadata": {},
   "outputs": [
    {
     "data": {
      "text/plain": [
       "'bike'"
      ]
     },
     "execution_count": 18,
     "metadata": {},
     "output_type": "execute_result"
    }
   ],
   "source": [
    "str(bike)"
   ]
  },
  {
   "cell_type": "code",
   "execution_count": 19,
   "id": "304649fe",
   "metadata": {},
   "outputs": [
    {
     "data": {
      "text/plain": [
       "'bike'"
      ]
     },
     "execution_count": 19,
     "metadata": {},
     "output_type": "execute_result"
    }
   ],
   "source": [
    "repr(bike)"
   ]
  }
 ],
 "metadata": {
  "kernelspec": {
   "display_name": "Python 3",
   "language": "python",
   "name": "python3"
  },
  "language_info": {
   "codemirror_mode": {
    "name": "ipython",
    "version": 3
   },
   "file_extension": ".py",
   "mimetype": "text/x-python",
   "name": "python",
   "nbconvert_exporter": "python",
   "pygments_lexer": "ipython3",
   "version": "3.6.12"
  }
 },
 "nbformat": 4,
 "nbformat_minor": 5
}
