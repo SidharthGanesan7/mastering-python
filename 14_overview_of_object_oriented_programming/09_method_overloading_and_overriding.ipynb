{
 "cells": [
  {
   "cell_type": "markdown",
   "id": "documented-manor",
   "metadata": {},
   "source": [
    "# Method overloading and overriding"
   ]
  },
  {
   "cell_type": "markdown",
   "id": "powered-singer",
   "metadata": {},
   "source": [
    "Now that we know Inheritence and polymorphism, let's dive in a bit into how we can leverage the methods we create to perform efficient computations.\n",
    "- Method overloading and overriding are important concepts that contribute to better code quality and unambiguous naming conventions\n",
    "- Method overloading is to have a two or more methods with a same name but a difference in their parameter or return types\n",
    "    - This cannot be natively done in python due to the interpreted nature of it. So, we use the package `multipledispatch`.\n",
    "    - Method overloading is an example of compile time polymorphism\n",
    "- Method overriding is override (or overpower) a function from a parent when we inerit a class\n",
    "    - This can be done in python without any supporting packages\n",
    "    - Method overriding is an example of run time polymorphism"
   ]
  },
  {
   "cell_type": "code",
   "execution_count": 1,
   "id": "ready-antenna",
   "metadata": {},
   "outputs": [],
   "source": [
    "from multipledispatch import dispatch"
   ]
  },
  {
   "cell_type": "markdown",
   "id": "residential-captain",
   "metadata": {},
   "source": [
    "Below is an example where we create two methods with a same name, the only difference is the number of parameters. Using the dispatch attribute(`@dispatch`) of the `multipledispatch` package, we specify the type and number of parameters that each function takes. When we call the same method with different parameters, different functions occur"
   ]
  },
  {
   "cell_type": "code",
   "execution_count": 2,
   "id": "opening-aging",
   "metadata": {},
   "outputs": [
    {
     "name": "stdout",
     "output_type": "stream",
     "text": [
      "Adding 1 and 2:  3\n",
      "Adding 1, 2, and 3:  6\n"
     ]
    }
   ],
   "source": [
    "@dispatch(int, int)\n",
    "def add(a, b):\n",
    "    return a + b\n",
    "\n",
    "@dispatch(int, int, int)\n",
    "def add(a, b, c):\n",
    "    return a + b + c\n",
    "\n",
    "print(\"Adding 1 and 2: \", add(1, 2))\n",
    "print(\"Adding 1, 2, and 3: \", add(1, 2, 3))"
   ]
  },
  {
   "cell_type": "markdown",
   "id": "introductory-charge",
   "metadata": {},
   "source": [
    "Let's try this out within a class"
   ]
  },
  {
   "cell_type": "code",
   "execution_count": 3,
   "id": "official-librarian",
   "metadata": {},
   "outputs": [
    {
     "name": "stdout",
     "output_type": "stream",
     "text": [
      "Multiplication of 3 and 4:  12.0\n",
      "Multiplication of 3, 4, and 5:  60.0\n"
     ]
    }
   ],
   "source": [
    "class Operation:\n",
    "    @dispatch(float, float)\n",
    "    def mul(self, a, b):\n",
    "        return a * b\n",
    "    @dispatch(float, float, float)\n",
    "    def mul(self, a, b, c):\n",
    "        return a * b * c\n",
    "    \n",
    "obj = Operation()\n",
    "print(\"Multiplication of 3 and 4: \", obj.mul(3.0, 4.0))\n",
    "print(\"Multiplication of 3, 4, and 5: \", obj.mul(3.0, 4.0, 5.0))"
   ]
  },
  {
   "cell_type": "markdown",
   "id": "empirical-india",
   "metadata": {},
   "source": [
    "Now, lets take a look at overriding.\n",
    "- In method overriding, the main change happens in the child class\n",
    "- As you can observe below, the `add` method is overriden in the `Child` class by defining a new function\n",
    "- When we create an object of Child class and call the add method, the overriden method gets called and not the add method in the parent\n"
   ]
  },
  {
   "cell_type": "code",
   "execution_count": 4,
   "id": "still-growth",
   "metadata": {},
   "outputs": [
    {
     "name": "stdout",
     "output_type": "stream",
     "text": [
      "Add in parent:  3\n",
      "Add in child:  6\n",
      "---------------------------\n",
      "Multiplication in parent:  12\n",
      "Multiplication in child:  12\n"
     ]
    }
   ],
   "source": [
    "class Parent:\n",
    "    def add(self, a, b):\n",
    "        return a + b\n",
    "    def mul(self, a, b):\n",
    "        return a * b\n",
    "    \n",
    "class Child(Parent):\n",
    "    def add(self, a, b, c):\n",
    "        return a + b + c\n",
    "    \n",
    "obj_parent = Parent()\n",
    "obj_child = Child()\n",
    "\n",
    "print(\"Add in parent: \", obj_parent.add(1, 2))\n",
    "print(\"Add in child: \", obj_child.add(1, 2, 3))\n",
    "print(\"---------------------------\")\n",
    "print(\"Multiplication in parent: \", obj_parent.mul(3, 4))\n",
    "print(\"Multiplication in child: \", obj_child.mul(3, 4))"
   ]
  },
  {
   "cell_type": "markdown",
   "id": "interesting-cookie",
   "metadata": {},
   "source": [
    "Now, let's try the same with a multiple inheritence."
   ]
  },
  {
   "cell_type": "code",
   "execution_count": 5,
   "id": "alternative-reliance",
   "metadata": {},
   "outputs": [
    {
     "name": "stdout",
     "output_type": "stream",
     "text": [
      "Addition:  5\n",
      "Multiplication:  6\n",
      "Division:  1.5\n",
      "Modulus:  2\n"
     ]
    }
   ],
   "source": [
    "class Parent1:\n",
    "    def add(self, a, b):\n",
    "        return a + b\n",
    "    def mul(self, a, b):\n",
    "        return a * b\n",
    "    \n",
    "class Parent2:\n",
    "    def div(self, a, b):\n",
    "        return a / b\n",
    "    def mod(self, a, b):\n",
    "        return a % b\n",
    "    \n",
    "class Child(Parent1, Parent2):\n",
    "    def add(self, a, b):\n",
    "        return a + b\n",
    "    def div(self, a, b):\n",
    "        return b / a\n",
    "    \n",
    "obj_child = Child()\n",
    "print(\"Addition: \", obj_child.add(2, 3))\n",
    "print(\"Multiplication: \", obj_child.mul(2, 3))\n",
    "print(\"Division: \", obj_child.div(2, 3))\n",
    "print(\"Modulus: \", obj_child.mod(2, 3))"
   ]
  }
 ],
 "metadata": {
  "kernelspec": {
   "display_name": "Python 3",
   "language": "python",
   "name": "python3"
  },
  "language_info": {
   "codemirror_mode": {
    "name": "ipython",
    "version": 3
   },
   "file_extension": ".py",
   "mimetype": "text/x-python",
   "name": "python",
   "nbconvert_exporter": "python",
   "pygments_lexer": "ipython3",
   "version": "3.6.12"
  }
 },
 "nbformat": 4,
 "nbformat_minor": 5
}
