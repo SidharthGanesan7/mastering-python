{
 "cells": [
  {
   "cell_type": "markdown",
   "id": "b1bcadf1",
   "metadata": {},
   "source": [
    "## Getting Started with requests\n",
    "\n",
    "Let us get started with requests module. You might have to install `requests` using `pip`.\n",
    "* `requests` is part of many other 3rd party libraries. You can check whether it is already installed or not."
   ]
  },
  {
   "cell_type": "code",
   "execution_count": null,
   "id": "d45a5ba1",
   "metadata": {},
   "outputs": [],
   "source": [
    "!pip list|grep requests"
   ]
  },
  {
   "cell_type": "markdown",
   "id": "3d6a80a9",
   "metadata": {},
   "source": [
    "* You need to import before you start using it as part of your Python program."
   ]
  },
  {
   "cell_type": "code",
   "execution_count": null,
   "id": "697b18cd",
   "metadata": {},
   "outputs": [],
   "source": [
    "import requests"
   ]
  },
  {
   "cell_type": "markdown",
   "id": "e3a2fc36",
   "metadata": {},
   "source": [
    "* Here are some of the important functions from `requests` module we use on regular basis. The below functions are to support common REST API calls."
   ]
  },
  {
   "cell_type": "code",
   "execution_count": null,
   "id": "167bd29c",
   "metadata": {},
   "outputs": [],
   "source": [
    "requests.get?"
   ]
  },
  {
   "cell_type": "code",
   "execution_count": null,
   "id": "4a55db89",
   "metadata": {},
   "outputs": [],
   "source": [
    "requests.post?"
   ]
  },
  {
   "cell_type": "code",
   "execution_count": null,
   "id": "bf3a2a22",
   "metadata": {},
   "outputs": [],
   "source": [
    "requests.put?"
   ]
  },
  {
   "cell_type": "code",
   "execution_count": null,
   "id": "908a4553",
   "metadata": {},
   "outputs": [],
   "source": [
    "requests.delete?"
   ]
  },
  {
   "cell_type": "markdown",
   "id": "a42c5e3f",
   "metadata": {},
   "source": [
    "* As part of the Data Engineering projects, we typically read the data from REST APIs. It means we will be using functions such as `requests.get` more often than others.\n",
    "* Here is a quick example. We will deep dive as part of subsequent topics."
   ]
  },
  {
   "cell_type": "code",
   "execution_count": null,
   "id": "0c568d22",
   "metadata": {},
   "outputs": [],
   "source": [
    "import requests"
   ]
  },
  {
   "cell_type": "code",
   "execution_count": null,
   "id": "c00e9a2b",
   "metadata": {},
   "outputs": [],
   "source": [
    "gitapi = requests.get('https://api.github.com').content.decode('utf-8')"
   ]
  },
  {
   "cell_type": "code",
   "execution_count": null,
   "id": "0c66debb",
   "metadata": {},
   "outputs": [],
   "source": [
    "gitapi # It is of type string. This string is a valid JSON"
   ]
  }
 ],
 "metadata": {
  "kernelspec": {
   "display_name": "Python 3",
   "language": "python",
   "name": "python3"
  },
  "language_info": {
   "codemirror_mode": {
    "name": "ipython",
    "version": 3
   },
   "file_extension": ".py",
   "mimetype": "text/x-python",
   "name": "python",
   "nbconvert_exporter": "python",
   "pygments_lexer": "ipython3",
   "version": "3.6.12"
  }
 },
 "nbformat": 4,
 "nbformat_minor": 5
}
