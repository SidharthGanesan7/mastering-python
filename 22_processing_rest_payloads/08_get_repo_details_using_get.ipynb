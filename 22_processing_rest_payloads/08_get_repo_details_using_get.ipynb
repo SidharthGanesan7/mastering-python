{
 "cells": [
  {
   "cell_type": "markdown",
   "id": "e97f332e",
   "metadata": {},
   "source": [
    "## Get repo details using Get\n",
    "\n",
    "Let us take get repo details using REST GET via `requests` module or library.\n",
    "* We can get details about all the public repositories using `GET /repositories` from **https://api.github.com**.\n",
    "* As it is getting or reading data from external application the details are available via `GET`.\n",
    "* Here is an example using `curl` command."
   ]
  },
  {
   "cell_type": "code",
   "execution_count": null,
   "id": "edbc5e44",
   "metadata": {},
   "outputs": [],
   "source": [
    "!curl https://api.github.com/repositories"
   ]
  },
  {
   "cell_type": "markdown",
   "id": "d37c09f9",
   "metadata": {},
   "source": [
    "* We can get the payload of public repositories using `requests.get`.\n",
    "* The `content` attribute of response object returned will contain payload.\n",
    "* The data type of the payload is `bytes`.\n",
    "* We can decode the payload to string using `decode('utf-8')`."
   ]
  },
  {
   "cell_type": "code",
   "execution_count": null,
   "id": "a814ab26",
   "metadata": {},
   "outputs": [],
   "source": [
    "import requests"
   ]
  },
  {
   "cell_type": "code",
   "execution_count": null,
   "id": "03786861",
   "metadata": {},
   "outputs": [],
   "source": [
    "payload = requests.get('https://api.github.com/repositories').content.decode('utf-8')"
   ]
  },
  {
   "cell_type": "code",
   "execution_count": null,
   "id": "c5e96a0e",
   "metadata": {},
   "outputs": [],
   "source": [
    "type(payload)"
   ]
  },
  {
   "cell_type": "code",
   "execution_count": null,
   "id": "16ac5de7",
   "metadata": {},
   "outputs": [],
   "source": [
    "payload # A string with valid json array"
   ]
  },
  {
   "cell_type": "markdown",
   "id": "328e84b0",
   "metadata": {},
   "source": [
    "* We can convert `payload` which is of string type and contains valid JSON to `dict` or `list` using `json` module."
   ]
  },
  {
   "cell_type": "code",
   "execution_count": null,
   "id": "e583e1a6",
   "metadata": {},
   "outputs": [],
   "source": [
    "import json"
   ]
  },
  {
   "cell_type": "code",
   "execution_count": null,
   "id": "ac409fa9",
   "metadata": {},
   "outputs": [],
   "source": [
    "repos = json.loads(payload)"
   ]
  },
  {
   "cell_type": "code",
   "execution_count": null,
   "id": "1b246ba3",
   "metadata": {},
   "outputs": [],
   "source": [
    "type(repos) # type is list as the payload is valid JSON array."
   ]
  },
  {
   "cell_type": "code",
   "execution_count": null,
   "id": "326cb741",
   "metadata": {},
   "outputs": [],
   "source": [
    "len(repos)"
   ]
  },
  {
   "cell_type": "code",
   "execution_count": null,
   "id": "13adb6f5",
   "metadata": {},
   "outputs": [],
   "source": [
    "repos[0]"
   ]
  },
  {
   "cell_type": "markdown",
   "id": "ac74feab",
   "metadata": {},
   "source": [
    "* We can process the data further using appropriate Python modules based upon the requiements."
   ]
  },
  {
   "cell_type": "code",
   "execution_count": null,
   "id": "eb3eb74c",
   "metadata": {},
   "outputs": [],
   "source": [
    "for repo in repos:\n",
    "    print(repo['name'])"
   ]
  },
  {
   "cell_type": "code",
   "execution_count": null,
   "id": "c2c60112",
   "metadata": {},
   "outputs": [],
   "source": [
    "# Getting repo name and urls\n",
    "for repo in repos:\n",
    "    print(f\"{repo['name']}:{repo['url']}\")"
   ]
  },
  {
   "cell_type": "code",
   "execution_count": null,
   "id": "1a007700",
   "metadata": {},
   "outputs": [],
   "source": [
    "repo_urls = [{'name': repo['name'], 'repo_url': repo['url']} for repo in repos]"
   ]
  },
  {
   "cell_type": "code",
   "execution_count": null,
   "id": "5f452b8c",
   "metadata": {},
   "outputs": [],
   "source": [
    "repo_urls[0]"
   ]
  },
  {
   "cell_type": "code",
   "execution_count": null,
   "id": "b6ded363",
   "metadata": {},
   "outputs": [],
   "source": [
    "repo_urls = list(map(lambda repo: {'name': repo['name'], 'repo_url': repo['url']}, repos))"
   ]
  },
  {
   "cell_type": "code",
   "execution_count": null,
   "id": "9c12df48",
   "metadata": {},
   "outputs": [],
   "source": [
    "repo_urls[0]"
   ]
  },
  {
   "cell_type": "markdown",
   "id": "9e02051d",
   "metadata": {},
   "source": [
    "Here are some of the exercises you can work on using `repos` data.\n",
    "* Get number of repositories.\n",
    "* Get repository name, url and owner type of all repositories. Each element in the new list should be of type **tuple**.\n",
    "* Get all unique or distinct owner types of the repositories. The output should be of type **list**.\n",
    "* Get number of repositories where owner type is **User**.\n",
    "* Get number of repositories where owner type is **Organization**.\n",
    "* Get number of repositories by each owner type.\n",
    "* Sort the data by owner type and then by id. Ensure that data is sorted by id as numeric."
   ]
  }
 ],
 "metadata": {
  "kernelspec": {
   "display_name": "Python 3",
   "language": "python",
   "name": "python3"
  },
  "language_info": {
   "codemirror_mode": {
    "name": "ipython",
    "version": 3
   },
   "file_extension": ".py",
   "mimetype": "text/x-python",
   "name": "python",
   "nbconvert_exporter": "python",
   "pygments_lexer": "ipython3",
   "version": "3.6.12"
  }
 },
 "nbformat": 4,
 "nbformat_minor": 5
}
