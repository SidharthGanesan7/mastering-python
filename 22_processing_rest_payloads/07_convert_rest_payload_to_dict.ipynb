{
 "cells": [
  {
   "cell_type": "markdown",
   "id": "3d362465",
   "metadata": {},
   "source": [
    "## Convert REST Payload to dict\n",
    "\n",
    "Let us understand how we can convert REST Get Payload to `dict`.\n",
    "* We have already seen that the `payload` is of type `str`. Also, it contains valid `json`."
   ]
  },
  {
   "cell_type": "code",
   "execution_count": null,
   "id": "fcd97ce3",
   "metadata": {},
   "outputs": [],
   "source": [
    "import requests"
   ]
  },
  {
   "cell_type": "code",
   "execution_count": null,
   "id": "bd57e0fe",
   "metadata": {},
   "outputs": [],
   "source": [
    "payload = requests.get('https://api.github.com').content.decode('utf-8')"
   ]
  },
  {
   "cell_type": "code",
   "execution_count": null,
   "id": "73959fb8",
   "metadata": {},
   "outputs": [],
   "source": [
    "payload # A string with valid json"
   ]
  },
  {
   "cell_type": "markdown",
   "id": "fe2ecc5b",
   "metadata": {},
   "source": [
    "* For this simple JSON, we can use `json` module to convert to dict.\n",
    "* We can pass `payload` to `json.loads` to convert the payload to dict."
   ]
  },
  {
   "cell_type": "code",
   "execution_count": null,
   "id": "e581a046",
   "metadata": {},
   "outputs": [],
   "source": [
    "import json"
   ]
  },
  {
   "cell_type": "code",
   "execution_count": null,
   "id": "324512cd",
   "metadata": {},
   "outputs": [],
   "source": [
    "payload_dict = json.loads(payload)"
   ]
  },
  {
   "cell_type": "code",
   "execution_count": null,
   "id": "b503a65f",
   "metadata": {},
   "outputs": [],
   "source": [
    "type(payload_dict)"
   ]
  },
  {
   "cell_type": "code",
   "execution_count": null,
   "id": "2c53a294",
   "metadata": {},
   "outputs": [],
   "source": [
    "payload_dict # It is of type dict"
   ]
  },
  {
   "cell_type": "code",
   "execution_count": null,
   "id": "860776d0",
   "metadata": {},
   "outputs": [],
   "source": [
    "payload_dict.keys()"
   ]
  },
  {
   "cell_type": "code",
   "execution_count": null,
   "id": "daaea75d",
   "metadata": {},
   "outputs": [],
   "source": [
    "payload_dict.values()"
   ]
  },
  {
   "cell_type": "code",
   "execution_count": null,
   "id": "358876de",
   "metadata": {},
   "outputs": [],
   "source": [
    "payload_dict['current_user_url']"
   ]
  },
  {
   "cell_type": "code",
   "execution_count": null,
   "id": "c52821db",
   "metadata": {},
   "outputs": [],
   "source": []
  }
 ],
 "metadata": {
  "kernelspec": {
   "display_name": "Python 3",
   "language": "python",
   "name": "python3"
  },
  "language_info": {
   "codemirror_mode": {
    "name": "ipython",
    "version": 3
   },
   "file_extension": ".py",
   "mimetype": "text/x-python",
   "name": "python",
   "nbconvert_exporter": "python",
   "pygments_lexer": "ipython3",
   "version": "3.6.12"
  }
 },
 "nbformat": 4,
 "nbformat_minor": 5
}
