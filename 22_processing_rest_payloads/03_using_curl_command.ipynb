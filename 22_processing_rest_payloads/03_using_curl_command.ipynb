{
 "cells": [
  {
   "cell_type": "markdown",
   "id": "0d61ef92",
   "metadata": {},
   "source": [
    "## Using curl command\n",
    "\n",
    "Let us understand how we can use curl command to place REST requests to get the response from the external applications."
   ]
  },
  {
   "cell_type": "code",
   "execution_count": null,
   "id": "e50783af",
   "metadata": {},
   "outputs": [],
   "source": []
  }
 ],
 "metadata": {
  "kernelspec": {
   "display_name": "Python 3",
   "language": "python",
   "name": "python3"
  },
  "language_info": {
   "codemirror_mode": {
    "name": "ipython",
    "version": 3
   },
   "file_extension": ".py",
   "mimetype": "text/x-python",
   "name": "python",
   "nbconvert_exporter": "python",
   "pygments_lexer": "ipython3",
   "version": "3.6.12"
  }
 },
 "nbformat": 4,
 "nbformat_minor": 5
}
