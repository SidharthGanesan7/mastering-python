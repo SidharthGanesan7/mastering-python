{
 "cells": [
  {
   "cell_type": "markdown",
   "id": "62bdc241",
   "metadata": {},
   "source": [
    "## Decipher REST GET using requests\n",
    "\n",
    "Let us decipher the response returned by REST GET API call using requests.\n",
    "* `requests.get` returns `requests.models.Response` type object."
   ]
  },
  {
   "cell_type": "code",
   "execution_count": null,
   "id": "5bbcd210",
   "metadata": {},
   "outputs": [],
   "source": [
    "import requests"
   ]
  },
  {
   "cell_type": "code",
   "execution_count": null,
   "id": "69f77b1f",
   "metadata": {},
   "outputs": [],
   "source": [
    "requests.get('https://api.github.com')"
   ]
  },
  {
   "cell_type": "code",
   "execution_count": null,
   "id": "ef1a7545",
   "metadata": {},
   "outputs": [],
   "source": [
    "type(requests.get('https://api.github.com'))"
   ]
  },
  {
   "cell_type": "markdown",
   "id": "c076a57c",
   "metadata": {},
   "source": [
    "* `requests.models.Response` contains an attribute by name `content`. The type of content attribute is `bytes`"
   ]
  },
  {
   "cell_type": "code",
   "execution_count": null,
   "id": "17d5b63f",
   "metadata": {},
   "outputs": [],
   "source": [
    "requests.get('https://api.github.com').content"
   ]
  },
  {
   "cell_type": "code",
   "execution_count": null,
   "id": "8ce506c3",
   "metadata": {},
   "outputs": [],
   "source": [
    "type(requests.get('https://api.github.com').content)"
   ]
  },
  {
   "cell_type": "markdown",
   "id": "aea31136",
   "metadata": {},
   "source": [
    "* Let us quickly review how to convert bytes which have alpha numeric characters to string. `bytes` have a function called as `decode` which can be used to convert `bytes` to `str` type."
   ]
  },
  {
   "cell_type": "code",
   "execution_count": null,
   "id": "e82a2c46",
   "metadata": {},
   "outputs": [],
   "source": [
    "b = b'Hello'"
   ]
  },
  {
   "cell_type": "code",
   "execution_count": null,
   "id": "60238c3c",
   "metadata": {},
   "outputs": [],
   "source": [
    "type(b) # If byte stream contains only alpha numeric characters, we should be able to decode to string type"
   ]
  },
  {
   "cell_type": "code",
   "execution_count": null,
   "id": "b05ce661",
   "metadata": {},
   "outputs": [],
   "source": [
    "b.decode('utf-8')"
   ]
  },
  {
   "cell_type": "code",
   "execution_count": null,
   "id": "1b969c2c",
   "metadata": {},
   "outputs": [],
   "source": [
    "type(b.decode('utf-8'))"
   ]
  },
  {
   "cell_type": "markdown",
   "id": "a3423a88",
   "metadata": {},
   "source": [
    "* As `requests.get('https://api.github.com').content` return `bytes` type, we should be able to use `decode` to convert the string. Most of the REST API responses can be decoded to strings (unless the websites are developed for other languages)"
   ]
  },
  {
   "cell_type": "code",
   "execution_count": null,
   "id": "4735b200",
   "metadata": {},
   "outputs": [],
   "source": [
    "requests.get('https://api.github.com').content.decode('utf-8')"
   ]
  },
  {
   "cell_type": "markdown",
   "id": "0e5dcc93",
   "metadata": {},
   "source": [
    "* Assigning decoded string to a variable `payload`"
   ]
  },
  {
   "cell_type": "code",
   "execution_count": null,
   "id": "8da0edac",
   "metadata": {},
   "outputs": [],
   "source": [
    "payload = requests.get('https://api.github.com').content.decode('utf-8')"
   ]
  },
  {
   "cell_type": "code",
   "execution_count": null,
   "id": "04c2d316",
   "metadata": {},
   "outputs": [],
   "source": [
    "type(payload) # It is of type str and the string contain valid JSON structure"
   ]
  },
  {
   "cell_type": "markdown",
   "id": "4ab35124",
   "metadata": {},
   "source": [
    "* We can further process this payload using appropriate APIs as per our requirements.\n",
    "* As the payload contain valid JSON structure, we can use either `json` or `pandas` or both to process the data in JSON structure further."
   ]
  },
  {
   "cell_type": "code",
   "execution_count": null,
   "id": "92ce066a",
   "metadata": {},
   "outputs": [],
   "source": []
  }
 ],
 "metadata": {
  "kernelspec": {
   "display_name": "Python 3",
   "language": "python",
   "name": "python3"
  },
  "language_info": {
   "codemirror_mode": {
    "name": "ipython",
    "version": 3
   },
   "file_extension": ".py",
   "mimetype": "text/x-python",
   "name": "python",
   "nbconvert_exporter": "python",
   "pygments_lexer": "ipython3",
   "version": "3.6.12"
  }
 },
 "nbformat": 4,
 "nbformat_minor": 5
}
