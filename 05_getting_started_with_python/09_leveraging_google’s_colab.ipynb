{
 "cells": [
  {
   "cell_type": "markdown",
   "metadata": {},
   "source": [
    "## Leveraging Google’s Colab\n",
    "\n",
    "Google's colab is a free yet powerful Python based environment which can be leveraged for practice.\n",
    "* You can import these Python Notebooks into Colab.\n",
    "* You might have to make some changes to the code in some cases to execute in colab environment.\n",
    "* One can interact with Operating System using Jupyter based interface in Colab.\n",
    "* All libraries that are missing can easily be installed in Colab environment."
   ]
  },
  {
   "cell_type": "markdown",
   "metadata": {},
   "source": [
    "### Tasks\n",
    "Here are the tasks that need to be performed to get comfortable with Colab.\n",
    "* Signing up to colab\n",
    "* Creating new notebook and running code\n",
    "* Importing notebooks from Git and validate them\n",
    "* Uploadng Datasets or accessing from Google Drive\n",
    "* Uploading new notebook using Colab\n",
    "* Installing missing libraries\n",
    "* Running OS commands"
   ]
  },
  {
   "cell_type": "markdown",
   "metadata": {},
   "source": []
  },
  {
   "cell_type": "markdown",
   "metadata": {},
   "source": [
    "### Tasks\n",
    "Here are the tasks that need to be performed to get comfortable with Colab.\n",
    "* Signing up to colab\n",
    "* Creating new notebook and running code\n",
    "* Importing notebooks from Git and validate them\n",
    "* Uploadng Datasets or accessing from Google Drive\n",
    "* Uploading new notebook using Colab\n",
    "* Installing missing libraries\n",
    "* Running OS commands"
   ]
  }
 ],
 "metadata": {
  "kernelspec": {
   "display_name": "Python 3",
   "language": "python",
   "name": "python3"
  },
  "language_info": {
   "codemirror_mode": {
    "name": "ipython",
    "version": 3
   },
   "file_extension": ".py",
   "mimetype": "text/x-python",
   "name": "python",
   "nbconvert_exporter": "python",
   "pygments_lexer": "ipython3",
   "version": "3.8.5"
  }
 },
 "nbformat": 4,
 "nbformat_minor": 4
}
