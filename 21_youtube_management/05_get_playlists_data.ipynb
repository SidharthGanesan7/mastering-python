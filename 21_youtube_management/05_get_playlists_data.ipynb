{
 "cells": [
  {
   "cell_type": "markdown",
   "metadata": {},
   "source": [
    "## Get Playlists Data\n",
    "\n",
    "Let us understand how to get YouTube Playlists Data using Python as programming language using REST APIs.\n",
    "\n",
    "Here are the steps involved in getting the data.\n",
    "* Make sure to get the token and build **youtube** object.\n",
    "* We can get list of playlists using `youtube.playlists().list` with appropriate arguments.\n",
    "* As per the table structure below we want playlist id, title, description, video count and privacy status.\n",
    "  * Playlist id, title and description comes from snippet part.\n",
    "  * Count comes from contentDetails part.\n",
    "  * Privacy Status comes from status part.\n",
    "* We need to pass all the 3 parts to part argument for `youtube.playlists().list` along with channel id.\n",
    "\n",
    "```python\n",
    "playlists = youtube.playlists().list(\n",
    "    part='snippet,contentDetails,status',\n",
    "    channelId='UCakdSIPsJqiOLqylgoYmwQg'\n",
    ").execute()\n",
    "```\n",
    "\n",
    "* YouTube APIs return at max 50 results. We need to capture nextToken and invoke `list` function to get next 50 results.\n",
    "\n",
    "```python\n",
    "nextPageToken = None\n",
    "playlist_details = []\n",
    "while True:\n",
    "    playlists = youtube.playlists().list(\n",
    "        part = 'snippet,contentDetails,status',\n",
    "        channelId='UCakdSIPsJqiOLqylgoYmwQg',\n",
    "        pageToken = nextPageToken,\n",
    "        maxResults = 50\n",
    "    ).execute()\n",
    "\n",
    "    for item in playlists['items']:\n",
    "        playlist_details.append(\n",
    "            (\n",
    "                item['id'], item['snippet']['title'], \n",
    "                item['snippet']['description'],\n",
    "                item['contentDetails']['itemCount'], \n",
    "                item['status']['privacyStatus']\n",
    "            )\n",
    "        )\n",
    "\n",
    "    nextPageToken = playlists.get('nextPageToken')\n",
    "    if not nextPageToken:\n",
    "        break\n",
    "```\n",
    "\n",
    "### Playlists Table Structure\n",
    "\n",
    "Here are the fields we have as part of playlists table.\n",
    "\n",
    "|Column Name|Data Type|\n",
    "|---|---|\n",
    "|playlist_id|VARCHAR(50)|\n",
    "|playlist_title|VARCHAR(200)|\n",
    "|playlist_description|VARCHAR(5000)|\n",
    "|playlist_video_count|INT|\n",
    "|playlist_privacy_status|VARCHAR(30)|"
   ]
  },
  {
   "cell_type": "code",
   "execution_count": 1,
   "metadata": {},
   "outputs": [
    {
     "name": "stdout",
     "output_type": "stream",
     "text": [
      "Please visit this URL to authorize this application: https://accounts.google.com/o/oauth2/auth?response_type=code&client_id=684254837377-fgfrvlp2d6sml1975u58c9q6osj79tkt.apps.googleusercontent.com&redirect_uri=urn%3Aietf%3Awg%3Aoauth%3A2.0%3Aoob&scope=https%3A%2F%2Fwww.googleapis.com%2Fauth%2Fyoutube&state=giF9jO3nmSy8mnWR2DkUrfajJYJzT6&prompt=consent&access_type=offline\n"
     ]
    },
    {
     "name": "stdin",
     "output_type": "stream",
     "text": [
      "Enter the authorization code:  4/1AY0e-g5SGAxZ7h8lRYN6_XQVhU-TdY2bTimoRQCP6m_XlgvZ1ZiyHV2UZUk\n"
     ]
    }
   ],
   "source": [
    "%run 03_configure_youtube_apis.ipynb    "
   ]
  },
  {
   "cell_type": "code",
   "execution_count": 2,
   "metadata": {},
   "outputs": [
    {
     "data": {
      "text/plain": [
       "<googleapiclient.discovery.Resource at 0x7f64b55d7860>"
      ]
     },
     "execution_count": 2,
     "metadata": {},
     "output_type": "execute_result"
    }
   ],
   "source": [
    "youtube"
   ]
  },
  {
   "cell_type": "code",
   "execution_count": 3,
   "metadata": {},
   "outputs": [],
   "source": [
    "playlists = youtube.playlists().list(\n",
    "    part='snippet,contentDetails,status',\n",
    "    channelId=channel_id\n",
    ").execute()"
   ]
  },
  {
   "cell_type": "code",
   "execution_count": 4,
   "metadata": {},
   "outputs": [
    {
     "data": {
      "text/plain": [
       "{'kind': 'youtube#playlist',\n",
       " 'etag': 'ynWeVSyUjJ5BHb9dRC9cRtQoFXw',\n",
       " 'id': 'PLf0swTFhTI8rkH4yIfoyTAheEGjWIRtPG',\n",
       " 'snippet': {'publishedAt': '2020-12-21T13:06:58Z',\n",
       "  'channelId': 'UCakdSIPsJqiOLqylgoYmwQg',\n",
       "  'title': 'Mastering Python - A Comprehensive Python Course for beginners and experienced developers',\n",
       "  'description': 'This course is primarily designed to learn Python as Programming language to build web or mobile applications, data engineering applications, automation etc.\\n\\nYou can access the code and material along with the videos over https://python.itversity.com\\n\\nAbout Python\\n\\nPython is one of the leading programming language. It is an open source database and used for different types of applications.\\n\\n* Web Applications\\n* Mobile Applications\\n* Data Engineering Applications\\n* Server Automation\\n* Troubleshooting and Debugging\\n* Quality Assurance\\n* Data Science based Applications\\nand many many more\\n\\nIt is one of the top 3 programming languages for almost a decade now along with Java and Java Script.\\n\\nCourse Details\\n\\nThis course is primarily designed to go through core programming using Python. It will serve as foundation for role specific courses for different types of IT Professionals or Roles. As part of this course you will be learning the following topics under core programming using Python. We are actively working on creating content. Content creation for 80% of the below modules is already done. We are in the process of video editing so that we can publish the content as part of this course.\\n\\n* Overview of GCP and Setup Ubuntu VM\\n* Setup Postgres DB using Docker\\n* Postgres Database Operations - Basic DDL and DML\\n* Getting Started with Python\\n* Basic Programming Constructs\\n* Pre Defined Functions\\n* User Defined Functions\\n* Overview of Collections - list and set\\n* Overview of Collections - dict and tuple\\n* Manipulating Collections using loops\\n* Overview of Map Reduce Libraries\\n* Overview of Pandas Libraries\\n* Database Programming - CRUD Operations\\n* Database Programming - Batch Operations\\n* Desired Audience\\n\\nHere are the desired audience for this course.\\n\\n* College students and entry level professionals to get hands on expertise with respect to programming using Python to be prepared for the interviews.\\n* Experienced application developers to understand key aspects of Python Programming to build Python based Web or Mobile Applications.\\n* Data Engineers and Data Warehouse Developers to understand key aspects of Python Programming to build batch or streaming pipelines.\\n* Testers to improve their scripting abilities to validate data in the files tables etc.\\n* DevOps Engineers, System Administrators, Database Administrators etc to understand Python as scripting language for the automation of day to day tasks.\\n* Data Scientists to be proficient in Python Programming to build the models.\\n\\nThis course only covers Fundamentals of Python which is useful for almost all the hands on technical roles. It does not include the role specific libraries.\\n\\nPrerequisites\\n\\nHere are the prerequisites before signing up for the course.\\n\\nLogistics\\n* Computer with decent configuration\\n* At least 4 GB RAM\\n* 8 GB RAM is highly desired\\n* Browser such as Chrome, Internet Explorer, Firefox etc.\\n( High Speed Internet\\n\\nDesired Skills\\n\\n* Engineering or Science Degree\\n* Ability to use computer\\n* Knowledge or working experience with programming is highly desired\\n\\nTraining Approach\\n\\nHere are the details related to the training approach.\\n\\n* It is self paced with reference material, code snippets and videos.\\n* One can either use environment provided by us or setup their own environment using GCP and Docker.\\n* Modules will be published as and when they are ready. We would recommend to complete 2 modules every week by spending 4 to 5 hours per week.\\n\\nIt is highly recommended to take care of the exercises at the end to ensure that you are able to meet all the key objectives for each module.\\n* Support will be provided either through chat or email.\\n* Spend 4 to 5 hours per week up to 8 weeks and complete all the exercises to get best out of this course.\\n\\nSelf Evaluation\\n\\nThe course is designed in such a way that one can self evaluate through the course and confirm whether the skills are acquired.\\n\\nHere is the approach we recommend you to take this course.\\n\\nGo through the consolidated exercises and see if you are able to solve the problems or not.\\n\\nMake sure to follow the order we have defined as part of the course.\\n\\nAfter each and every section or module, make sure to solve the exercises. We have provided enough information to validate the output of your queries.\\n\\nAfter the completion of the course try to solve the exercises using consolidated list.\\n\\nKeep in mind that you will be reviewing the same exercises before the course, during the course as well as at the end of the course.\\n\\nBy the end of the course, if you are able to solve the problems, then you can come to a conclusion that you are able to master the core programming using one of the most popular programming language called as Python.',\n",
       "  'thumbnails': {'default': {'url': 'https://i.ytimg.com/vi/ETZJln4jtAo/default.jpg',\n",
       "    'width': 120,\n",
       "    'height': 90},\n",
       "   'medium': {'url': 'https://i.ytimg.com/vi/ETZJln4jtAo/mqdefault.jpg',\n",
       "    'width': 320,\n",
       "    'height': 180},\n",
       "   'high': {'url': 'https://i.ytimg.com/vi/ETZJln4jtAo/hqdefault.jpg',\n",
       "    'width': 480,\n",
       "    'height': 360},\n",
       "   'standard': {'url': 'https://i.ytimg.com/vi/ETZJln4jtAo/sddefault.jpg',\n",
       "    'width': 640,\n",
       "    'height': 480}},\n",
       "  'channelTitle': 'itversity',\n",
       "  'localized': {'title': 'Mastering Python - A Comprehensive Python Course for beginners and experienced developers',\n",
       "   'description': 'This course is primarily designed to learn Python as Programming language to build web or mobile applications, data engineering applications, automation etc.\\n\\nYou can access the code and material along with the videos over https://python.itversity.com\\n\\nAbout Python\\n\\nPython is one of the leading programming language. It is an open source database and used for different types of applications.\\n\\n* Web Applications\\n* Mobile Applications\\n* Data Engineering Applications\\n* Server Automation\\n* Troubleshooting and Debugging\\n* Quality Assurance\\n* Data Science based Applications\\nand many many more\\n\\nIt is one of the top 3 programming languages for almost a decade now along with Java and Java Script.\\n\\nCourse Details\\n\\nThis course is primarily designed to go through core programming using Python. It will serve as foundation for role specific courses for different types of IT Professionals or Roles. As part of this course you will be learning the following topics under core programming using Python. We are actively working on creating content. Content creation for 80% of the below modules is already done. We are in the process of video editing so that we can publish the content as part of this course.\\n\\n* Overview of GCP and Setup Ubuntu VM\\n* Setup Postgres DB using Docker\\n* Postgres Database Operations - Basic DDL and DML\\n* Getting Started with Python\\n* Basic Programming Constructs\\n* Pre Defined Functions\\n* User Defined Functions\\n* Overview of Collections - list and set\\n* Overview of Collections - dict and tuple\\n* Manipulating Collections using loops\\n* Overview of Map Reduce Libraries\\n* Overview of Pandas Libraries\\n* Database Programming - CRUD Operations\\n* Database Programming - Batch Operations\\n* Desired Audience\\n\\nHere are the desired audience for this course.\\n\\n* College students and entry level professionals to get hands on expertise with respect to programming using Python to be prepared for the interviews.\\n* Experienced application developers to understand key aspects of Python Programming to build Python based Web or Mobile Applications.\\n* Data Engineers and Data Warehouse Developers to understand key aspects of Python Programming to build batch or streaming pipelines.\\n* Testers to improve their scripting abilities to validate data in the files tables etc.\\n* DevOps Engineers, System Administrators, Database Administrators etc to understand Python as scripting language for the automation of day to day tasks.\\n* Data Scientists to be proficient in Python Programming to build the models.\\n\\nThis course only covers Fundamentals of Python which is useful for almost all the hands on technical roles. It does not include the role specific libraries.\\n\\nPrerequisites\\n\\nHere are the prerequisites before signing up for the course.\\n\\nLogistics\\n* Computer with decent configuration\\n* At least 4 GB RAM\\n* 8 GB RAM is highly desired\\n* Browser such as Chrome, Internet Explorer, Firefox etc.\\n( High Speed Internet\\n\\nDesired Skills\\n\\n* Engineering or Science Degree\\n* Ability to use computer\\n* Knowledge or working experience with programming is highly desired\\n\\nTraining Approach\\n\\nHere are the details related to the training approach.\\n\\n* It is self paced with reference material, code snippets and videos.\\n* One can either use environment provided by us or setup their own environment using GCP and Docker.\\n* Modules will be published as and when they are ready. We would recommend to complete 2 modules every week by spending 4 to 5 hours per week.\\n\\nIt is highly recommended to take care of the exercises at the end to ensure that you are able to meet all the key objectives for each module.\\n* Support will be provided either through chat or email.\\n* Spend 4 to 5 hours per week up to 8 weeks and complete all the exercises to get best out of this course.\\n\\nSelf Evaluation\\n\\nThe course is designed in such a way that one can self evaluate through the course and confirm whether the skills are acquired.\\n\\nHere is the approach we recommend you to take this course.\\n\\nGo through the consolidated exercises and see if you are able to solve the problems or not.\\n\\nMake sure to follow the order we have defined as part of the course.\\n\\nAfter each and every section or module, make sure to solve the exercises. We have provided enough information to validate the output of your queries.\\n\\nAfter the completion of the course try to solve the exercises using consolidated list.\\n\\nKeep in mind that you will be reviewing the same exercises before the course, during the course as well as at the end of the course.\\n\\nBy the end of the course, if you are able to solve the problems, then you can come to a conclusion that you are able to master the core programming using one of the most popular programming language called as Python.'}},\n",
       " 'status': {'privacyStatus': 'public'},\n",
       " 'contentDetails': {'itemCount': 91}}"
      ]
     },
     "execution_count": 4,
     "metadata": {},
     "output_type": "execute_result"
    }
   ],
   "source": [
    "playlists['items'][0]"
   ]
  },
  {
   "cell_type": "code",
   "execution_count": 5,
   "metadata": {},
   "outputs": [],
   "source": [
    "nextPageToken = None\n",
    "playlist_details = []\n",
    "while True:\n",
    "    playlists = youtube.playlists().list(\n",
    "        part = 'snippet,contentDetails,status',\n",
    "        channelId='UCakdSIPsJqiOLqylgoYmwQg',\n",
    "        pageToken = nextPageToken,\n",
    "        maxResults = 50\n",
    "    ).execute()\n",
    "\n",
    "    for item in playlists['items']:\n",
    "        playlist_details.append(\n",
    "            (\n",
    "                item['id'], item['snippet']['title'], item['snippet']['description'],\n",
    "                item['contentDetails']['itemCount'], item['status']['privacyStatus']\n",
    "            )\n",
    "        )\n",
    "\n",
    "    nextPageToken = playlists.get('nextPageToken')\n",
    "    if not nextPageToken:\n",
    "        break"
   ]
  },
  {
   "cell_type": "code",
   "execution_count": 6,
   "metadata": {},
   "outputs": [
    {
     "data": {
      "text/plain": [
       "156"
      ]
     },
     "execution_count": 6,
     "metadata": {},
     "output_type": "execute_result"
    }
   ],
   "source": [
    "len(playlist_details)"
   ]
  },
  {
   "cell_type": "code",
   "execution_count": 7,
   "metadata": {},
   "outputs": [
    {
     "data": {
      "text/plain": [
       "('PLf0swTFhTI8rkH4yIfoyTAheEGjWIRtPG',\n",
       " 'Mastering Python - A Comprehensive Python Course for beginners and experienced developers',\n",
       " 'This course is primarily designed to learn Python as Programming language to build web or mobile applications, data engineering applications, automation etc.\\n\\nYou can access the code and material along with the videos over https://python.itversity.com\\n\\nAbout Python\\n\\nPython is one of the leading programming language. It is an open source database and used for different types of applications.\\n\\n* Web Applications\\n* Mobile Applications\\n* Data Engineering Applications\\n* Server Automation\\n* Troubleshooting and Debugging\\n* Quality Assurance\\n* Data Science based Applications\\nand many many more\\n\\nIt is one of the top 3 programming languages for almost a decade now along with Java and Java Script.\\n\\nCourse Details\\n\\nThis course is primarily designed to go through core programming using Python. It will serve as foundation for role specific courses for different types of IT Professionals or Roles. As part of this course you will be learning the following topics under core programming using Python. We are actively working on creating content. Content creation for 80% of the below modules is already done. We are in the process of video editing so that we can publish the content as part of this course.\\n\\n* Overview of GCP and Setup Ubuntu VM\\n* Setup Postgres DB using Docker\\n* Postgres Database Operations - Basic DDL and DML\\n* Getting Started with Python\\n* Basic Programming Constructs\\n* Pre Defined Functions\\n* User Defined Functions\\n* Overview of Collections - list and set\\n* Overview of Collections - dict and tuple\\n* Manipulating Collections using loops\\n* Overview of Map Reduce Libraries\\n* Overview of Pandas Libraries\\n* Database Programming - CRUD Operations\\n* Database Programming - Batch Operations\\n* Desired Audience\\n\\nHere are the desired audience for this course.\\n\\n* College students and entry level professionals to get hands on expertise with respect to programming using Python to be prepared for the interviews.\\n* Experienced application developers to understand key aspects of Python Programming to build Python based Web or Mobile Applications.\\n* Data Engineers and Data Warehouse Developers to understand key aspects of Python Programming to build batch or streaming pipelines.\\n* Testers to improve their scripting abilities to validate data in the files tables etc.\\n* DevOps Engineers, System Administrators, Database Administrators etc to understand Python as scripting language for the automation of day to day tasks.\\n* Data Scientists to be proficient in Python Programming to build the models.\\n\\nThis course only covers Fundamentals of Python which is useful for almost all the hands on technical roles. It does not include the role specific libraries.\\n\\nPrerequisites\\n\\nHere are the prerequisites before signing up for the course.\\n\\nLogistics\\n* Computer with decent configuration\\n* At least 4 GB RAM\\n* 8 GB RAM is highly desired\\n* Browser such as Chrome, Internet Explorer, Firefox etc.\\n( High Speed Internet\\n\\nDesired Skills\\n\\n* Engineering or Science Degree\\n* Ability to use computer\\n* Knowledge or working experience with programming is highly desired\\n\\nTraining Approach\\n\\nHere are the details related to the training approach.\\n\\n* It is self paced with reference material, code snippets and videos.\\n* One can either use environment provided by us or setup their own environment using GCP and Docker.\\n* Modules will be published as and when they are ready. We would recommend to complete 2 modules every week by spending 4 to 5 hours per week.\\n\\nIt is highly recommended to take care of the exercises at the end to ensure that you are able to meet all the key objectives for each module.\\n* Support will be provided either through chat or email.\\n* Spend 4 to 5 hours per week up to 8 weeks and complete all the exercises to get best out of this course.\\n\\nSelf Evaluation\\n\\nThe course is designed in such a way that one can self evaluate through the course and confirm whether the skills are acquired.\\n\\nHere is the approach we recommend you to take this course.\\n\\nGo through the consolidated exercises and see if you are able to solve the problems or not.\\n\\nMake sure to follow the order we have defined as part of the course.\\n\\nAfter each and every section or module, make sure to solve the exercises. We have provided enough information to validate the output of your queries.\\n\\nAfter the completion of the course try to solve the exercises using consolidated list.\\n\\nKeep in mind that you will be reviewing the same exercises before the course, during the course as well as at the end of the course.\\n\\nBy the end of the course, if you are able to solve the problems, then you can come to a conclusion that you are able to master the core programming using one of the most popular programming language called as Python.',\n",
       " 91,\n",
       " 'public')"
      ]
     },
     "execution_count": 7,
     "metadata": {},
     "output_type": "execute_result"
    }
   ],
   "source": [
    "playlist_details[0]"
   ]
  },
  {
   "cell_type": "code",
   "execution_count": 8,
   "metadata": {},
   "outputs": [],
   "source": [
    "def get_playlists(youtube, channel):\n",
    "    nextPageToken = None\n",
    "    playlists_details = []\n",
    "    \n",
    "    while True:\n",
    "        playlists = youtube.playlists().list(\n",
    "            part = 'snippet,contentDetails,status',\n",
    "            channelId=channel,\n",
    "            pageToken = nextPageToken,\n",
    "            maxResults = 50\n",
    "        ).execute()\n",
    "\n",
    "        for item in playlists['items']:\n",
    "            playlists_details.append(\n",
    "                (\n",
    "                    item['id'], item['snippet']['title'], item['snippet']['description'],\n",
    "                    item['contentDetails']['itemCount'], item['status']['privacyStatus']\n",
    "                )\n",
    "            )\n",
    "\n",
    "        nextPageToken = playlists.get('nextPageToken')\n",
    "        if not nextPageToken:\n",
    "            break\n",
    "\n",
    "    return playlists_details"
   ]
  },
  {
   "cell_type": "code",
   "execution_count": 9,
   "metadata": {},
   "outputs": [],
   "source": [
    "def get_playlist_items(playlistId):\n",
    "    nextPageToken = None\n",
    "    video_ids = []\n",
    "    while True:\n",
    "        playlistItems = youtube.playlistItems().list(\n",
    "            part = 'contentDetails',\n",
    "            playlistId = playlistId,\n",
    "            pageToken = nextPageToken,\n",
    "            maxResults = 50\n",
    "        ).execute()\n",
    "        \n",
    "        video_ids += [item['contentDetails']['videoId'] for item in playlistItems['items']]\n",
    "        \n",
    "        nextPageToken = playlistItems.get('nextPageToken')\n",
    "        if not nextPageToken:\n",
    "            break\n",
    "    return video_ids"
   ]
  },
  {
   "cell_type": "code",
   "execution_count": null,
   "metadata": {},
   "outputs": [],
   "source": []
  }
 ],
 "metadata": {
  "kernelspec": {
   "display_name": "Python 3",
   "language": "python",
   "name": "python3"
  },
  "language_info": {
   "codemirror_mode": {
    "name": "ipython",
    "version": 3
   },
   "file_extension": ".py",
   "mimetype": "text/x-python",
   "name": "python",
   "nbconvert_exporter": "python",
   "pygments_lexer": "ipython3",
   "version": "3.6.12"
  }
 },
 "nbformat": 4,
 "nbformat_minor": 4
}
