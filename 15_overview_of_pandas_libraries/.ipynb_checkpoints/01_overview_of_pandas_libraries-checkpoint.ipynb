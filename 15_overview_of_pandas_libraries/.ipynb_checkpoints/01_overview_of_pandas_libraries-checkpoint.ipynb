{
 "cells": [
  {
   "cell_type": "markdown",
   "metadata": {
    "pycharm": {
     "name": "#%% md"
    }
   },
   "source": [
    "# Overview of Pandas Libraries\n",
    "\n",
    "* Pandas Data Structures – Overview\n",
    "* Overview of Series\n",
    "* Overview of Data Frames\n",
    "* Creating Data Frames from Dict\n",
    "* CSV to Pandas Data Frame\n",
    "* Projecting and Filtering\n",
    "* Performing Aggregations\n",
    "* Writing Data Frames to Files\n",
    "* Joining Data Frames"
   ]
  },
  {
   "cell_type": "code",
   "execution_count": null,
   "metadata": {},
   "outputs": [],
   "source": []
  }
 ],
 "metadata": {
  "kernelspec": {
   "display_name": "Python 3",
   "language": "python",
   "name": "python3"
  },
  "language_info": {
   "codemirror_mode": {
    "name": "ipython",
    "version": 3
   },
   "file_extension": ".py",
   "mimetype": "text/x-python",
   "name": "python",
   "nbconvert_exporter": "python",
   "pygments_lexer": "ipython3",
   "version": "3.6.12"
  }
 },
 "nbformat": 4,
 "nbformat_minor": 4
}
