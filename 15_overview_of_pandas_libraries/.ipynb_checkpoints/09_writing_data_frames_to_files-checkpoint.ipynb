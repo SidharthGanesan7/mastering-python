{
 "cells": [
  {
   "cell_type": "markdown",
   "metadata": {},
   "source": [
    "## Writing Data Frames to Files\n",
    "\n",
    "Pandas also provides simple APIs to write the data back to files.\n",
    "* Let us write the revenue per order along with order_id to a file."
   ]
  },
  {
   "cell_type": "code",
   "execution_count": 1,
   "metadata": {},
   "outputs": [
    {
     "name": "stdout",
     "output_type": "stream",
     "text": [
      "Object `order_items.to_csv` not found.\n"
     ]
    }
   ],
   "source": [
    "order_items.to_csv?"
   ]
  },
  {
   "cell_type": "code",
   "execution_count": 2,
   "metadata": {},
   "outputs": [],
   "source": [
    "base_dir = \"/Users/itversity/Research/data/retail_db\""
   ]
  },
  {
   "cell_type": "code",
   "execution_count": 4,
   "metadata": {},
   "outputs": [],
   "source": [
    "output_dir = f'{base_dir}/revenue_per_order'"
   ]
  },
  {
   "cell_type": "code",
   "execution_count": null,
   "metadata": {},
   "outputs": [],
   "source": [
    "import subprocess\n",
    "\n",
    "subprocess.call(['mkdir', output_dir])"
   ]
  },
  {
   "cell_type": "code",
   "execution_count": null,
   "metadata": {},
   "outputs": [],
   "source": [
    "import subprocess\n",
    "#ls -ltr /Users/itversity/Research/data/retail_db/revenue_per_order\n",
    "subprocess.check_output(['ls', '-ltr', output_dir])"
   ]
  },
  {
   "cell_type": "code",
   "execution_count": 5,
   "metadata": {},
   "outputs": [
    {
     "name": "stdout",
     "output_type": "stream",
     "text": [
      "total 20156\n",
      "drwxr-xr-x 2 root root     4096 Nov 22 16:08 categories\n",
      "-rw-r--r-- 1 root root      806 Nov 22 16:08 README.md\n",
      "drwxr-xr-x 2 root root     4096 Nov 22 16:08 customers\n",
      "-rw-r--r-- 1 root root     1748 Nov 22 16:08 create_db_tables_pg.sql\n",
      "-rw-r--r-- 1 root root 10303297 Nov 22 16:08 create_db.sql\n",
      "drwxr-xr-x 2 root root     4096 Nov 22 16:08 departments\n",
      "drwxr-xr-x 2 root root     4096 Nov 22 16:08 order_items\n",
      "-rw-r--r-- 1 root root 10297372 Nov 22 16:08 load_db_tables_pg.sql\n",
      "drwxr-xr-x 2 root root     4096 Nov 22 16:08 orders\n",
      "drwxr-xr-x 2 root root     4096 Nov 22 16:08 products\n"
     ]
    }
   ],
   "source": [
    "%%sh\n",
    "ls -ltr /data/retail_db"
   ]
  },
  {
   "cell_type": "code",
   "execution_count": null,
   "metadata": {},
   "outputs": [],
   "source": [
    "order_items. \\\n",
    "    groupby('order_item_order_id')['order_item_subtotal']. \\\n",
    "    agg(['sum', 'min', 'max', 'count']). \\\n",
    "    rename(columns={'count': 'item_count', 'sum': 'revenue'}). \\\n",
    "    to_json(f'{output_dir}/revenue_per_order.json', orient='table')"
   ]
  },
  {
   "cell_type": "code",
   "execution_count": null,
   "metadata": {},
   "outputs": [],
   "source": [
    "%%sh\n",
    "ls -ltr /Users/itversity/Research/data/retail_db/revenue_per_order"
   ]
  },
  {
   "cell_type": "code",
   "execution_count": null,
   "metadata": {},
   "outputs": [],
   "source": [
    "order_items. \\\n",
    "    groupby('order_item_order_id')['order_item_subtotal']. \\\n",
    "    agg(['sum', 'min', 'max', 'count']). \\\n",
    "    rename(columns={'count': 'item_count', 'sum': 'revenue'}). \\\n",
    "    round(2). \\\n",
    "    to_csv(output_dir + '/revenue_per_order.csv')"
   ]
  }
 ],
 "metadata": {
  "kernelspec": {
   "display_name": "Python 3",
   "language": "python",
   "name": "python3"
  },
  "language_info": {
   "codemirror_mode": {
    "name": "ipython",
    "version": 3
   },
   "file_extension": ".py",
   "mimetype": "text/x-python",
   "name": "python",
   "nbconvert_exporter": "python",
   "pygments_lexer": "ipython3",
   "version": "3.6.12"
  }
 },
 "nbformat": 4,
 "nbformat_minor": 4
}
