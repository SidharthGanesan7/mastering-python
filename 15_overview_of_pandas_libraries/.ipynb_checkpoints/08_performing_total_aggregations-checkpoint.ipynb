{
 "cells": [
  {
   "cell_type": "markdown",
   "metadata": {},
   "source": [
    "## Performing Total Aggregations\n",
    "\n",
    "Let us understand how to perform total or global aggregations using Pandas."
   ]
  },
  {
   "cell_type": "code",
   "execution_count": 2,
   "metadata": {},
   "outputs": [],
   "source": [
    "%run 06_csv_to_pandas_data_frame.ipynb"
   ]
  },
  {
   "cell_type": "markdown",
   "metadata": {},
   "source": [
    "### Global Aggregations\n",
    "\n",
    "There are several global aggregations that can be performed.\n",
    "  * Getting number of records in the Data Frame."
   ]
  },
  {
   "cell_type": "code",
   "execution_count": null,
   "metadata": {},
   "outputs": [],
   "source": [
    "orders.shape"
   ]
  },
  {
   "cell_type": "code",
   "execution_count": null,
   "metadata": {},
   "outputs": [],
   "source": [
    "orders.shape[0]"
   ]
  },
  {
   "cell_type": "markdown",
   "metadata": {},
   "source": [
    "* Getting number of non np.NaN values in each attribute in a Data Frame"
   ]
  },
  {
   "cell_type": "code",
   "execution_count": null,
   "metadata": {},
   "outputs": [],
   "source": [
    "orders.count()"
   ]
  },
  {
   "cell_type": "code",
   "execution_count": null,
   "metadata": {},
   "outputs": [],
   "source": [
    "type(orders.count())"
   ]
  },
  {
   "cell_type": "code",
   "execution_count": null,
   "metadata": {},
   "outputs": [],
   "source": [
    "orders.count()['order_id']"
   ]
  },
  {
   "cell_type": "markdown",
   "metadata": {},
   "source": [
    "* Getting basic statistics of numeric fields of a Data Frame"
   ]
  },
  {
   "cell_type": "code",
   "execution_count": null,
   "metadata": {},
   "outputs": [],
   "source": [
    "orders.describe()"
   ]
  },
  {
   "cell_type": "markdown",
   "metadata": {},
   "source": [
    "* Get revenue for order id 2 from order_items"
   ]
  },
  {
   "cell_type": "code",
   "execution_count": null,
   "metadata": {},
   "outputs": [],
   "source": [
    "order_items[order_items.order_item_order_id == 2].order_item_subtotal.sum()"
   ]
  },
  {
   "cell_type": "markdown",
   "metadata": {},
   "source": [
    "### Task 1\n",
    "Use orders and get total number of records for a given month (201401). "
   ]
  },
  {
   "cell_type": "code",
   "execution_count": 28,
   "metadata": {},
   "outputs": [
    {
     "data": {
      "text/html": [
       "<div>\n",
       "<style scoped>\n",
       "    .dataframe tbody tr th:only-of-type {\n",
       "        vertical-align: middle;\n",
       "    }\n",
       "\n",
       "    .dataframe tbody tr th {\n",
       "        vertical-align: top;\n",
       "    }\n",
       "\n",
       "    .dataframe thead th {\n",
       "        text-align: right;\n",
       "    }\n",
       "</style>\n",
       "<table border=\"1\" class=\"dataframe\">\n",
       "  <thead>\n",
       "    <tr style=\"text-align: right;\">\n",
       "      <th></th>\n",
       "      <th>order_id</th>\n",
       "      <th>order_date</th>\n",
       "      <th>order_customer_id</th>\n",
       "      <th>order_status</th>\n",
       "    </tr>\n",
       "  </thead>\n",
       "  <tbody>\n",
       "    <tr>\n",
       "      <th>0</th>\n",
       "      <td>1</td>\n",
       "      <td>2013-07-25 00:00:00.0</td>\n",
       "      <td>11599</td>\n",
       "      <td>CLOSED</td>\n",
       "    </tr>\n",
       "    <tr>\n",
       "      <th>1</th>\n",
       "      <td>2</td>\n",
       "      <td>2013-07-25 00:00:00.0</td>\n",
       "      <td>256</td>\n",
       "      <td>PENDING_PAYMENT</td>\n",
       "    </tr>\n",
       "    <tr>\n",
       "      <th>2</th>\n",
       "      <td>3</td>\n",
       "      <td>2013-07-25 00:00:00.0</td>\n",
       "      <td>12111</td>\n",
       "      <td>COMPLETE</td>\n",
       "    </tr>\n",
       "    <tr>\n",
       "      <th>3</th>\n",
       "      <td>4</td>\n",
       "      <td>2013-07-25 00:00:00.0</td>\n",
       "      <td>8827</td>\n",
       "      <td>CLOSED</td>\n",
       "    </tr>\n",
       "    <tr>\n",
       "      <th>4</th>\n",
       "      <td>5</td>\n",
       "      <td>2013-07-25 00:00:00.0</td>\n",
       "      <td>11318</td>\n",
       "      <td>COMPLETE</td>\n",
       "    </tr>\n",
       "    <tr>\n",
       "      <th>...</th>\n",
       "      <td>...</td>\n",
       "      <td>...</td>\n",
       "      <td>...</td>\n",
       "      <td>...</td>\n",
       "    </tr>\n",
       "    <tr>\n",
       "      <th>68878</th>\n",
       "      <td>68879</td>\n",
       "      <td>2014-07-09 00:00:00.0</td>\n",
       "      <td>778</td>\n",
       "      <td>COMPLETE</td>\n",
       "    </tr>\n",
       "    <tr>\n",
       "      <th>68879</th>\n",
       "      <td>68880</td>\n",
       "      <td>2014-07-13 00:00:00.0</td>\n",
       "      <td>1117</td>\n",
       "      <td>COMPLETE</td>\n",
       "    </tr>\n",
       "    <tr>\n",
       "      <th>68880</th>\n",
       "      <td>68881</td>\n",
       "      <td>2014-07-19 00:00:00.0</td>\n",
       "      <td>2518</td>\n",
       "      <td>PENDING_PAYMENT</td>\n",
       "    </tr>\n",
       "    <tr>\n",
       "      <th>68881</th>\n",
       "      <td>68882</td>\n",
       "      <td>2014-07-22 00:00:00.0</td>\n",
       "      <td>10000</td>\n",
       "      <td>ON_HOLD</td>\n",
       "    </tr>\n",
       "    <tr>\n",
       "      <th>68882</th>\n",
       "      <td>68883</td>\n",
       "      <td>2014-07-23 00:00:00.0</td>\n",
       "      <td>5533</td>\n",
       "      <td>COMPLETE</td>\n",
       "    </tr>\n",
       "  </tbody>\n",
       "</table>\n",
       "<p>68883 rows × 4 columns</p>\n",
       "</div>"
      ],
      "text/plain": [
       "       order_id             order_date  order_customer_id     order_status\n",
       "0             1  2013-07-25 00:00:00.0              11599           CLOSED\n",
       "1             2  2013-07-25 00:00:00.0                256  PENDING_PAYMENT\n",
       "2             3  2013-07-25 00:00:00.0              12111         COMPLETE\n",
       "3             4  2013-07-25 00:00:00.0               8827           CLOSED\n",
       "4             5  2013-07-25 00:00:00.0              11318         COMPLETE\n",
       "...         ...                    ...                ...              ...\n",
       "68878     68879  2014-07-09 00:00:00.0                778         COMPLETE\n",
       "68879     68880  2014-07-13 00:00:00.0               1117         COMPLETE\n",
       "68880     68881  2014-07-19 00:00:00.0               2518  PENDING_PAYMENT\n",
       "68881     68882  2014-07-22 00:00:00.0              10000          ON_HOLD\n",
       "68882     68883  2014-07-23 00:00:00.0               5533         COMPLETE\n",
       "\n",
       "[68883 rows x 4 columns]"
      ]
     },
     "execution_count": 28,
     "metadata": {},
     "output_type": "execute_result"
    }
   ],
   "source": [
    "orders"
   ]
  },
  {
   "cell_type": "code",
   "execution_count": 43,
   "metadata": {},
   "outputs": [
    {
     "data": {
      "text/plain": [
       "0        2013-07-25 00:00:00.0\n",
       "1        2013-07-25 00:00:00.0\n",
       "2        2013-07-25 00:00:00.0\n",
       "3        2013-07-25 00:00:00.0\n",
       "4        2013-07-25 00:00:00.0\n",
       "                 ...          \n",
       "68878    2014-07-09 00:00:00.0\n",
       "68879    2014-07-13 00:00:00.0\n",
       "68880    2014-07-19 00:00:00.0\n",
       "68881    2014-07-22 00:00:00.0\n",
       "68882    2014-07-23 00:00:00.0\n",
       "Name: order_date, Length: 68883, dtype: object"
      ]
     },
     "execution_count": 43,
     "metadata": {},
     "output_type": "execute_result"
    }
   ],
   "source": [
    "orders.order_date"
   ]
  },
  {
   "cell_type": "code",
   "execution_count": 52,
   "metadata": {},
   "outputs": [
    {
     "data": {
      "text/html": [
       "<div>\n",
       "<style scoped>\n",
       "    .dataframe tbody tr th:only-of-type {\n",
       "        vertical-align: middle;\n",
       "    }\n",
       "\n",
       "    .dataframe tbody tr th {\n",
       "        vertical-align: top;\n",
       "    }\n",
       "\n",
       "    .dataframe thead th {\n",
       "        text-align: right;\n",
       "    }\n",
       "</style>\n",
       "<table border=\"1\" class=\"dataframe\">\n",
       "  <thead>\n",
       "    <tr style=\"text-align: right;\">\n",
       "      <th></th>\n",
       "      <th>order_id</th>\n",
       "      <th>order_date</th>\n",
       "      <th>order_customer_id</th>\n",
       "      <th>order_status</th>\n",
       "    </tr>\n",
       "  </thead>\n",
       "  <tbody>\n",
       "    <tr>\n",
       "      <th>25875</th>\n",
       "      <td>25876</td>\n",
       "      <td>2014-01-01 00:00:00.0</td>\n",
       "      <td>3414</td>\n",
       "      <td>PENDING_PAYMENT</td>\n",
       "    </tr>\n",
       "    <tr>\n",
       "      <th>25876</th>\n",
       "      <td>25877</td>\n",
       "      <td>2014-01-01 00:00:00.0</td>\n",
       "      <td>5549</td>\n",
       "      <td>PENDING_PAYMENT</td>\n",
       "    </tr>\n",
       "    <tr>\n",
       "      <th>25877</th>\n",
       "      <td>25878</td>\n",
       "      <td>2014-01-01 00:00:00.0</td>\n",
       "      <td>9084</td>\n",
       "      <td>PENDING</td>\n",
       "    </tr>\n",
       "    <tr>\n",
       "      <th>25878</th>\n",
       "      <td>25879</td>\n",
       "      <td>2014-01-01 00:00:00.0</td>\n",
       "      <td>5118</td>\n",
       "      <td>PENDING</td>\n",
       "    </tr>\n",
       "    <tr>\n",
       "      <th>25879</th>\n",
       "      <td>25880</td>\n",
       "      <td>2014-01-01 00:00:00.0</td>\n",
       "      <td>10146</td>\n",
       "      <td>CANCELED</td>\n",
       "    </tr>\n",
       "    <tr>\n",
       "      <th>...</th>\n",
       "      <td>...</td>\n",
       "      <td>...</td>\n",
       "      <td>...</td>\n",
       "      <td>...</td>\n",
       "    </tr>\n",
       "    <tr>\n",
       "      <th>68789</th>\n",
       "      <td>68790</td>\n",
       "      <td>2014-01-26 00:00:00.0</td>\n",
       "      <td>10302</td>\n",
       "      <td>CLOSED</td>\n",
       "    </tr>\n",
       "    <tr>\n",
       "      <th>68790</th>\n",
       "      <td>68791</td>\n",
       "      <td>2014-01-27 00:00:00.0</td>\n",
       "      <td>6524</td>\n",
       "      <td>COMPLETE</td>\n",
       "    </tr>\n",
       "    <tr>\n",
       "      <th>68791</th>\n",
       "      <td>68792</td>\n",
       "      <td>2014-01-28 00:00:00.0</td>\n",
       "      <td>9809</td>\n",
       "      <td>CANCELED</td>\n",
       "    </tr>\n",
       "    <tr>\n",
       "      <th>68792</th>\n",
       "      <td>68793</td>\n",
       "      <td>2014-01-30 00:00:00.0</td>\n",
       "      <td>5654</td>\n",
       "      <td>COMPLETE</td>\n",
       "    </tr>\n",
       "    <tr>\n",
       "      <th>68793</th>\n",
       "      <td>68794</td>\n",
       "      <td>2014-01-31 00:00:00.0</td>\n",
       "      <td>6873</td>\n",
       "      <td>COMPLETE</td>\n",
       "    </tr>\n",
       "  </tbody>\n",
       "</table>\n",
       "<p>5908 rows × 4 columns</p>\n",
       "</div>"
      ],
      "text/plain": [
       "       order_id             order_date  order_customer_id     order_status\n",
       "25875     25876  2014-01-01 00:00:00.0               3414  PENDING_PAYMENT\n",
       "25876     25877  2014-01-01 00:00:00.0               5549  PENDING_PAYMENT\n",
       "25877     25878  2014-01-01 00:00:00.0               9084          PENDING\n",
       "25878     25879  2014-01-01 00:00:00.0               5118          PENDING\n",
       "25879     25880  2014-01-01 00:00:00.0              10146         CANCELED\n",
       "...         ...                    ...                ...              ...\n",
       "68789     68790  2014-01-26 00:00:00.0              10302           CLOSED\n",
       "68790     68791  2014-01-27 00:00:00.0               6524         COMPLETE\n",
       "68791     68792  2014-01-28 00:00:00.0               9809         CANCELED\n",
       "68792     68793  2014-01-30 00:00:00.0               5654         COMPLETE\n",
       "68793     68794  2014-01-31 00:00:00.0               6873         COMPLETE\n",
       "\n",
       "[5908 rows x 4 columns]"
      ]
     },
     "execution_count": 52,
     "metadata": {},
     "output_type": "execute_result"
    }
   ],
   "source": [
    "orders[orders['order_date'].str.slice(0, 7).str.replace('-', '').astype('int64') == 201401]"
   ]
  },
  {
   "cell_type": "markdown",
   "metadata": {},
   "source": [
    "### Task 2\n",
    "\n",
    "Use order_items data set and compute total revenue generated for a given product_id."
   ]
  },
  {
   "cell_type": "code",
   "execution_count": 17,
   "metadata": {},
   "outputs": [
    {
     "data": {
      "text/html": [
       "<div>\n",
       "<style scoped>\n",
       "    .dataframe tbody tr th:only-of-type {\n",
       "        vertical-align: middle;\n",
       "    }\n",
       "\n",
       "    .dataframe tbody tr th {\n",
       "        vertical-align: top;\n",
       "    }\n",
       "\n",
       "    .dataframe thead th {\n",
       "        text-align: right;\n",
       "    }\n",
       "</style>\n",
       "<table border=\"1\" class=\"dataframe\">\n",
       "  <thead>\n",
       "    <tr style=\"text-align: right;\">\n",
       "      <th></th>\n",
       "      <th>order_item_id</th>\n",
       "      <th>order_item_order_id</th>\n",
       "      <th>order_item_product_id</th>\n",
       "      <th>order_item_quantity</th>\n",
       "      <th>order_item_subtotal</th>\n",
       "      <th>order_item_product_price</th>\n",
       "    </tr>\n",
       "  </thead>\n",
       "  <tbody>\n",
       "    <tr>\n",
       "      <th>0</th>\n",
       "      <td>1</td>\n",
       "      <td>1</td>\n",
       "      <td>957</td>\n",
       "      <td>1</td>\n",
       "      <td>299.98</td>\n",
       "      <td>299.98</td>\n",
       "    </tr>\n",
       "    <tr>\n",
       "      <th>1</th>\n",
       "      <td>2</td>\n",
       "      <td>2</td>\n",
       "      <td>1073</td>\n",
       "      <td>1</td>\n",
       "      <td>199.99</td>\n",
       "      <td>199.99</td>\n",
       "    </tr>\n",
       "    <tr>\n",
       "      <th>2</th>\n",
       "      <td>3</td>\n",
       "      <td>2</td>\n",
       "      <td>502</td>\n",
       "      <td>5</td>\n",
       "      <td>250.00</td>\n",
       "      <td>50.00</td>\n",
       "    </tr>\n",
       "    <tr>\n",
       "      <th>3</th>\n",
       "      <td>4</td>\n",
       "      <td>2</td>\n",
       "      <td>403</td>\n",
       "      <td>1</td>\n",
       "      <td>129.99</td>\n",
       "      <td>129.99</td>\n",
       "    </tr>\n",
       "    <tr>\n",
       "      <th>4</th>\n",
       "      <td>5</td>\n",
       "      <td>4</td>\n",
       "      <td>897</td>\n",
       "      <td>2</td>\n",
       "      <td>49.98</td>\n",
       "      <td>24.99</td>\n",
       "    </tr>\n",
       "    <tr>\n",
       "      <th>...</th>\n",
       "      <td>...</td>\n",
       "      <td>...</td>\n",
       "      <td>...</td>\n",
       "      <td>...</td>\n",
       "      <td>...</td>\n",
       "      <td>...</td>\n",
       "    </tr>\n",
       "    <tr>\n",
       "      <th>172193</th>\n",
       "      <td>172194</td>\n",
       "      <td>68881</td>\n",
       "      <td>403</td>\n",
       "      <td>1</td>\n",
       "      <td>129.99</td>\n",
       "      <td>129.99</td>\n",
       "    </tr>\n",
       "    <tr>\n",
       "      <th>172194</th>\n",
       "      <td>172195</td>\n",
       "      <td>68882</td>\n",
       "      <td>365</td>\n",
       "      <td>1</td>\n",
       "      <td>59.99</td>\n",
       "      <td>59.99</td>\n",
       "    </tr>\n",
       "    <tr>\n",
       "      <th>172195</th>\n",
       "      <td>172196</td>\n",
       "      <td>68882</td>\n",
       "      <td>502</td>\n",
       "      <td>1</td>\n",
       "      <td>50.00</td>\n",
       "      <td>50.00</td>\n",
       "    </tr>\n",
       "    <tr>\n",
       "      <th>172196</th>\n",
       "      <td>172197</td>\n",
       "      <td>68883</td>\n",
       "      <td>208</td>\n",
       "      <td>1</td>\n",
       "      <td>1999.99</td>\n",
       "      <td>1999.99</td>\n",
       "    </tr>\n",
       "    <tr>\n",
       "      <th>172197</th>\n",
       "      <td>172198</td>\n",
       "      <td>68883</td>\n",
       "      <td>502</td>\n",
       "      <td>3</td>\n",
       "      <td>150.00</td>\n",
       "      <td>50.00</td>\n",
       "    </tr>\n",
       "  </tbody>\n",
       "</table>\n",
       "<p>172198 rows × 6 columns</p>\n",
       "</div>"
      ],
      "text/plain": [
       "        order_item_id  order_item_order_id  order_item_product_id  \\\n",
       "0                   1                    1                    957   \n",
       "1                   2                    2                   1073   \n",
       "2                   3                    2                    502   \n",
       "3                   4                    2                    403   \n",
       "4                   5                    4                    897   \n",
       "...               ...                  ...                    ...   \n",
       "172193         172194                68881                    403   \n",
       "172194         172195                68882                    365   \n",
       "172195         172196                68882                    502   \n",
       "172196         172197                68883                    208   \n",
       "172197         172198                68883                    502   \n",
       "\n",
       "        order_item_quantity  order_item_subtotal  order_item_product_price  \n",
       "0                         1               299.98                    299.98  \n",
       "1                         1               199.99                    199.99  \n",
       "2                         5               250.00                     50.00  \n",
       "3                         1               129.99                    129.99  \n",
       "4                         2                49.98                     24.99  \n",
       "...                     ...                  ...                       ...  \n",
       "172193                    1               129.99                    129.99  \n",
       "172194                    1                59.99                     59.99  \n",
       "172195                    1                50.00                     50.00  \n",
       "172196                    1              1999.99                   1999.99  \n",
       "172197                    3               150.00                     50.00  \n",
       "\n",
       "[172198 rows x 6 columns]"
      ]
     },
     "execution_count": 17,
     "metadata": {},
     "output_type": "execute_result"
    }
   ],
   "source": [
    "order_items"
   ]
  },
  {
   "cell_type": "code",
   "execution_count": 26,
   "metadata": {},
   "outputs": [
    {
     "data": {
      "text/plain": [
       "3147800.0"
      ]
     },
     "execution_count": 26,
     "metadata": {},
     "output_type": "execute_result"
    }
   ],
   "source": [
    "order_items.query('order_item_product_id == 502')['order_item_subtotal'].sum()"
   ]
  },
  {
   "cell_type": "code",
   "execution_count": 27,
   "metadata": {},
   "outputs": [
    {
     "data": {
      "text/plain": [
       "3147800.0"
      ]
     },
     "execution_count": 27,
     "metadata": {},
     "output_type": "execute_result"
    }
   ],
   "source": [
    "order_items.query('order_item_product_id == 502').order_item_subtotal.sum()"
   ]
  },
  {
   "cell_type": "markdown",
   "metadata": {},
   "source": [
    "### Task 3\n",
    "\n",
    "Use order_items data set and get total number of items sold as well as total revenue generated for a given product_id."
   ]
  },
  {
   "cell_type": "code",
   "execution_count": 17,
   "metadata": {},
   "outputs": [
    {
     "data": {
      "text/html": [
       "<div>\n",
       "<style scoped>\n",
       "    .dataframe tbody tr th:only-of-type {\n",
       "        vertical-align: middle;\n",
       "    }\n",
       "\n",
       "    .dataframe tbody tr th {\n",
       "        vertical-align: top;\n",
       "    }\n",
       "\n",
       "    .dataframe thead th {\n",
       "        text-align: right;\n",
       "    }\n",
       "</style>\n",
       "<table border=\"1\" class=\"dataframe\">\n",
       "  <thead>\n",
       "    <tr style=\"text-align: right;\">\n",
       "      <th></th>\n",
       "      <th>order_item_id</th>\n",
       "      <th>order_item_order_id</th>\n",
       "      <th>order_item_product_id</th>\n",
       "      <th>order_item_quantity</th>\n",
       "      <th>order_item_subtotal</th>\n",
       "      <th>order_item_product_price</th>\n",
       "    </tr>\n",
       "  </thead>\n",
       "  <tbody>\n",
       "    <tr>\n",
       "      <th>0</th>\n",
       "      <td>1</td>\n",
       "      <td>1</td>\n",
       "      <td>957</td>\n",
       "      <td>1</td>\n",
       "      <td>299.98</td>\n",
       "      <td>299.98</td>\n",
       "    </tr>\n",
       "    <tr>\n",
       "      <th>1</th>\n",
       "      <td>2</td>\n",
       "      <td>2</td>\n",
       "      <td>1073</td>\n",
       "      <td>1</td>\n",
       "      <td>199.99</td>\n",
       "      <td>199.99</td>\n",
       "    </tr>\n",
       "    <tr>\n",
       "      <th>2</th>\n",
       "      <td>3</td>\n",
       "      <td>2</td>\n",
       "      <td>502</td>\n",
       "      <td>5</td>\n",
       "      <td>250.00</td>\n",
       "      <td>50.00</td>\n",
       "    </tr>\n",
       "    <tr>\n",
       "      <th>3</th>\n",
       "      <td>4</td>\n",
       "      <td>2</td>\n",
       "      <td>403</td>\n",
       "      <td>1</td>\n",
       "      <td>129.99</td>\n",
       "      <td>129.99</td>\n",
       "    </tr>\n",
       "    <tr>\n",
       "      <th>4</th>\n",
       "      <td>5</td>\n",
       "      <td>4</td>\n",
       "      <td>897</td>\n",
       "      <td>2</td>\n",
       "      <td>49.98</td>\n",
       "      <td>24.99</td>\n",
       "    </tr>\n",
       "    <tr>\n",
       "      <th>...</th>\n",
       "      <td>...</td>\n",
       "      <td>...</td>\n",
       "      <td>...</td>\n",
       "      <td>...</td>\n",
       "      <td>...</td>\n",
       "      <td>...</td>\n",
       "    </tr>\n",
       "    <tr>\n",
       "      <th>172193</th>\n",
       "      <td>172194</td>\n",
       "      <td>68881</td>\n",
       "      <td>403</td>\n",
       "      <td>1</td>\n",
       "      <td>129.99</td>\n",
       "      <td>129.99</td>\n",
       "    </tr>\n",
       "    <tr>\n",
       "      <th>172194</th>\n",
       "      <td>172195</td>\n",
       "      <td>68882</td>\n",
       "      <td>365</td>\n",
       "      <td>1</td>\n",
       "      <td>59.99</td>\n",
       "      <td>59.99</td>\n",
       "    </tr>\n",
       "    <tr>\n",
       "      <th>172195</th>\n",
       "      <td>172196</td>\n",
       "      <td>68882</td>\n",
       "      <td>502</td>\n",
       "      <td>1</td>\n",
       "      <td>50.00</td>\n",
       "      <td>50.00</td>\n",
       "    </tr>\n",
       "    <tr>\n",
       "      <th>172196</th>\n",
       "      <td>172197</td>\n",
       "      <td>68883</td>\n",
       "      <td>208</td>\n",
       "      <td>1</td>\n",
       "      <td>1999.99</td>\n",
       "      <td>1999.99</td>\n",
       "    </tr>\n",
       "    <tr>\n",
       "      <th>172197</th>\n",
       "      <td>172198</td>\n",
       "      <td>68883</td>\n",
       "      <td>502</td>\n",
       "      <td>3</td>\n",
       "      <td>150.00</td>\n",
       "      <td>50.00</td>\n",
       "    </tr>\n",
       "  </tbody>\n",
       "</table>\n",
       "<p>172198 rows × 6 columns</p>\n",
       "</div>"
      ],
      "text/plain": [
       "        order_item_id  order_item_order_id  order_item_product_id  \\\n",
       "0                   1                    1                    957   \n",
       "1                   2                    2                   1073   \n",
       "2                   3                    2                    502   \n",
       "3                   4                    2                    403   \n",
       "4                   5                    4                    897   \n",
       "...               ...                  ...                    ...   \n",
       "172193         172194                68881                    403   \n",
       "172194         172195                68882                    365   \n",
       "172195         172196                68882                    502   \n",
       "172196         172197                68883                    208   \n",
       "172197         172198                68883                    502   \n",
       "\n",
       "        order_item_quantity  order_item_subtotal  order_item_product_price  \n",
       "0                         1               299.98                    299.98  \n",
       "1                         1               199.99                    199.99  \n",
       "2                         5               250.00                     50.00  \n",
       "3                         1               129.99                    129.99  \n",
       "4                         2                49.98                     24.99  \n",
       "...                     ...                  ...                       ...  \n",
       "172193                    1               129.99                    129.99  \n",
       "172194                    1                59.99                     59.99  \n",
       "172195                    1                50.00                     50.00  \n",
       "172196                    1              1999.99                   1999.99  \n",
       "172197                    3               150.00                     50.00  \n",
       "\n",
       "[172198 rows x 6 columns]"
      ]
     },
     "execution_count": 17,
     "metadata": {},
     "output_type": "execute_result"
    }
   ],
   "source": [
    "order_items"
   ]
  },
  {
   "cell_type": "code",
   "execution_count": 18,
   "metadata": {},
   "outputs": [],
   "source": [
    "order_items_for_product_id = order_items.query('order_item_product_id == 502')"
   ]
  },
  {
   "cell_type": "code",
   "execution_count": 25,
   "metadata": {},
   "outputs": [
    {
     "data": {
      "text/plain": [
       "order_item_quantity      62956.0\n",
       "order_item_subtotal    3147800.0\n",
       "dtype: float64"
      ]
     },
     "execution_count": 25,
     "metadata": {},
     "output_type": "execute_result"
    }
   ],
   "source": [
    "order_items_for_product_id[['order_item_quantity', 'order_item_subtotal']].sum()"
   ]
  },
  {
   "cell_type": "code",
   "execution_count": 23,
   "metadata": {},
   "outputs": [
    {
     "data": {
      "text/plain": [
       "(62956.0, 3147800.0)"
      ]
     },
     "execution_count": 23,
     "metadata": {},
     "output_type": "execute_result"
    }
   ],
   "source": [
    "tuple(order_items_for_product_id[['order_item_quantity', 'order_item_subtotal']].sum())"
   ]
  },
  {
   "cell_type": "code",
   "execution_count": 24,
   "metadata": {},
   "outputs": [
    {
     "data": {
      "text/plain": [
       "{'order_item_quantity': 62956.0, 'order_item_subtotal': 3147800.0}"
      ]
     },
     "execution_count": 24,
     "metadata": {},
     "output_type": "execute_result"
    }
   ],
   "source": [
    "dict(order_items_for_product_id[['order_item_quantity', 'order_item_subtotal']].sum())"
   ]
  },
  {
   "cell_type": "markdown",
   "metadata": {},
   "source": [
    "### Task 4\n",
    "\n",
    "Create a collection with sales and commission percentage. Using that collection compute total commission amount. If the commission percent is None or not present, treat it as 0.\n",
    "* Each element in the collection should be a tuple.\n",
    "* First element is the sales amount and second element is commission percentage.\n",
    "* Commission for each sale can be computed by multiplying commission percentage with sales (make sure to divide commission percentage by 100).\n",
    "* Some of the records does not have commission percentage, in that case commission amount for that sale shall be 0"
   ]
  },
  {
   "cell_type": "code",
   "execution_count": 3,
   "metadata": {},
   "outputs": [],
   "source": [
    "transactions = [(376.0, 8),\n",
    "(548.23, 14),\n",
    "(107.93, 8),\n",
    "(838.22, 14),\n",
    "(846.85, 21),\n",
    "(234.84,),\n",
    "(850.2, 21),\n",
    "(992.2, 21),\n",
    "(267.01,),\n",
    "(958.91, 21),\n",
    "(412.59,),\n",
    "(283.14,),\n",
    "(350.01, 14),\n",
    "(226.95,),\n",
    "(132.7, 14)]"
   ]
  },
  {
   "cell_type": "code",
   "execution_count": 4,
   "metadata": {},
   "outputs": [],
   "source": [
    "sales = pd.DataFrame(transactions, columns=['sale_amount', 'commission_pct'])"
   ]
  },
  {
   "cell_type": "code",
   "execution_count": 5,
   "metadata": {},
   "outputs": [
    {
     "data": {
      "text/html": [
       "<div>\n",
       "<style scoped>\n",
       "    .dataframe tbody tr th:only-of-type {\n",
       "        vertical-align: middle;\n",
       "    }\n",
       "\n",
       "    .dataframe tbody tr th {\n",
       "        vertical-align: top;\n",
       "    }\n",
       "\n",
       "    .dataframe thead th {\n",
       "        text-align: right;\n",
       "    }\n",
       "</style>\n",
       "<table border=\"1\" class=\"dataframe\">\n",
       "  <thead>\n",
       "    <tr style=\"text-align: right;\">\n",
       "      <th></th>\n",
       "      <th>sale_amount</th>\n",
       "      <th>commission_pct</th>\n",
       "    </tr>\n",
       "  </thead>\n",
       "  <tbody>\n",
       "    <tr>\n",
       "      <th>0</th>\n",
       "      <td>376.00</td>\n",
       "      <td>8.0</td>\n",
       "    </tr>\n",
       "    <tr>\n",
       "      <th>1</th>\n",
       "      <td>548.23</td>\n",
       "      <td>14.0</td>\n",
       "    </tr>\n",
       "    <tr>\n",
       "      <th>2</th>\n",
       "      <td>107.93</td>\n",
       "      <td>8.0</td>\n",
       "    </tr>\n",
       "    <tr>\n",
       "      <th>3</th>\n",
       "      <td>838.22</td>\n",
       "      <td>14.0</td>\n",
       "    </tr>\n",
       "    <tr>\n",
       "      <th>4</th>\n",
       "      <td>846.85</td>\n",
       "      <td>21.0</td>\n",
       "    </tr>\n",
       "    <tr>\n",
       "      <th>5</th>\n",
       "      <td>234.84</td>\n",
       "      <td>NaN</td>\n",
       "    </tr>\n",
       "    <tr>\n",
       "      <th>6</th>\n",
       "      <td>850.20</td>\n",
       "      <td>21.0</td>\n",
       "    </tr>\n",
       "    <tr>\n",
       "      <th>7</th>\n",
       "      <td>992.20</td>\n",
       "      <td>21.0</td>\n",
       "    </tr>\n",
       "    <tr>\n",
       "      <th>8</th>\n",
       "      <td>267.01</td>\n",
       "      <td>NaN</td>\n",
       "    </tr>\n",
       "    <tr>\n",
       "      <th>9</th>\n",
       "      <td>958.91</td>\n",
       "      <td>21.0</td>\n",
       "    </tr>\n",
       "    <tr>\n",
       "      <th>10</th>\n",
       "      <td>412.59</td>\n",
       "      <td>NaN</td>\n",
       "    </tr>\n",
       "    <tr>\n",
       "      <th>11</th>\n",
       "      <td>283.14</td>\n",
       "      <td>NaN</td>\n",
       "    </tr>\n",
       "    <tr>\n",
       "      <th>12</th>\n",
       "      <td>350.01</td>\n",
       "      <td>14.0</td>\n",
       "    </tr>\n",
       "    <tr>\n",
       "      <th>13</th>\n",
       "      <td>226.95</td>\n",
       "      <td>NaN</td>\n",
       "    </tr>\n",
       "    <tr>\n",
       "      <th>14</th>\n",
       "      <td>132.70</td>\n",
       "      <td>14.0</td>\n",
       "    </tr>\n",
       "  </tbody>\n",
       "</table>\n",
       "</div>"
      ],
      "text/plain": [
       "    sale_amount  commission_pct\n",
       "0        376.00             8.0\n",
       "1        548.23            14.0\n",
       "2        107.93             8.0\n",
       "3        838.22            14.0\n",
       "4        846.85            21.0\n",
       "5        234.84             NaN\n",
       "6        850.20            21.0\n",
       "7        992.20            21.0\n",
       "8        267.01             NaN\n",
       "9        958.91            21.0\n",
       "10       412.59             NaN\n",
       "11       283.14             NaN\n",
       "12       350.01            14.0\n",
       "13       226.95             NaN\n",
       "14       132.70            14.0"
      ]
     },
     "execution_count": 5,
     "metadata": {},
     "output_type": "execute_result"
    }
   ],
   "source": [
    "sales"
   ]
  },
  {
   "cell_type": "code",
   "execution_count": 8,
   "metadata": {},
   "outputs": [],
   "source": [
    "sales_filled = sales.fillna(0.0)"
   ]
  },
  {
   "cell_type": "code",
   "execution_count": 12,
   "metadata": {},
   "outputs": [
    {
     "data": {
      "text/plain": [
       "106651.04"
      ]
     },
     "execution_count": 12,
     "metadata": {},
     "output_type": "execute_result"
    }
   ],
   "source": [
    "(sales_filled['sale_amount'] * sales_filled['commission_pct']).sum().round(2)"
   ]
  },
  {
   "cell_type": "markdown",
   "metadata": {},
   "source": [
    "### By Key Aggregations\n",
    "\n",
    "By Key Aggregations are those which are computed per key. Here are some of the examples.\n",
    "* Getting number of orders per day"
   ]
  },
  {
   "cell_type": "code",
   "execution_count": null,
   "metadata": {},
   "outputs": [],
   "source": [
    "orders.groupby(orders['order_date'])['order_id'].count()"
   ]
  },
  {
   "cell_type": "markdown",
   "metadata": {},
   "source": [
    "* Getting number of orders per status"
   ]
  },
  {
   "cell_type": "code",
   "execution_count": null,
   "metadata": {},
   "outputs": [],
   "source": [
    "orders.groupby('order_status')['order_status'].count()"
   ]
  },
  {
   "cell_type": "markdown",
   "metadata": {},
   "source": [
    "* Computing revenue per order"
   ]
  },
  {
   "cell_type": "code",
   "execution_count": null,
   "metadata": {},
   "outputs": [],
   "source": [
    "order_items. \\\n",
    "    groupby('order_item_order_id')['order_item_subtotal']. \\\n",
    "    sum()"
   ]
  },
  {
   "cell_type": "code",
   "execution_count": null,
   "metadata": {},
   "outputs": [],
   "source": [
    "order_items. \\\n",
    "    groupby('order_item_order_id')['order_item_subtotal']. \\\n",
    "    agg(['sum', 'min', 'max', 'count']). \\\n",
    "    rename(columns={'count': 'item_count', 'sum': 'revenue'})"
   ]
  },
  {
   "cell_type": "code",
   "execution_count": null,
   "metadata": {},
   "outputs": [],
   "source": [
    "order_items.rename(columns={'order_item_order_id': 'order_id'})"
   ]
  }
 ],
 "metadata": {
  "kernelspec": {
   "display_name": "Python 3",
   "language": "python",
   "name": "python3"
  },
  "language_info": {
   "codemirror_mode": {
    "name": "ipython",
    "version": 3
   },
   "file_extension": ".py",
   "mimetype": "text/x-python",
   "name": "python",
   "nbconvert_exporter": "python",
   "pygments_lexer": "ipython3",
   "version": "3.6.12"
  }
 },
 "nbformat": 4,
 "nbformat_minor": 4
}
