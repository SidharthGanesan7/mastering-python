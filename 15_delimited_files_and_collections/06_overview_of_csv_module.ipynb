{
 "cells": [
  {
   "cell_type": "markdown",
   "id": "6f53dc81",
   "metadata": {},
   "source": [
    "## Overview of CSV Module\n",
    "\n",
    "Let us get an overview of CSV Module. It provide some wrapper functions to read the delimited data in collections.\n",
    "* You need to import `csv` module to use the functions that are part of it.\n",
    "* It exposes several APIs to deal with collections which contain delimited strings. Most of them are to read and write."
   ]
  },
  {
   "cell_type": "code",
   "execution_count": 1,
   "id": "13b1c558",
   "metadata": {},
   "outputs": [],
   "source": [
    "import csv"
   ]
  },
  {
   "cell_type": "markdown",
   "id": "0f7a7dac",
   "metadata": {},
   "source": [
    "* Let us see how we can read the list with delimited strings using `csv.reader`."
   ]
  },
  {
   "cell_type": "code",
   "execution_count": 2,
   "id": "ac213320",
   "metadata": {},
   "outputs": [],
   "source": [
    "l = ['1,Scott,Tiger', '2,Donald,Duck']"
   ]
  },
  {
   "cell_type": "code",
   "execution_count": 4,
   "id": "8c547f76",
   "metadata": {},
   "outputs": [
    {
     "data": {
      "text/plain": [
       "\u001b[0;31mDocstring:\u001b[0m\n",
       "csv_reader = reader(iterable [, dialect='excel']\n",
       "                        [optional keyword args])\n",
       "    for row in csv_reader:\n",
       "        process(row)\n",
       "\n",
       "The \"iterable\" argument can be any object that returns a line\n",
       "of input for each iteration, such as a file object or a list.  The\n",
       "optional \"dialect\" parameter is discussed below.  The function\n",
       "also accepts optional keyword arguments which override settings\n",
       "provided by the dialect.\n",
       "\n",
       "The returned object is an iterator.  Each iteration returns a row\n",
       "of the CSV file (which can span multiple input lines).\n",
       "\u001b[0;31mType:\u001b[0m      builtin_function_or_method\n"
      ]
     },
     "metadata": {},
     "output_type": "display_data"
    }
   ],
   "source": [
    "csv.reader?"
   ]
  },
  {
   "cell_type": "code",
   "execution_count": null,
   "id": "2d190f7e",
   "metadata": {},
   "outputs": [],
   "source": [
    "list(csv.reader(l))"
   ]
  },
  {
   "cell_type": "code",
   "execution_count": null,
   "id": "bd0ff0ea",
   "metadata": {},
   "outputs": [],
   "source": [
    "for item in list(csv.reader(l)):\n",
    "    print(item)"
   ]
  },
  {
   "cell_type": "code",
   "execution_count": null,
   "id": "750630c5",
   "metadata": {},
   "outputs": [],
   "source": [
    "l = ['1\\tScott\\tTiger', '2\\tDonald\\tDuck']"
   ]
  },
  {
   "cell_type": "code",
   "execution_count": null,
   "id": "fe6e92d1",
   "metadata": {},
   "outputs": [],
   "source": [
    "list(csv.reader(l, delimiter='\\t'))"
   ]
  },
  {
   "cell_type": "code",
   "execution_count": null,
   "id": "88136fb3",
   "metadata": {},
   "outputs": [],
   "source": [
    "lt = [(1, 'Scott', 'Tiger'), (2, 'Donald', 'Duck')]"
   ]
  },
  {
   "cell_type": "markdown",
   "id": "9449fea4",
   "metadata": {},
   "source": [
    "Now let us see how we can write list of tuples to the file using `csv.writer`.\n",
    "* First we need to create file object in write mode.\n",
    "* We need to create csv writer object using `csv.writer`. By default, the object will be created with `,` as delimiter or separator.\n",
    "* We can pass key word argument `delimiter` along with the character using which we want the data to be separated by using specific character."
   ]
  },
  {
   "cell_type": "code",
   "execution_count": null,
   "id": "5b9f83b7",
   "metadata": {},
   "outputs": [],
   "source": [
    "csv.writer?"
   ]
  },
  {
   "cell_type": "code",
   "execution_count": null,
   "id": "e2754b43",
   "metadata": {},
   "outputs": [],
   "source": [
    "!mkdir -p data/users"
   ]
  },
  {
   "cell_type": "code",
   "execution_count": null,
   "id": "a14b6cde",
   "metadata": {},
   "outputs": [],
   "source": [
    "users_file = open('data/users/part-00000', 'w')"
   ]
  },
  {
   "cell_type": "code",
   "execution_count": null,
   "id": "170a25b0",
   "metadata": {},
   "outputs": [],
   "source": [
    "csv_writer = csv.writer(users_file)"
   ]
  },
  {
   "cell_type": "code",
   "execution_count": null,
   "id": "dce94b3e",
   "metadata": {},
   "outputs": [],
   "source": [
    "csv_writer.writerows(lt)"
   ]
  },
  {
   "cell_type": "code",
   "execution_count": null,
   "id": "822c0a28",
   "metadata": {},
   "outputs": [],
   "source": [
    "users_file.close()"
   ]
  },
  {
   "cell_type": "code",
   "execution_count": null,
   "id": "24d25d1e",
   "metadata": {},
   "outputs": [],
   "source": [
    "!ls -ltr data/users/part-00000"
   ]
  },
  {
   "cell_type": "code",
   "execution_count": null,
   "id": "8ec52ef1",
   "metadata": {},
   "outputs": [],
   "source": [
    "!cat data/users/part-00000"
   ]
  },
  {
   "cell_type": "markdown",
   "id": "115d7f8f",
   "metadata": {},
   "source": [
    "* Let us see an example to write the data to the file using `|` as delimiter."
   ]
  },
  {
   "cell_type": "code",
   "execution_count": null,
   "id": "1d988c99",
   "metadata": {},
   "outputs": [],
   "source": [
    "users_file = open('data/users/part-00000', 'w')"
   ]
  },
  {
   "cell_type": "code",
   "execution_count": null,
   "id": "a55622b3",
   "metadata": {},
   "outputs": [],
   "source": [
    "csv_writer = csv.writer(users_file, delimiter='|')"
   ]
  },
  {
   "cell_type": "code",
   "execution_count": null,
   "id": "c60791f1",
   "metadata": {},
   "outputs": [],
   "source": [
    "csv_writer.writerows(lt)"
   ]
  },
  {
   "cell_type": "code",
   "execution_count": null,
   "id": "5dea1db6",
   "metadata": {},
   "outputs": [],
   "source": [
    "users_file.close()"
   ]
  },
  {
   "cell_type": "code",
   "execution_count": null,
   "id": "daf0b5f0",
   "metadata": {},
   "outputs": [],
   "source": [
    "!ls -ltr data/users/part-00000"
   ]
  },
  {
   "cell_type": "code",
   "execution_count": null,
   "id": "d14181f2",
   "metadata": {},
   "outputs": [],
   "source": [
    "!cat data/users/part-00000"
   ]
  },
  {
   "cell_type": "code",
   "execution_count": null,
   "id": "2ef4ca19",
   "metadata": {},
   "outputs": [],
   "source": []
  }
 ],
 "metadata": {
  "kernelspec": {
   "display_name": "Python 3",
   "language": "python",
   "name": "python3"
  },
  "language_info": {
   "codemirror_mode": {
    "name": "ipython",
    "version": 3
   },
   "file_extension": ".py",
   "mimetype": "text/x-python",
   "name": "python",
   "nbconvert_exporter": "python",
   "pygments_lexer": "ipython3",
   "version": "3.6.12"
  }
 },
 "nbformat": 4,
 "nbformat_minor": 5
}
