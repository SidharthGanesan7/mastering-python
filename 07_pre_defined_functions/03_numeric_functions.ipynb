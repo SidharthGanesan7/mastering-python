{
 "cells": [
  {
   "cell_type": "markdown",
   "metadata": {},
   "source": [
    "## Numeric Functions\n",
    "\n",
    "Let us understand some of the common numeric functions we use.\n",
    "* We have functions even for standard operators such as `+`, `-`, `*`, `/`. However, we use operators more often than functions.\n",
    "  * `add` for `+`\n",
    "  * `sub` for `-`\n",
    "  * `mul` for `*`\n",
    "  * `truediv` for `/`\n",
    "* We can use `pow` for getting power value.\n",
    "* We also have `math` library for some advanced mathematical operations.\n",
    "* Also, we have functions such as `min`, `max` to get minimum and maximum of the numbers passed.\n",
    "\n"
   ]
  }
 ],
 "metadata": {
  "kernelspec": {
   "display_name": "Python 3",
   "language": "python",
   "name": "python3"
  },
  "language_info": {
   "codemirror_mode": {
    "name": "ipython",
    "version": 3
   },
   "file_extension": ".py",
   "mimetype": "text/x-python",
   "name": "python",
   "nbconvert_exporter": "python",
   "pygments_lexer": "ipython3",
   "version": "3.8.5"
  }
 },
 "nbformat": 4,
 "nbformat_minor": 4
}
