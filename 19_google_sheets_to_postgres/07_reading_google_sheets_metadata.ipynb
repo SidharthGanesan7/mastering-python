{
 "cells": [
  {
   "cell_type": "markdown",
   "metadata": {},
   "source": [
    "## Reading Google Sheet Metadata\n",
    "\n",
    "Let us understand how to read Google Sheet Metadata such as Title.\n",
    "* Use credentials and also make sure that picke file is generated.\n",
    "* Open the Google Sheet and get the sheet id from the URL.\n",
    "* Create sheet object and invoke `get` by passing sheet id. It will generate **HTTP Request** object.\n",
    "* Use `execute` to get the metadata of the Google Sheet."
   ]
  },
  {
   "cell_type": "code",
   "execution_count": 1,
   "metadata": {},
   "outputs": [],
   "source": [
    "%run 05_overview_of_google_sheets_api.ipynb"
   ]
  },
  {
   "cell_type": "code",
   "execution_count": 2,
   "metadata": {},
   "outputs": [],
   "source": [
    "SPREADSHEET_ID = '1lgyVuw6nVyRnmKtCPbXF4kYcop5HMJ8H3eeNsArAlVk'"
   ]
  },
  {
   "cell_type": "code",
   "execution_count": 3,
   "metadata": {},
   "outputs": [],
   "source": [
    "def get_credentials():\n",
    "    SCOPES = ['https://www.googleapis.com/auth/spreadsheets.readonly']\n",
    "    creds = None\n",
    "    # The file token.pickle stores the user's access and refresh tokens, and is\n",
    "    # created automatically when the authorization flow completes for the first\n",
    "    # time.\n",
    "    if os.path.exists('token.pickle'):\n",
    "        with open('token.pickle', 'rb') as token:\n",
    "            creds = pickle.load(token)\n",
    "\n",
    "    # If there are no (valid) credentials available, let the user log in.\n",
    "    if not creds or not creds.valid:\n",
    "        if creds and creds.expired and creds.refresh_token:\n",
    "            creds.refresh(Request())\n",
    "        else:\n",
    "            flow = InstalledAppFlow.from_client_secrets_file(\n",
    "                'credentials.json', SCOPES)\n",
    "            creds = flow.run_local_server(port=0)\n",
    "        # Save the credentials for the next run\n",
    "        with open('token.pickle', 'wb') as token:\n",
    "            pickle.dump(creds, token)\n",
    "            \n",
    "    return creds"
   ]
  },
  {
   "cell_type": "code",
   "execution_count": 4,
   "metadata": {},
   "outputs": [],
   "source": [
    "creds = get_credentials()"
   ]
  },
  {
   "cell_type": "code",
   "execution_count": 5,
   "metadata": {},
   "outputs": [],
   "source": [
    "service = build('sheets', 'v4', credentials=creds)"
   ]
  },
  {
   "cell_type": "code",
   "execution_count": 6,
   "metadata": {},
   "outputs": [
    {
     "data": {
      "text/plain": [
       "googleapiclient.discovery.Resource"
      ]
     },
     "execution_count": 6,
     "metadata": {},
     "output_type": "execute_result"
    }
   ],
   "source": [
    "type(service)"
   ]
  },
  {
   "cell_type": "code",
   "execution_count": 7,
   "metadata": {},
   "outputs": [],
   "source": [
    "sheet = service.spreadsheets()"
   ]
  },
  {
   "cell_type": "code",
   "execution_count": 8,
   "metadata": {},
   "outputs": [
    {
     "data": {
      "text/plain": [
       "googleapiclient.discovery.Resource"
      ]
     },
     "execution_count": 8,
     "metadata": {},
     "output_type": "execute_result"
    }
   ],
   "source": [
    "type(sheet)"
   ]
  },
  {
   "cell_type": "code",
   "execution_count": 9,
   "metadata": {},
   "outputs": [],
   "source": [
    "sheet_request = sheet.get(spreadsheetId=SPREADSHEET_ID)"
   ]
  },
  {
   "cell_type": "code",
   "execution_count": 10,
   "metadata": {},
   "outputs": [
    {
     "data": {
      "text/plain": [
       "googleapiclient.http.HttpRequest"
      ]
     },
     "execution_count": 10,
     "metadata": {},
     "output_type": "execute_result"
    }
   ],
   "source": [
    "type(sheet_request)"
   ]
  },
  {
   "cell_type": "code",
   "execution_count": 11,
   "metadata": {},
   "outputs": [],
   "source": [
    "sheet_details = sheet_request.execute()"
   ]
  },
  {
   "cell_type": "code",
   "execution_count": 12,
   "metadata": {},
   "outputs": [
    {
     "data": {
      "text/plain": [
       "dict"
      ]
     },
     "execution_count": 12,
     "metadata": {},
     "output_type": "execute_result"
    }
   ],
   "source": [
    "type(sheet_details)"
   ]
  },
  {
   "cell_type": "code",
   "execution_count": 13,
   "metadata": {},
   "outputs": [
    {
     "data": {
      "text/plain": [
       "{'spreadsheetId': '1lgyVuw6nVyRnmKtCPbXF4kYcop5HMJ8H3eeNsArAlVk',\n",
       " 'properties': {'title': 'Get Python Course for free - 1 Month (Responses)',\n",
       "  'locale': 'en_US',\n",
       "  'autoRecalc': 'ON_CHANGE',\n",
       "  'timeZone': 'Asia/Calcutta',\n",
       "  'defaultFormat': {'backgroundColor': {'red': 1, 'green': 1, 'blue': 1},\n",
       "   'padding': {'top': 2, 'right': 3, 'bottom': 2, 'left': 3},\n",
       "   'verticalAlignment': 'BOTTOM',\n",
       "   'wrapStrategy': 'OVERFLOW_CELL',\n",
       "   'textFormat': {'foregroundColor': {},\n",
       "    'fontFamily': 'arial,sans,sans-serif',\n",
       "    'fontSize': 10,\n",
       "    'bold': False,\n",
       "    'italic': False,\n",
       "    'strikethrough': False,\n",
       "    'underline': False,\n",
       "    'foregroundColorStyle': {'rgbColor': {}}},\n",
       "   'backgroundColorStyle': {'rgbColor': {'red': 1, 'green': 1, 'blue': 1}}},\n",
       "  'spreadsheetTheme': {'primaryFontFamily': 'Arial',\n",
       "   'themeColors': [{'colorType': 'ACCENT1',\n",
       "     'color': {'rgbColor': {'red': 0.25882354,\n",
       "       'green': 0.52156866,\n",
       "       'blue': 0.95686275}}},\n",
       "    {'colorType': 'ACCENT6',\n",
       "     'color': {'rgbColor': {'red': 0.27450982,\n",
       "       'green': 0.7411765,\n",
       "       'blue': 0.7764706}}},\n",
       "    {'colorType': 'TEXT', 'color': {'rgbColor': {}}},\n",
       "    {'colorType': 'ACCENT2',\n",
       "     'color': {'rgbColor': {'red': 0.91764706,\n",
       "       'green': 0.2627451,\n",
       "       'blue': 0.20784314}}},\n",
       "    {'colorType': 'ACCENT3',\n",
       "     'color': {'rgbColor': {'red': 0.9843137,\n",
       "       'green': 0.7372549,\n",
       "       'blue': 0.015686275}}},\n",
       "    {'colorType': 'BACKGROUND',\n",
       "     'color': {'rgbColor': {'red': 1, 'green': 1, 'blue': 1}}},\n",
       "    {'colorType': 'ACCENT5',\n",
       "     'color': {'rgbColor': {'red': 1,\n",
       "       'green': 0.42745098,\n",
       "       'blue': 0.003921569}}},\n",
       "    {'colorType': 'ACCENT4',\n",
       "     'color': {'rgbColor': {'red': 0.20392157,\n",
       "       'green': 0.65882355,\n",
       "       'blue': 0.3254902}}},\n",
       "    {'colorType': 'LINK',\n",
       "     'color': {'rgbColor': {'red': 0.06666667,\n",
       "       'green': 0.33333334,\n",
       "       'blue': 0.8}}}]}},\n",
       " 'sheets': [{'properties': {'sheetId': 2119459996,\n",
       "    'title': 'Form Responses 1',\n",
       "    'index': 0,\n",
       "    'sheetType': 'GRID',\n",
       "    'gridProperties': {'rowCount': 544,\n",
       "     'columnCount': 13,\n",
       "     'frozenRowCount': 1}}},\n",
       "  {'properties': {'sheetId': 827582955,\n",
       "    'title': 'Form Masked',\n",
       "    'index': 1,\n",
       "    'sheetType': 'GRID',\n",
       "    'gridProperties': {'rowCount': 510,\n",
       "     'columnCount': 14,\n",
       "     'frozenRowCount': 1}}}],\n",
       " 'spreadsheetUrl': 'https://docs.google.com/spreadsheets/d/1lgyVuw6nVyRnmKtCPbXF4kYcop5HMJ8H3eeNsArAlVk/edit?ouid=108902174097966576329&urlBuilderDomain=itversity.com'}"
      ]
     },
     "execution_count": 13,
     "metadata": {},
     "output_type": "execute_result"
    }
   ],
   "source": [
    "sheet_details"
   ]
  },
  {
   "cell_type": "code",
   "execution_count": 14,
   "metadata": {},
   "outputs": [
    {
     "data": {
      "text/plain": [
       "'Get Python Course for free - 1 Month (Responses)'"
      ]
     },
     "execution_count": 14,
     "metadata": {},
     "output_type": "execute_result"
    }
   ],
   "source": [
    "sheet_details['properties']['title']"
   ]
  },
  {
   "cell_type": "code",
   "execution_count": null,
   "metadata": {},
   "outputs": [],
   "source": [
    "sheet_details['sheets']"
   ]
  },
  {
   "cell_type": "code",
   "execution_count": null,
   "metadata": {},
   "outputs": [],
   "source": [
    "sheet_details['sheets'][0]['properties']"
   ]
  },
  {
   "cell_type": "code",
   "execution_count": null,
   "metadata": {},
   "outputs": [],
   "source": [
    "form_name = sheet_details['properties']['title']"
   ]
  },
  {
   "cell_type": "code",
   "execution_count": null,
   "metadata": {},
   "outputs": [],
   "source": [
    "form_name"
   ]
  },
  {
   "cell_type": "code",
   "execution_count": 15,
   "metadata": {},
   "outputs": [],
   "source": [
    "def get_sheet_name_and_id(service, spreadsheetId):\n",
    "    sheet = service.spreadsheets()\n",
    "    sheet_metadata = sheet.get(spreadsheetId=spreadsheetId).execute()\n",
    "    return {\n",
    "        'id': spreadsheetId,\n",
    "        'title': sheet_metadata['properties']['title']\n",
    "    }"
   ]
  },
  {
   "cell_type": "code",
   "execution_count": 16,
   "metadata": {},
   "outputs": [
    {
     "data": {
      "text/plain": [
       "{'id': '1lgyVuw6nVyRnmKtCPbXF4kYcop5HMJ8H3eeNsArAlVk',\n",
       " 'title': 'Get Python Course for free - 1 Month (Responses)'}"
      ]
     },
     "execution_count": 16,
     "metadata": {},
     "output_type": "execute_result"
    }
   ],
   "source": [
    "get_sheet_name_and_id(service, SPREADSHEET_ID)"
   ]
  },
  {
   "cell_type": "code",
   "execution_count": null,
   "metadata": {},
   "outputs": [],
   "source": []
  }
 ],
 "metadata": {
  "kernelspec": {
   "display_name": "Python 3",
   "language": "python",
   "name": "python3"
  },
  "language_info": {
   "codemirror_mode": {
    "name": "ipython",
    "version": 3
   },
   "file_extension": ".py",
   "mimetype": "text/x-python",
   "name": "python",
   "nbconvert_exporter": "python",
   "pygments_lexer": "ipython3",
   "version": "3.6.12"
  }
 },
 "nbformat": 4,
 "nbformat_minor": 4
}
