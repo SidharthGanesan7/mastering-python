{
 "cells": [
  {
   "cell_type": "markdown",
   "metadata": {},
   "source": [
    "## Processing Data using Pandas\n",
    "\n",
    "Before loading the data into the table, I need to take care of processing the data. Here are the columns used as part of the sheet based up on the questions from the form.\n",
    "\n",
    "|Column Name|\n",
    "|-----------|\n",
    "|Timestamp|\n",
    "|Email Address|\n",
    "|First Name|\n",
    "|Last Name|\n",
    "|Why you want to learn Python?|\n",
    "|Current Status|\n",
    "|If experienced, what is your current role?|\n",
    "\n",
    "I would like to have the target data in this form so that I can load into RDBMS databases such as MySQL, Postgres, Oracle etc. We will name the table as **users**.\n",
    "\n",
    "|Column Name|Data Type|Additional Details|\n",
    "|-----------|---------|---|\n",
    "|user_id|int|sequence generated and primary key|\n",
    "|email_id|string|unique|\n",
    "|first_name|string||\n",
    "|last_name|string||\n",
    "\n",
    "**form_submissions** will contain the below fields. This is child table to users where user_id is foreign key to user_id in users.\n",
    "\n",
    "|Column Name|Data Type|Additional Details|\n",
    "|-----------|---------|---|\n",
    "|submission_id|int|sequence generated and primary key|\n",
    "|user_id|string|unique along with form_id|\n",
    "|form_id|string|unique along with user_id|\n",
    "|form_title|string||\n",
    "|submitted_ts|string or timestamp||\n"
   ]
  },
  {
   "cell_type": "code",
   "execution_count": 63,
   "metadata": {},
   "outputs": [],
   "source": [
    "import pickle\n",
    "import os.path\n",
    "from googleapiclient.discovery import build\n",
    "from google_auth_oauthlib.flow import InstalledAppFlow\n",
    "from google.auth.transport.requests import Request"
   ]
  },
  {
   "cell_type": "code",
   "execution_count": 64,
   "metadata": {},
   "outputs": [],
   "source": [
    "def get_credentials():\n",
    "    SCOPES = ['https://www.googleapis.com/auth/spreadsheets.readonly']\n",
    "    creds = None\n",
    "    # The file token.pickle stores the user's access and refresh tokens, and is\n",
    "    # created automatically when the authorization flow completes for the first\n",
    "    # time.\n",
    "    if os.path.exists('token.pickle'):\n",
    "        with open('token.pickle', 'rb') as token:\n",
    "            creds = pickle.load(token)\n",
    "\n",
    "    # If there are no (valid) credentials available, let the user log in.\n",
    "    if not creds or not creds.valid:\n",
    "        if creds and creds.expired and creds.refresh_token:\n",
    "            creds.refresh(Request())\n",
    "        else:\n",
    "            flow = InstalledAppFlow.from_client_secrets_file(\n",
    "                'credentials.json', SCOPES)\n",
    "            creds = flow.run_local_server(port=0)\n",
    "        # Save the credentials for the next run\n",
    "        with open('token.pickle', 'wb') as token:\n",
    "            pickle.dump(creds, token)\n",
    "            \n",
    "    return creds"
   ]
  },
  {
   "cell_type": "code",
   "execution_count": 65,
   "metadata": {},
   "outputs": [],
   "source": [
    "def get_sheet_name_and_id(service, spreadsheetId):\n",
    "    sheet = service.spreadsheets()\n",
    "    sheet_metadata = sheet.get(spreadsheetId=spreadsheetId).execute()\n",
    "    return {\n",
    "        'id': spreadsheetId,\n",
    "        'title': sheet_metadata['properties']['title']\n",
    "    }"
   ]
  },
  {
   "cell_type": "code",
   "execution_count": 66,
   "metadata": {},
   "outputs": [],
   "source": [
    "def get_sheet_data(service, spreadsheet_id, spreadsheet_range):\n",
    "    sheet = service.spreadsheets()\n",
    "    sheet_values = sheet.values()\n",
    "    sheet_details = sheet_values.get(spreadsheetId=spreadsheet_id,\n",
    "                            range=spreadsheet_range).execute()\n",
    "    return sheet_details.get('values')[0], sheet_details.get('values')[1:]"
   ]
  },
  {
   "cell_type": "code",
   "execution_count": 67,
   "metadata": {},
   "outputs": [],
   "source": [
    "SPREADSHEET_ID = '1lgyVuw6nVyRnmKtCPbXF4kYcop5HMJ8H3eeNsArAlVk'"
   ]
  },
  {
   "cell_type": "code",
   "execution_count": 68,
   "metadata": {},
   "outputs": [],
   "source": [
    "RANGE_NAME = 'Form Masked!A1:G'"
   ]
  },
  {
   "cell_type": "code",
   "execution_count": 69,
   "metadata": {},
   "outputs": [],
   "source": [
    "creds = get_credentials()"
   ]
  },
  {
   "cell_type": "code",
   "execution_count": 70,
   "metadata": {},
   "outputs": [],
   "source": [
    "service = build('sheets', 'v4', credentials=creds)"
   ]
  },
  {
   "cell_type": "code",
   "execution_count": 71,
   "metadata": {},
   "outputs": [],
   "source": [
    "sheet_metadata = get_sheet_name_and_id(service, SPREADSHEET_ID)"
   ]
  },
  {
   "cell_type": "code",
   "execution_count": 72,
   "metadata": {},
   "outputs": [
    {
     "data": {
      "text/plain": [
       "{'id': '1lgyVuw6nVyRnmKtCPbXF4kYcop5HMJ8H3eeNsArAlVk',\n",
       " 'title': 'Get Python Course for free - 1 Month (Responses)'}"
      ]
     },
     "execution_count": 72,
     "metadata": {},
     "output_type": "execute_result"
    }
   ],
   "source": [
    "sheet_metadata"
   ]
  },
  {
   "cell_type": "code",
   "execution_count": 73,
   "metadata": {},
   "outputs": [],
   "source": [
    "sheet_columns, sheet_rows = get_sheet_data(service, SPREADSHEET_ID, RANGE_NAME)"
   ]
  },
  {
   "cell_type": "code",
   "execution_count": 74,
   "metadata": {},
   "outputs": [
    {
     "name": "stdout",
     "output_type": "stream",
     "text": [
      "Timestamp\n",
      "ITVersity Id\n",
      "Email Address\n",
      "First Name\n",
      "Last Name\n",
      "Why you want to learn Python?\n",
      "Current Status\n"
     ]
    }
   ],
   "source": [
    "for column in sheet_columns: print(column)"
   ]
  },
  {
   "cell_type": "code",
   "execution_count": 75,
   "metadata": {},
   "outputs": [
    {
     "name": "stdout",
     "output_type": "stream",
     "text": [
      "['12/16/2020 13:33:22', 'ITV00002', 'ITV00002@gmail.com', 'Vijay', 'Garudeswar', 'Data engineering and python developmentnfor server administration', '7+ years of experience']\n",
      "['12/16/2020 13:33:54', 'ITV00003', 'ITV00003@gmail.com', 'Vishnu', 'Munagala', 'Yes', '7+ years of experience']\n",
      "['12/16/2020 13:33:57', 'ITV00004', 'ITV00004@gmail.com', 'SATISH', 'KUMAR', 'Career growth ', '3 to 7 years of experience']\n"
     ]
    }
   ],
   "source": [
    "for row in sheet_rows[:3]: print(row)"
   ]
  },
  {
   "cell_type": "code",
   "execution_count": 76,
   "metadata": {},
   "outputs": [],
   "source": [
    "import pandas as pd\n",
    "\n",
    "sheet_df = pd.DataFrame(sheet_rows, columns=sheet_columns)"
   ]
  },
  {
   "cell_type": "code",
   "execution_count": 77,
   "metadata": {},
   "outputs": [
    {
     "data": {
      "text/plain": [
       "Index(['Last Name', 'Why you want to learn Python?', 'Current Status'], dtype='object')"
      ]
     },
     "execution_count": 77,
     "metadata": {},
     "output_type": "execute_result"
    }
   ],
   "source": [
    "sheet_df.columns[4:]"
   ]
  },
  {
   "cell_type": "code",
   "execution_count": 78,
   "metadata": {},
   "outputs": [],
   "source": [
    "sheet_df = sheet_df.drop(sheet_df.columns[4:], axis=1)"
   ]
  },
  {
   "cell_type": "code",
   "execution_count": 79,
   "metadata": {},
   "outputs": [],
   "source": [
    "import json"
   ]
  },
  {
   "cell_type": "code",
   "execution_count": 80,
   "metadata": {},
   "outputs": [],
   "source": [
    "sheet_df['forms'] = sheet_df. \\\n",
    "    apply(\n",
    "        lambda rec: {'id': sheet_metadata['id'], 'title': sheet_metadata['title'], 'submitted_ts': rec['Timestamp']},\n",
    "        axis=1\n",
    "    )"
   ]
  },
  {
   "cell_type": "code",
   "execution_count": 81,
   "metadata": {},
   "outputs": [
    {
     "data": {
      "text/plain": [
       "0      {'id': '1lgyVuw6nVyRnmKtCPbXF4kYcop5HMJ8H3eeNs...\n",
       "1      {'id': '1lgyVuw6nVyRnmKtCPbXF4kYcop5HMJ8H3eeNs...\n",
       "2      {'id': '1lgyVuw6nVyRnmKtCPbXF4kYcop5HMJ8H3eeNs...\n",
       "3      {'id': '1lgyVuw6nVyRnmKtCPbXF4kYcop5HMJ8H3eeNs...\n",
       "4      {'id': '1lgyVuw6nVyRnmKtCPbXF4kYcop5HMJ8H3eeNs...\n",
       "                             ...                        \n",
       "404    {'id': '1lgyVuw6nVyRnmKtCPbXF4kYcop5HMJ8H3eeNs...\n",
       "405    {'id': '1lgyVuw6nVyRnmKtCPbXF4kYcop5HMJ8H3eeNs...\n",
       "406    {'id': '1lgyVuw6nVyRnmKtCPbXF4kYcop5HMJ8H3eeNs...\n",
       "407    {'id': '1lgyVuw6nVyRnmKtCPbXF4kYcop5HMJ8H3eeNs...\n",
       "408    {'id': '1lgyVuw6nVyRnmKtCPbXF4kYcop5HMJ8H3eeNs...\n",
       "Name: forms, Length: 409, dtype: object"
      ]
     },
     "execution_count": 81,
     "metadata": {},
     "output_type": "execute_result"
    }
   ],
   "source": [
    "sheet_df['forms']"
   ]
  },
  {
   "cell_type": "code",
   "execution_count": 82,
   "metadata": {},
   "outputs": [],
   "source": [
    "sheet_df = sheet_df.drop('Timestamp', axis=1)"
   ]
  },
  {
   "cell_type": "code",
   "execution_count": 83,
   "metadata": {},
   "outputs": [],
   "source": [
    "sheet_df.columns = ['email_id', 'first_name', 'last_name', 'forms']"
   ]
  },
  {
   "cell_type": "code",
   "execution_count": 84,
   "metadata": {},
   "outputs": [
    {
     "data": {
      "text/html": [
       "<div>\n",
       "<style scoped>\n",
       "    .dataframe tbody tr th:only-of-type {\n",
       "        vertical-align: middle;\n",
       "    }\n",
       "\n",
       "    .dataframe tbody tr th {\n",
       "        vertical-align: top;\n",
       "    }\n",
       "\n",
       "    .dataframe thead th {\n",
       "        text-align: right;\n",
       "    }\n",
       "</style>\n",
       "<table border=\"1\" class=\"dataframe\">\n",
       "  <thead>\n",
       "    <tr style=\"text-align: right;\">\n",
       "      <th></th>\n",
       "      <th>email_id</th>\n",
       "      <th>first_name</th>\n",
       "      <th>last_name</th>\n",
       "      <th>forms</th>\n",
       "    </tr>\n",
       "  </thead>\n",
       "  <tbody>\n",
       "    <tr>\n",
       "      <th>0</th>\n",
       "      <td>ITV00002</td>\n",
       "      <td>ITV00002@gmail.com</td>\n",
       "      <td>Vijay</td>\n",
       "      <td>{'id': '1lgyVuw6nVyRnmKtCPbXF4kYcop5HMJ8H3eeNs...</td>\n",
       "    </tr>\n",
       "    <tr>\n",
       "      <th>1</th>\n",
       "      <td>ITV00003</td>\n",
       "      <td>ITV00003@gmail.com</td>\n",
       "      <td>Vishnu</td>\n",
       "      <td>{'id': '1lgyVuw6nVyRnmKtCPbXF4kYcop5HMJ8H3eeNs...</td>\n",
       "    </tr>\n",
       "    <tr>\n",
       "      <th>2</th>\n",
       "      <td>ITV00004</td>\n",
       "      <td>ITV00004@gmail.com</td>\n",
       "      <td>SATISH</td>\n",
       "      <td>{'id': '1lgyVuw6nVyRnmKtCPbXF4kYcop5HMJ8H3eeNs...</td>\n",
       "    </tr>\n",
       "    <tr>\n",
       "      <th>3</th>\n",
       "      <td>ITV00005</td>\n",
       "      <td>ITV00005@gmail.com</td>\n",
       "      <td>Marvathi</td>\n",
       "      <td>{'id': '1lgyVuw6nVyRnmKtCPbXF4kYcop5HMJ8H3eeNs...</td>\n",
       "    </tr>\n",
       "    <tr>\n",
       "      <th>4</th>\n",
       "      <td>ITV00006</td>\n",
       "      <td>ITV00006@gmail.com</td>\n",
       "      <td>Shams</td>\n",
       "      <td>{'id': '1lgyVuw6nVyRnmKtCPbXF4kYcop5HMJ8H3eeNs...</td>\n",
       "    </tr>\n",
       "    <tr>\n",
       "      <th>...</th>\n",
       "      <td>...</td>\n",
       "      <td>...</td>\n",
       "      <td>...</td>\n",
       "      <td>...</td>\n",
       "    </tr>\n",
       "    <tr>\n",
       "      <th>404</th>\n",
       "      <td>ITV00406</td>\n",
       "      <td>ITV00406@gmail.com</td>\n",
       "      <td>Meena</td>\n",
       "      <td>{'id': '1lgyVuw6nVyRnmKtCPbXF4kYcop5HMJ8H3eeNs...</td>\n",
       "    </tr>\n",
       "    <tr>\n",
       "      <th>405</th>\n",
       "      <td>ITV00407</td>\n",
       "      <td>ITV00407@gmail.com</td>\n",
       "      <td>Neeraja</td>\n",
       "      <td>{'id': '1lgyVuw6nVyRnmKtCPbXF4kYcop5HMJ8H3eeNs...</td>\n",
       "    </tr>\n",
       "    <tr>\n",
       "      <th>406</th>\n",
       "      <td>ITV00408</td>\n",
       "      <td>ITV00408@gmail.com</td>\n",
       "      <td>Kundan Varma</td>\n",
       "      <td>{'id': '1lgyVuw6nVyRnmKtCPbXF4kYcop5HMJ8H3eeNs...</td>\n",
       "    </tr>\n",
       "    <tr>\n",
       "      <th>407</th>\n",
       "      <td>ITV00409</td>\n",
       "      <td>ITV00409@gmail.com</td>\n",
       "      <td>Mayur</td>\n",
       "      <td>{'id': '1lgyVuw6nVyRnmKtCPbXF4kYcop5HMJ8H3eeNs...</td>\n",
       "    </tr>\n",
       "    <tr>\n",
       "      <th>408</th>\n",
       "      <td>ITV00410</td>\n",
       "      <td>ITV00410@gmail.com</td>\n",
       "      <td>Vaninder</td>\n",
       "      <td>{'id': '1lgyVuw6nVyRnmKtCPbXF4kYcop5HMJ8H3eeNs...</td>\n",
       "    </tr>\n",
       "  </tbody>\n",
       "</table>\n",
       "<p>409 rows × 4 columns</p>\n",
       "</div>"
      ],
      "text/plain": [
       "     email_id          first_name     last_name  \\\n",
       "0    ITV00002  ITV00002@gmail.com         Vijay   \n",
       "1    ITV00003  ITV00003@gmail.com        Vishnu   \n",
       "2    ITV00004  ITV00004@gmail.com        SATISH   \n",
       "3    ITV00005  ITV00005@gmail.com      Marvathi   \n",
       "4    ITV00006  ITV00006@gmail.com         Shams   \n",
       "..        ...                 ...           ...   \n",
       "404  ITV00406  ITV00406@gmail.com         Meena   \n",
       "405  ITV00407  ITV00407@gmail.com       Neeraja   \n",
       "406  ITV00408  ITV00408@gmail.com  Kundan Varma   \n",
       "407  ITV00409  ITV00409@gmail.com         Mayur   \n",
       "408  ITV00410  ITV00410@gmail.com      Vaninder   \n",
       "\n",
       "                                                 forms  \n",
       "0    {'id': '1lgyVuw6nVyRnmKtCPbXF4kYcop5HMJ8H3eeNs...  \n",
       "1    {'id': '1lgyVuw6nVyRnmKtCPbXF4kYcop5HMJ8H3eeNs...  \n",
       "2    {'id': '1lgyVuw6nVyRnmKtCPbXF4kYcop5HMJ8H3eeNs...  \n",
       "3    {'id': '1lgyVuw6nVyRnmKtCPbXF4kYcop5HMJ8H3eeNs...  \n",
       "4    {'id': '1lgyVuw6nVyRnmKtCPbXF4kYcop5HMJ8H3eeNs...  \n",
       "..                                                 ...  \n",
       "404  {'id': '1lgyVuw6nVyRnmKtCPbXF4kYcop5HMJ8H3eeNs...  \n",
       "405  {'id': '1lgyVuw6nVyRnmKtCPbXF4kYcop5HMJ8H3eeNs...  \n",
       "406  {'id': '1lgyVuw6nVyRnmKtCPbXF4kYcop5HMJ8H3eeNs...  \n",
       "407  {'id': '1lgyVuw6nVyRnmKtCPbXF4kYcop5HMJ8H3eeNs...  \n",
       "408  {'id': '1lgyVuw6nVyRnmKtCPbXF4kYcop5HMJ8H3eeNs...  \n",
       "\n",
       "[409 rows x 4 columns]"
      ]
     },
     "execution_count": 84,
     "metadata": {},
     "output_type": "execute_result"
    }
   ],
   "source": [
    "sheet_df"
   ]
  },
  {
   "cell_type": "code",
   "execution_count": null,
   "metadata": {},
   "outputs": [],
   "source": [
    "emails_list = sheet_df.to_dict('records')"
   ]
  },
  {
   "cell_type": "code",
   "execution_count": null,
   "metadata": {},
   "outputs": [],
   "source": [
    "sheet_df[sheet_df.email_id.str.startswith('anil')]"
   ]
  },
  {
   "cell_type": "code",
   "execution_count": null,
   "metadata": {},
   "outputs": [],
   "source": [
    "emails_list[:3]"
   ]
  }
 ],
 "metadata": {
  "kernelspec": {
   "display_name": "Python 3",
   "language": "python",
   "name": "python3"
  },
  "language_info": {
   "codemirror_mode": {
    "name": "ipython",
    "version": 3
   },
   "file_extension": ".py",
   "mimetype": "text/x-python",
   "name": "python",
   "nbconvert_exporter": "python",
   "pygments_lexer": "ipython3",
   "version": "3.6.12"
  }
 },
 "nbformat": 4,
 "nbformat_minor": 4
}
