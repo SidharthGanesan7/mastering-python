{
 "cells": [
  {
   "cell_type": "markdown",
   "id": "989bb8ce",
   "metadata": {},
   "source": [
    "## Exercises - Sorting lists and sets\n",
    "\n",
    "Let us perform few exercises to sort lists and sets."
   ]
  },
  {
   "cell_type": "markdown",
   "id": "0143ccc3",
   "metadata": {},
   "source": [
    "### Exercise 1 - Sort Players by name\n",
    "\n",
    "Sort famous players by their name. The list contains comma separated strings with player name followed by the sport they play."
   ]
  },
  {
   "cell_type": "code",
   "execution_count": null,
   "id": "ced52d88",
   "metadata": {},
   "outputs": [],
   "source": [
    "famous_players = ['Pete Sampras,Tennis',\n",
    " 'Sachin Tendulkar,Cricket',\n",
    " 'Brian Lara,Cricket',\n",
    " 'Diego Maradona,Soccer',\n",
    " 'Roger Federer,Tennis',\n",
    " 'Ian Thorpe,Swimming',\n",
    " 'Ronaldo,Soccer',\n",
    " 'Usain Bolt,Running',\n",
    " 'P. V. Sindhu,Badminton',\n",
    " 'Shane Warne,Cricket',\n",
    " 'David Beckham,Cricket',\n",
    " 'Michael Phelps,Swimming']"
   ]
  },
  {
   "cell_type": "code",
   "execution_count": null,
   "id": "3ff74102",
   "metadata": {},
   "outputs": [],
   "source": [
    "# Your code should go here"
   ]
  },
  {
   "cell_type": "markdown",
   "id": "36f339f4",
   "metadata": {},
   "source": [
    "* Here is the desired output.\n",
    "```python\n",
    "['Brian Lara,Cricket',\n",
    " 'David Beckham,Cricket',\n",
    " 'Diego Maradona,Soccer',\n",
    " 'Ian Thorpe,Swimming',\n",
    " 'Michael Phelps,Swimming',\n",
    " 'P. V. Sindhu,Badminton',\n",
    " 'Pete Sampras,Tennis',\n",
    " 'Roger Federer,Tennis',\n",
    " 'Ronaldo,Soccer',\n",
    " 'Sachin Tendulkar,Cricket',\n",
    " 'Shane Warne,Cricket',\n",
    " 'Usain Bolt,Running']\n",
    "```"
   ]
  },
  {
   "cell_type": "markdown",
   "id": "cebf7039",
   "metadata": {},
   "source": [
    "### Exercise 2 - Sort Players by sport\n",
    "\n",
    "Sort famous players by the sport name. The list contains comma separated strings with player name followed by the sport they play."
   ]
  },
  {
   "cell_type": "code",
   "execution_count": null,
   "id": "810a3d4b",
   "metadata": {},
   "outputs": [],
   "source": [
    "famous_players = ['Pete Sampras,Tennis',\n",
    " 'Sachin Tendulkar,Cricket',\n",
    " 'Brian Lara,Cricket',\n",
    " 'Diego Maradona,Soccer',\n",
    " 'Roger Federer,Tennis',\n",
    " 'Ian Thorpe,Swimming',\n",
    " 'Ronaldo,Soccer',\n",
    " 'Usain Bolt,Running',\n",
    " 'P. V. Sindhu,Badminton',\n",
    " 'Shane Warne,Cricket',\n",
    " 'David Beckham,Cricket',\n",
    " 'Michael Phelps,Swimming']"
   ]
  },
  {
   "cell_type": "code",
   "execution_count": null,
   "id": "647ff63e",
   "metadata": {},
   "outputs": [],
   "source": [
    "# Your code should go here"
   ]
  },
  {
   "cell_type": "markdown",
   "id": "e6fd48e0",
   "metadata": {},
   "source": [
    "* Here is the desired output.\n",
    "```python\n",
    "['P. V. Sindhu,Badminton',\n",
    " 'Sachin Tendulkar,Cricket',\n",
    " 'Brian Lara,Cricket',\n",
    " 'Shane Warne,Cricket',\n",
    " 'David Beckham,Cricket',\n",
    " 'Usain Bolt,Running',\n",
    " 'Diego Maradona,Soccer',\n",
    " 'Ronaldo,Soccer',\n",
    " 'Ian Thorpe,Swimming',\n",
    " 'Michael Phelps,Swimming',\n",
    " 'Pete Sampras,Tennis',\n",
    " 'Roger Federer,Tennis']\n",
    "```"
   ]
  },
  {
   "cell_type": "markdown",
   "id": "1788395e",
   "metadata": {},
   "source": [
    "### Exercise 3 - Sort inventory by quantity\n",
    "\n",
    "Sort the set of inventory by quantity. Each element of the set is of type string where we have inventory item and corresponding quantity separated by **:**.\n",
    "* Please note that, quantity is missing for couple of items.\n",
    "* Data should be sorted in ascending order by quantity numerically."
   ]
  },
  {
   "cell_type": "code",
   "execution_count": null,
   "id": "d5e35f6d",
   "metadata": {},
   "outputs": [],
   "source": [
    "inventory = {'almond milk:5',\n",
    " 'cake mix:50',\n",
    " 'cardamom:2',\n",
    " 'cashews:',\n",
    " 'pistachios:3',\n",
    " 'rice:50',\n",
    " 'sugar:10',\n",
    " 'vegetable oil:',\n",
    " 'wheat:300'}"
   ]
  },
  {
   "cell_type": "code",
   "execution_count": null,
   "id": "0b2b2301",
   "metadata": {},
   "outputs": [],
   "source": [
    "# Your code should go here"
   ]
  },
  {
   "cell_type": "markdown",
   "id": "d92a6a8e",
   "metadata": {},
   "source": [
    "* Here is the desired output\n",
    "\n",
    "```python\n",
    "['cashews:',\n",
    " 'vegetable oil:',\n",
    " 'cardamom:2',\n",
    " 'pistachios:3',\n",
    " 'almond milk:5',\n",
    " 'sugar:10',\n",
    " 'cake mix:50',\n",
    " 'rice:50',\n",
    " 'wheat:300']\n",
    "```"
   ]
  }
 ],
 "metadata": {
  "kernelspec": {
   "display_name": "Python 3",
   "language": "python",
   "name": "python3"
  },
  "language_info": {
   "codemirror_mode": {
    "name": "ipython",
    "version": 3
   },
   "file_extension": ".py",
   "mimetype": "text/x-python",
   "name": "python",
   "nbconvert_exporter": "python",
   "pygments_lexer": "ipython3",
   "version": "3.6.12"
  }
 },
 "nbformat": 4,
 "nbformat_minor": 5
}
