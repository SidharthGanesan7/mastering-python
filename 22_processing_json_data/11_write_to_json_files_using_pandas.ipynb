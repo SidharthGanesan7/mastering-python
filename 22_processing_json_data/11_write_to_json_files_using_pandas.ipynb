{
 "cells": [
  {
   "cell_type": "markdown",
   "id": "52f7abd8",
   "metadata": {},
   "source": [
    "## Write to JSON files using pandas\n",
    "\n",
    "Let us understand how to write to JSON files using `pandas` module.\n",
    "* We can use `to_json` to write to JSON file using `pandas`."
   ]
  },
  {
   "cell_type": "code",
   "execution_count": 1,
   "id": "e487a76b",
   "metadata": {},
   "outputs": [],
   "source": [
    "import pandas as pd"
   ]
  },
  {
   "cell_type": "code",
   "execution_count": 2,
   "id": "5a59439c",
   "metadata": {},
   "outputs": [],
   "source": [
    "courses = [{'course_name': 'Programming using Python',\n",
    "  'course_author': 'Bob Dillon',\n",
    "  'course_status': 'published',\n",
    "  'course_published_dt': '2020-09-30'},\n",
    " {'course_name': 'Data Engineering using Python',\n",
    "  'course_author': 'Bob Dillon',\n",
    "  'course_status': 'published',\n",
    "  'course_published_dt': '2020-07-15'}]"
   ]
  },
  {
   "cell_type": "code",
   "execution_count": 3,
   "id": "bbae243e",
   "metadata": {},
   "outputs": [],
   "source": [
    "df = pd.DataFrame(courses)"
   ]
  },
  {
   "cell_type": "code",
   "execution_count": null,
   "id": "9c30e8ed",
   "metadata": {},
   "outputs": [],
   "source": [
    "df.to_json?"
   ]
  },
  {
   "cell_type": "markdown",
   "id": "4858ac56",
   "metadata": {},
   "source": [
    "* Dumping a JSON documents into a file with one JSON document per line."
   ]
  },
  {
   "cell_type": "code",
   "execution_count": 5,
   "id": "8d12bbe1",
   "metadata": {},
   "outputs": [],
   "source": [
    "courses = [{'course_name': 'Programming using Python',\n",
    "  'course_author': 'Bob Dillon',\n",
    "  'course_status': 'published',\n",
    "  'course_published_dt': '2020-09-30'},\n",
    " {'course_name': 'Data Engineering using Python',\n",
    "  'course_author': 'Bob Dillon',\n",
    "  'course_status': 'published',\n",
    "  'course_published_dt': '2020-07-15'},\n",
    " {'course_name': 'Data Engineering using Scala',\n",
    "  'course_author': 'Elvis Presley',\n",
    "  'course_status': 'draft',\n",
    "  'course_published_dt': None},\n",
    " {'course_name': 'Programming using Scala',\n",
    "  'course_author': 'Elvis Presley',\n",
    "  'course_status': 'published',\n",
    "  'course_published_dt': '2020-05-12'},\n",
    " {'course_name': 'Programming using Java',\n",
    "  'course_author': 'Mike Jack',\n",
    "  'course_status': 'inactive',\n",
    "  'course_published_dt': '2020-08-10'},\n",
    " {'course_name': 'Web Applications - Python Flask',\n",
    "  'course_author': 'Bob Dillon',\n",
    "  'course_status': 'inactive',\n",
    "  'course_published_dt': '2020-07-20'},\n",
    " {'course_name': 'Web Applications - Java Spring',\n",
    "  'course_author': 'Mike Jack',\n",
    "  'course_status': 'draft',\n",
    "  'course_published_dt': None},\n",
    " {'course_name': 'Pipeline Orchestration - Python',\n",
    "  'course_author': 'Bob Dillon',\n",
    "  'course_status': 'draft',\n",
    "  'course_published_dt': None},\n",
    " {'course_name': 'Streaming Pipelines - Python',\n",
    "  'course_author': 'Bob Dillon',\n",
    "  'course_status': 'published',\n",
    "  'course_published_dt': '2020-10-05'},\n",
    " {'course_name': 'Web Applications - Scala Play',\n",
    "  'course_author': 'Elvis Presley',\n",
    "  'course_status': 'inactive',\n",
    "  'course_published_dt': '2020-09-30'},\n",
    " {'course_name': 'Web Applications - Python Django',\n",
    "  'course_author': 'Bob Dillon',\n",
    "  'course_status': 'published',\n",
    "  'course_published_dt': '2020-06-23'},\n",
    " {'course_name': 'Server Automation - Ansible',\n",
    "  'course_author': 'Uncle Sam',\n",
    "  'course_status': 'published',\n",
    "  'course_published_dt': '2020-07-05'}]"
   ]
  },
  {
   "cell_type": "code",
   "execution_count": 6,
   "id": "5940dbc6",
   "metadata": {},
   "outputs": [],
   "source": [
    "!rm courses.json"
   ]
  },
  {
   "cell_type": "code",
   "execution_count": 7,
   "id": "c389a2d2",
   "metadata": {},
   "outputs": [],
   "source": [
    "import pandas as pd"
   ]
  },
  {
   "cell_type": "code",
   "execution_count": 8,
   "id": "0afa5cf1",
   "metadata": {},
   "outputs": [],
   "source": [
    "courses_df = pd.DataFrame(courses)"
   ]
  },
  {
   "cell_type": "code",
   "execution_count": 9,
   "id": "4c4de84c",
   "metadata": {},
   "outputs": [
    {
     "data": {
      "text/html": [
       "<div>\n",
       "<style scoped>\n",
       "    .dataframe tbody tr th:only-of-type {\n",
       "        vertical-align: middle;\n",
       "    }\n",
       "\n",
       "    .dataframe tbody tr th {\n",
       "        vertical-align: top;\n",
       "    }\n",
       "\n",
       "    .dataframe thead th {\n",
       "        text-align: right;\n",
       "    }\n",
       "</style>\n",
       "<table border=\"1\" class=\"dataframe\">\n",
       "  <thead>\n",
       "    <tr style=\"text-align: right;\">\n",
       "      <th></th>\n",
       "      <th>course_name</th>\n",
       "      <th>course_author</th>\n",
       "      <th>course_status</th>\n",
       "      <th>course_published_dt</th>\n",
       "    </tr>\n",
       "  </thead>\n",
       "  <tbody>\n",
       "    <tr>\n",
       "      <th>0</th>\n",
       "      <td>Programming using Python</td>\n",
       "      <td>Bob Dillon</td>\n",
       "      <td>published</td>\n",
       "      <td>2020-09-30</td>\n",
       "    </tr>\n",
       "    <tr>\n",
       "      <th>1</th>\n",
       "      <td>Data Engineering using Python</td>\n",
       "      <td>Bob Dillon</td>\n",
       "      <td>published</td>\n",
       "      <td>2020-07-15</td>\n",
       "    </tr>\n",
       "    <tr>\n",
       "      <th>2</th>\n",
       "      <td>Data Engineering using Scala</td>\n",
       "      <td>Elvis Presley</td>\n",
       "      <td>draft</td>\n",
       "      <td>None</td>\n",
       "    </tr>\n",
       "    <tr>\n",
       "      <th>3</th>\n",
       "      <td>Programming using Scala</td>\n",
       "      <td>Elvis Presley</td>\n",
       "      <td>published</td>\n",
       "      <td>2020-05-12</td>\n",
       "    </tr>\n",
       "    <tr>\n",
       "      <th>4</th>\n",
       "      <td>Programming using Java</td>\n",
       "      <td>Mike Jack</td>\n",
       "      <td>inactive</td>\n",
       "      <td>2020-08-10</td>\n",
       "    </tr>\n",
       "    <tr>\n",
       "      <th>5</th>\n",
       "      <td>Web Applications - Python Flask</td>\n",
       "      <td>Bob Dillon</td>\n",
       "      <td>inactive</td>\n",
       "      <td>2020-07-20</td>\n",
       "    </tr>\n",
       "    <tr>\n",
       "      <th>6</th>\n",
       "      <td>Web Applications - Java Spring</td>\n",
       "      <td>Mike Jack</td>\n",
       "      <td>draft</td>\n",
       "      <td>None</td>\n",
       "    </tr>\n",
       "    <tr>\n",
       "      <th>7</th>\n",
       "      <td>Pipeline Orchestration - Python</td>\n",
       "      <td>Bob Dillon</td>\n",
       "      <td>draft</td>\n",
       "      <td>None</td>\n",
       "    </tr>\n",
       "    <tr>\n",
       "      <th>8</th>\n",
       "      <td>Streaming Pipelines - Python</td>\n",
       "      <td>Bob Dillon</td>\n",
       "      <td>published</td>\n",
       "      <td>2020-10-05</td>\n",
       "    </tr>\n",
       "    <tr>\n",
       "      <th>9</th>\n",
       "      <td>Web Applications - Scala Play</td>\n",
       "      <td>Elvis Presley</td>\n",
       "      <td>inactive</td>\n",
       "      <td>2020-09-30</td>\n",
       "    </tr>\n",
       "    <tr>\n",
       "      <th>10</th>\n",
       "      <td>Web Applications - Python Django</td>\n",
       "      <td>Bob Dillon</td>\n",
       "      <td>published</td>\n",
       "      <td>2020-06-23</td>\n",
       "    </tr>\n",
       "    <tr>\n",
       "      <th>11</th>\n",
       "      <td>Server Automation - Ansible</td>\n",
       "      <td>Uncle Sam</td>\n",
       "      <td>published</td>\n",
       "      <td>2020-07-05</td>\n",
       "    </tr>\n",
       "  </tbody>\n",
       "</table>\n",
       "</div>"
      ],
      "text/plain": [
       "                         course_name  course_author course_status  \\\n",
       "0           Programming using Python     Bob Dillon     published   \n",
       "1      Data Engineering using Python     Bob Dillon     published   \n",
       "2       Data Engineering using Scala  Elvis Presley         draft   \n",
       "3            Programming using Scala  Elvis Presley     published   \n",
       "4             Programming using Java      Mike Jack      inactive   \n",
       "5    Web Applications - Python Flask     Bob Dillon      inactive   \n",
       "6     Web Applications - Java Spring      Mike Jack         draft   \n",
       "7    Pipeline Orchestration - Python     Bob Dillon         draft   \n",
       "8       Streaming Pipelines - Python     Bob Dillon     published   \n",
       "9      Web Applications - Scala Play  Elvis Presley      inactive   \n",
       "10  Web Applications - Python Django     Bob Dillon     published   \n",
       "11       Server Automation - Ansible      Uncle Sam     published   \n",
       "\n",
       "   course_published_dt  \n",
       "0           2020-09-30  \n",
       "1           2020-07-15  \n",
       "2                 None  \n",
       "3           2020-05-12  \n",
       "4           2020-08-10  \n",
       "5           2020-07-20  \n",
       "6                 None  \n",
       "7                 None  \n",
       "8           2020-10-05  \n",
       "9           2020-09-30  \n",
       "10          2020-06-23  \n",
       "11          2020-07-05  "
      ]
     },
     "execution_count": 9,
     "metadata": {},
     "output_type": "execute_result"
    }
   ],
   "source": [
    "courses_df"
   ]
  },
  {
   "cell_type": "code",
   "execution_count": 11,
   "id": "aecac16a",
   "metadata": {},
   "outputs": [],
   "source": [
    "courses_df.to_json('courses.json', orient='records', lines=True)"
   ]
  },
  {
   "cell_type": "code",
   "execution_count": 12,
   "id": "ad822ff0",
   "metadata": {},
   "outputs": [
    {
     "name": "stdout",
     "output_type": "stream",
     "text": [
      "-rw-r--r-- 1 itversity itversity 1632 Jun 24 01:17 courses.json\n"
     ]
    }
   ],
   "source": [
    "!ls -ltr courses.json"
   ]
  },
  {
   "cell_type": "code",
   "execution_count": 13,
   "id": "63dd434a",
   "metadata": {},
   "outputs": [
    {
     "name": "stdout",
     "output_type": "stream",
     "text": [
      "{\"course_name\":\"Programming using Python\",\"course_author\":\"Bob Dillon\",\"course_status\":\"published\",\"course_published_dt\":\"2020-09-30\"}\n",
      "{\"course_name\":\"Data Engineering using Python\",\"course_author\":\"Bob Dillon\",\"course_status\":\"published\",\"course_published_dt\":\"2020-07-15\"}\n",
      "{\"course_name\":\"Data Engineering using Scala\",\"course_author\":\"Elvis Presley\",\"course_status\":\"draft\",\"course_published_dt\":null}\n",
      "{\"course_name\":\"Programming using Scala\",\"course_author\":\"Elvis Presley\",\"course_status\":\"published\",\"course_published_dt\":\"2020-05-12\"}\n",
      "{\"course_name\":\"Programming using Java\",\"course_author\":\"Mike Jack\",\"course_status\":\"inactive\",\"course_published_dt\":\"2020-08-10\"}\n",
      "{\"course_name\":\"Web Applications - Python Flask\",\"course_author\":\"Bob Dillon\",\"course_status\":\"inactive\",\"course_published_dt\":\"2020-07-20\"}\n",
      "{\"course_name\":\"Web Applications - Java Spring\",\"course_author\":\"Mike Jack\",\"course_status\":\"draft\",\"course_published_dt\":null}\n",
      "{\"course_name\":\"Pipeline Orchestration - Python\",\"course_author\":\"Bob Dillon\",\"course_status\":\"draft\",\"course_published_dt\":null}\n",
      "{\"course_name\":\"Streaming Pipelines - Python\",\"course_author\":\"Bob Dillon\",\"course_status\":\"published\",\"course_published_dt\":\"2020-10-05\"}\n",
      "{\"course_name\":\"Web Applications - Scala Play\",\"course_author\":\"Elvis Presley\",\"course_status\":\"inactive\",\"course_published_dt\":\"2020-09-30\"}\n",
      "{\"course_name\":\"Web Applications - Python Django\",\"course_author\":\"Bob Dillon\",\"course_status\":\"published\",\"course_published_dt\":\"2020-06-23\"}\n",
      "{\"course_name\":\"Server Automation - Ansible\",\"course_author\":\"Uncle Sam\",\"course_status\":\"published\",\"course_published_dt\":\"2020-07-05\"}"
     ]
    }
   ],
   "source": [
    "!cat courses.json"
   ]
  },
  {
   "cell_type": "markdown",
   "id": "6103812d",
   "metadata": {},
   "source": [
    "* We can also write Pandas dataframe to json file with orient split."
   ]
  },
  {
   "cell_type": "code",
   "execution_count": 14,
   "id": "3302f17b",
   "metadata": {},
   "outputs": [],
   "source": [
    "courses_df.to_json('courses.json', orient='split')"
   ]
  },
  {
   "cell_type": "code",
   "execution_count": 15,
   "id": "c2dbecd6",
   "metadata": {},
   "outputs": [
    {
     "name": "stdout",
     "output_type": "stream",
     "text": [
      "-rw-r--r-- 1 itversity itversity 943 Jun 24 01:17 courses.json\n"
     ]
    }
   ],
   "source": [
    "!ls -ltr courses.json"
   ]
  },
  {
   "cell_type": "code",
   "execution_count": 16,
   "id": "153f6cb8",
   "metadata": {},
   "outputs": [
    {
     "name": "stdout",
     "output_type": "stream",
     "text": [
      "{\"columns\":[\"course_name\",\"course_author\",\"course_status\",\"course_published_dt\"],\"index\":[0,1,2,3,4,5,6,7,8,9,10,11],\"data\":[[\"Programming using Python\",\"Bob Dillon\",\"published\",\"2020-09-30\"],[\"Data Engineering using Python\",\"Bob Dillon\",\"published\",\"2020-07-15\"],[\"Data Engineering using Scala\",\"Elvis Presley\",\"draft\",null],[\"Programming using Scala\",\"Elvis Presley\",\"published\",\"2020-05-12\"],[\"Programming using Java\",\"Mike Jack\",\"inactive\",\"2020-08-10\"],[\"Web Applications - Python Flask\",\"Bob Dillon\",\"inactive\",\"2020-07-20\"],[\"Web Applications - Java Spring\",\"Mike Jack\",\"draft\",null],[\"Pipeline Orchestration - Python\",\"Bob Dillon\",\"draft\",null],[\"Streaming Pipelines - Python\",\"Bob Dillon\",\"published\",\"2020-10-05\"],[\"Web Applications - Scala Play\",\"Elvis Presley\",\"inactive\",\"2020-09-30\"],[\"Web Applications - Python Django\",\"Bob Dillon\",\"published\",\"2020-06-23\"],[\"Server Automation - Ansible\",\"Uncle Sam\",\"published\",\"2020-07-05\"]]}"
     ]
    }
   ],
   "source": [
    "!cat courses.json"
   ]
  },
  {
   "cell_type": "markdown",
   "id": "40ddfb1d",
   "metadata": {},
   "source": [
    "* We can also write Pandas dataframe to json file with orient records. It wil generate string with valid JSON array."
   ]
  },
  {
   "cell_type": "code",
   "execution_count": 17,
   "id": "5d6635d3",
   "metadata": {},
   "outputs": [],
   "source": [
    "courses_df.to_json('courses.json', orient='records')"
   ]
  },
  {
   "cell_type": "code",
   "execution_count": 18,
   "id": "d99e07a3",
   "metadata": {},
   "outputs": [
    {
     "name": "stdout",
     "output_type": "stream",
     "text": [
      "-rw-r--r-- 1 itversity itversity 1634 Jun 24 01:19 courses.json\n"
     ]
    }
   ],
   "source": [
    "!ls -ltr courses.json"
   ]
  },
  {
   "cell_type": "code",
   "execution_count": 19,
   "id": "0f78b2f1",
   "metadata": {},
   "outputs": [
    {
     "name": "stdout",
     "output_type": "stream",
     "text": [
      "[{\"course_name\":\"Programming using Python\",\"course_author\":\"Bob Dillon\",\"course_status\":\"published\",\"course_published_dt\":\"2020-09-30\"},{\"course_name\":\"Data Engineering using Python\",\"course_author\":\"Bob Dillon\",\"course_status\":\"published\",\"course_published_dt\":\"2020-07-15\"},{\"course_name\":\"Data Engineering using Scala\",\"course_author\":\"Elvis Presley\",\"course_status\":\"draft\",\"course_published_dt\":null},{\"course_name\":\"Programming using Scala\",\"course_author\":\"Elvis Presley\",\"course_status\":\"published\",\"course_published_dt\":\"2020-05-12\"},{\"course_name\":\"Programming using Java\",\"course_author\":\"Mike Jack\",\"course_status\":\"inactive\",\"course_published_dt\":\"2020-08-10\"},{\"course_name\":\"Web Applications - Python Flask\",\"course_author\":\"Bob Dillon\",\"course_status\":\"inactive\",\"course_published_dt\":\"2020-07-20\"},{\"course_name\":\"Web Applications - Java Spring\",\"course_author\":\"Mike Jack\",\"course_status\":\"draft\",\"course_published_dt\":null},{\"course_name\":\"Pipeline Orchestration - Python\",\"course_author\":\"Bob Dillon\",\"course_status\":\"draft\",\"course_published_dt\":null},{\"course_name\":\"Streaming Pipelines - Python\",\"course_author\":\"Bob Dillon\",\"course_status\":\"published\",\"course_published_dt\":\"2020-10-05\"},{\"course_name\":\"Web Applications - Scala Play\",\"course_author\":\"Elvis Presley\",\"course_status\":\"inactive\",\"course_published_dt\":\"2020-09-30\"},{\"course_name\":\"Web Applications - Python Django\",\"course_author\":\"Bob Dillon\",\"course_status\":\"published\",\"course_published_dt\":\"2020-06-23\"},{\"course_name\":\"Server Automation - Ansible\",\"course_author\":\"Uncle Sam\",\"course_status\":\"published\",\"course_published_dt\":\"2020-07-05\"}]"
     ]
    }
   ],
   "source": [
    "!cat courses.json"
   ]
  }
 ],
 "metadata": {
  "kernelspec": {
   "display_name": "Python 3",
   "language": "python",
   "name": "python3"
  },
  "language_info": {
   "codemirror_mode": {
    "name": "ipython",
    "version": 3
   },
   "file_extension": ".py",
   "mimetype": "text/x-python",
   "name": "python",
   "nbconvert_exporter": "python",
   "pygments_lexer": "ipython3",
   "version": "3.6.12"
  }
 },
 "nbformat": 4,
 "nbformat_minor": 5
}
