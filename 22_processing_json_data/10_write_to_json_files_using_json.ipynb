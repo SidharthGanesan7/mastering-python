{
 "cells": [
  {
   "cell_type": "markdown",
   "id": "1c8d65d4",
   "metadata": {},
   "source": [
    "## Write to JSON files using json\n",
    "\n",
    "Let us understand how to write to JSON files using `json` module.\n",
    "* We can use `dump` to save JSON data to files. We can also generate a JSON string from a `dict` using `dumps`."
   ]
  },
  {
   "cell_type": "code",
   "execution_count": 1,
   "id": "5fab1ab9",
   "metadata": {},
   "outputs": [],
   "source": [
    "course = {'course_name': 'Programming using Python',\n",
    "  'course_author': 'Bob Dillon',\n",
    "  'course_status': 'published',\n",
    "  'course_published_dt': '2020-09-30'}"
   ]
  },
  {
   "cell_type": "code",
   "execution_count": 2,
   "id": "33c7924b",
   "metadata": {},
   "outputs": [
    {
     "data": {
      "text/plain": [
       "dict"
      ]
     },
     "execution_count": 2,
     "metadata": {},
     "output_type": "execute_result"
    }
   ],
   "source": [
    "type(course)"
   ]
  },
  {
   "cell_type": "code",
   "execution_count": 3,
   "id": "d72ccdd7",
   "metadata": {},
   "outputs": [],
   "source": [
    "import json"
   ]
  },
  {
   "cell_type": "code",
   "execution_count": 4,
   "id": "6f2444dd",
   "metadata": {},
   "outputs": [
    {
     "data": {
      "text/plain": [
       "'{\"course_name\": \"Programming using Python\", \"course_author\": \"Bob Dillon\", \"course_status\": \"published\", \"course_published_dt\": \"2020-09-30\"}'"
      ]
     },
     "execution_count": 4,
     "metadata": {},
     "output_type": "execute_result"
    }
   ],
   "source": [
    "json.dumps(course)"
   ]
  },
  {
   "cell_type": "code",
   "execution_count": 5,
   "id": "8ae55715",
   "metadata": {},
   "outputs": [
    {
     "data": {
      "text/plain": [
       "str"
      ]
     },
     "execution_count": 5,
     "metadata": {},
     "output_type": "execute_result"
    }
   ],
   "source": [
    "type(json.dumps(course))"
   ]
  },
  {
   "cell_type": "code",
   "execution_count": 6,
   "id": "ad42e640",
   "metadata": {},
   "outputs": [],
   "source": [
    "courses = [{'course_name': 'Programming using Python',\n",
    "  'course_author': 'Bob Dillon',\n",
    "  'course_status': 'published',\n",
    "  'course_published_dt': '2020-09-30'},\n",
    " {'course_name': 'Data Engineering using Python',\n",
    "  'course_author': 'Bob Dillon',\n",
    "  'course_status': 'published',\n",
    "  'course_published_dt': '2020-07-15'},\n",
    " {'course_name': 'Data Engineering using Scala',\n",
    "  'course_author': 'Elvis Presley',\n",
    "  'course_status': 'draft',\n",
    "  'course_published_dt': None},\n",
    " {'course_name': 'Programming using Scala',\n",
    "  'course_author': 'Elvis Presley',\n",
    "  'course_status': 'published',\n",
    "  'course_published_dt': '2020-05-12'},\n",
    " {'course_name': 'Programming using Java',\n",
    "  'course_author': 'Mike Jack',\n",
    "  'course_status': 'inactive',\n",
    "  'course_published_dt': '2020-08-10'},\n",
    " {'course_name': 'Web Applications - Python Flask',\n",
    "  'course_author': 'Bob Dillon',\n",
    "  'course_status': 'inactive',\n",
    "  'course_published_dt': '2020-07-20'},\n",
    " {'course_name': 'Web Applications - Java Spring',\n",
    "  'course_author': 'Mike Jack',\n",
    "  'course_status': 'draft',\n",
    "  'course_published_dt': None},\n",
    " {'course_name': 'Pipeline Orchestration - Python',\n",
    "  'course_author': 'Bob Dillon',\n",
    "  'course_status': 'draft',\n",
    "  'course_published_dt': None},\n",
    " {'course_name': 'Streaming Pipelines - Python',\n",
    "  'course_author': 'Bob Dillon',\n",
    "  'course_status': 'published',\n",
    "  'course_published_dt': '2020-10-05'},\n",
    " {'course_name': 'Web Applications - Scala Play',\n",
    "  'course_author': 'Elvis Presley',\n",
    "  'course_status': 'inactive',\n",
    "  'course_published_dt': '2020-09-30'},\n",
    " {'course_name': 'Web Applications - Python Django',\n",
    "  'course_author': 'Bob Dillon',\n",
    "  'course_status': 'published',\n",
    "  'course_published_dt': '2020-06-23'},\n",
    " {'course_name': 'Server Automation - Ansible',\n",
    "  'course_author': 'Uncle Sam',\n",
    "  'course_status': 'published',\n",
    "  'course_published_dt': '2020-07-05'}]"
   ]
  },
  {
   "cell_type": "code",
   "execution_count": 7,
   "id": "aaa00c99",
   "metadata": {},
   "outputs": [
    {
     "data": {
      "text/plain": [
       "'[{\"course_name\": \"Programming using Python\", \"course_author\": \"Bob Dillon\", \"course_status\": \"published\", \"course_published_dt\": \"2020-09-30\"}, {\"course_name\": \"Data Engineering using Python\", \"course_author\": \"Bob Dillon\", \"course_status\": \"published\", \"course_published_dt\": \"2020-07-15\"}, {\"course_name\": \"Data Engineering using Scala\", \"course_author\": \"Elvis Presley\", \"course_status\": \"draft\", \"course_published_dt\": null}, {\"course_name\": \"Programming using Scala\", \"course_author\": \"Elvis Presley\", \"course_status\": \"published\", \"course_published_dt\": \"2020-05-12\"}, {\"course_name\": \"Programming using Java\", \"course_author\": \"Mike Jack\", \"course_status\": \"inactive\", \"course_published_dt\": \"2020-08-10\"}, {\"course_name\": \"Web Applications - Python Flask\", \"course_author\": \"Bob Dillon\", \"course_status\": \"inactive\", \"course_published_dt\": \"2020-07-20\"}, {\"course_name\": \"Web Applications - Java Spring\", \"course_author\": \"Mike Jack\", \"course_status\": \"draft\", \"course_published_dt\": null}, {\"course_name\": \"Pipeline Orchestration - Python\", \"course_author\": \"Bob Dillon\", \"course_status\": \"draft\", \"course_published_dt\": null}, {\"course_name\": \"Streaming Pipelines - Python\", \"course_author\": \"Bob Dillon\", \"course_status\": \"published\", \"course_published_dt\": \"2020-10-05\"}, {\"course_name\": \"Web Applications - Scala Play\", \"course_author\": \"Elvis Presley\", \"course_status\": \"inactive\", \"course_published_dt\": \"2020-09-30\"}, {\"course_name\": \"Web Applications - Python Django\", \"course_author\": \"Bob Dillon\", \"course_status\": \"published\", \"course_published_dt\": \"2020-06-23\"}, {\"course_name\": \"Server Automation - Ansible\", \"course_author\": \"Uncle Sam\", \"course_status\": \"published\", \"course_published_dt\": \"2020-07-05\"}]'"
      ]
     },
     "execution_count": 7,
     "metadata": {},
     "output_type": "execute_result"
    }
   ],
   "source": [
    "json.dumps(courses)"
   ]
  },
  {
   "cell_type": "markdown",
   "id": "f11cdbce",
   "metadata": {},
   "source": [
    "* Dumping a JSON array to the file."
   ]
  },
  {
   "cell_type": "code",
   "execution_count": null,
   "id": "64b51820",
   "metadata": {},
   "outputs": [],
   "source": [
    "json.dump?"
   ]
  },
  {
   "cell_type": "code",
   "execution_count": null,
   "id": "de3cf0be",
   "metadata": {},
   "outputs": [],
   "source": [
    "open?"
   ]
  },
  {
   "cell_type": "code",
   "execution_count": 13,
   "id": "8403a73e",
   "metadata": {},
   "outputs": [],
   "source": [
    "courses_file = open('courses.json', 'w')"
   ]
  },
  {
   "cell_type": "code",
   "execution_count": 14,
   "id": "0460845f",
   "metadata": {},
   "outputs": [],
   "source": [
    "json.dump(courses, courses_file)"
   ]
  },
  {
   "cell_type": "code",
   "execution_count": 15,
   "id": "b6bfb513",
   "metadata": {},
   "outputs": [],
   "source": [
    "courses_file.close()"
   ]
  },
  {
   "cell_type": "code",
   "execution_count": 16,
   "id": "dd4029a7",
   "metadata": {},
   "outputs": [
    {
     "name": "stdout",
     "output_type": "stream",
     "text": [
      "-rw-r--r-- 1 itversity itversity 1729 Jun 24 01:10 courses.json\n"
     ]
    }
   ],
   "source": [
    "!ls -ltr courses.json"
   ]
  },
  {
   "cell_type": "code",
   "execution_count": 17,
   "id": "f7390ee0",
   "metadata": {},
   "outputs": [
    {
     "name": "stdout",
     "output_type": "stream",
     "text": [
      "[{\"course_name\": \"Programming using Python\", \"course_author\": \"Bob Dillon\", \"course_status\": \"published\", \"course_published_dt\": \"2020-09-30\"}, {\"course_name\": \"Data Engineering using Python\", \"course_author\": \"Bob Dillon\", \"course_status\": \"published\", \"course_published_dt\": \"2020-07-15\"}, {\"course_name\": \"Data Engineering using Scala\", \"course_author\": \"Elvis Presley\", \"course_status\": \"draft\", \"course_published_dt\": null}, {\"course_name\": \"Programming using Scala\", \"course_author\": \"Elvis Presley\", \"course_status\": \"published\", \"course_published_dt\": \"2020-05-12\"}, {\"course_name\": \"Programming using Java\", \"course_author\": \"Mike Jack\", \"course_status\": \"inactive\", \"course_published_dt\": \"2020-08-10\"}, {\"course_name\": \"Web Applications - Python Flask\", \"course_author\": \"Bob Dillon\", \"course_status\": \"inactive\", \"course_published_dt\": \"2020-07-20\"}, {\"course_name\": \"Web Applications - Java Spring\", \"course_author\": \"Mike Jack\", \"course_status\": \"draft\", \"course_published_dt\": null}, {\"course_name\": \"Pipeline Orchestration - Python\", \"course_author\": \"Bob Dillon\", \"course_status\": \"draft\", \"course_published_dt\": null}, {\"course_name\": \"Streaming Pipelines - Python\", \"course_author\": \"Bob Dillon\", \"course_status\": \"published\", \"course_published_dt\": \"2020-10-05\"}, {\"course_name\": \"Web Applications - Scala Play\", \"course_author\": \"Elvis Presley\", \"course_status\": \"inactive\", \"course_published_dt\": \"2020-09-30\"}, {\"course_name\": \"Web Applications - Python Django\", \"course_author\": \"Bob Dillon\", \"course_status\": \"published\", \"course_published_dt\": \"2020-06-23\"}, {\"course_name\": \"Server Automation - Ansible\", \"course_author\": \"Uncle Sam\", \"course_status\": \"published\", \"course_published_dt\": \"2020-07-05\"}]"
     ]
    }
   ],
   "source": [
    "!cat courses.json"
   ]
  },
  {
   "cell_type": "markdown",
   "id": "b25c39f1",
   "metadata": {},
   "source": [
    "* Dumping a JSON documents into a file with one JSON document per line."
   ]
  },
  {
   "cell_type": "code",
   "execution_count": 41,
   "id": "71de0bc2",
   "metadata": {},
   "outputs": [],
   "source": [
    "!rm courses.json"
   ]
  },
  {
   "cell_type": "code",
   "execution_count": 42,
   "id": "1562db26",
   "metadata": {},
   "outputs": [],
   "source": [
    "courses_file = open('courses.json', 'w')"
   ]
  },
  {
   "cell_type": "code",
   "execution_count": 43,
   "id": "8ab89c02",
   "metadata": {},
   "outputs": [],
   "source": [
    "for course in courses:\n",
    "    json.dump(course, courses_file) # Writing one JSON at a time.\n",
    "    courses_file.write('\\n') # we need to add new line character after each JSON document in the file."
   ]
  },
  {
   "cell_type": "code",
   "execution_count": 44,
   "id": "b47f6cb2",
   "metadata": {},
   "outputs": [],
   "source": [
    "courses_file.close()"
   ]
  },
  {
   "cell_type": "code",
   "execution_count": 45,
   "id": "9418694c",
   "metadata": {},
   "outputs": [
    {
     "name": "stdout",
     "output_type": "stream",
     "text": [
      "-rw-r--r-- 1 itversity itversity 1717 Jun 24 01:14 courses.json\n"
     ]
    }
   ],
   "source": [
    "!ls -ltr courses.json"
   ]
  },
  {
   "cell_type": "code",
   "execution_count": 46,
   "id": "c8dee203",
   "metadata": {},
   "outputs": [
    {
     "name": "stdout",
     "output_type": "stream",
     "text": [
      "{\"course_name\": \"Programming using Python\", \"course_author\": \"Bob Dillon\", \"course_status\": \"published\", \"course_published_dt\": \"2020-09-30\"}\n",
      "{\"course_name\": \"Data Engineering using Python\", \"course_author\": \"Bob Dillon\", \"course_status\": \"published\", \"course_published_dt\": \"2020-07-15\"}\n",
      "{\"course_name\": \"Data Engineering using Scala\", \"course_author\": \"Elvis Presley\", \"course_status\": \"draft\", \"course_published_dt\": null}\n",
      "{\"course_name\": \"Programming using Scala\", \"course_author\": \"Elvis Presley\", \"course_status\": \"published\", \"course_published_dt\": \"2020-05-12\"}\n",
      "{\"course_name\": \"Programming using Java\", \"course_author\": \"Mike Jack\", \"course_status\": \"inactive\", \"course_published_dt\": \"2020-08-10\"}\n",
      "{\"course_name\": \"Web Applications - Python Flask\", \"course_author\": \"Bob Dillon\", \"course_status\": \"inactive\", \"course_published_dt\": \"2020-07-20\"}\n",
      "{\"course_name\": \"Web Applications - Java Spring\", \"course_author\": \"Mike Jack\", \"course_status\": \"draft\", \"course_published_dt\": null}\n",
      "{\"course_name\": \"Pipeline Orchestration - Python\", \"course_author\": \"Bob Dillon\", \"course_status\": \"draft\", \"course_published_dt\": null}\n",
      "{\"course_name\": \"Streaming Pipelines - Python\", \"course_author\": \"Bob Dillon\", \"course_status\": \"published\", \"course_published_dt\": \"2020-10-05\"}\n",
      "{\"course_name\": \"Web Applications - Scala Play\", \"course_author\": \"Elvis Presley\", \"course_status\": \"inactive\", \"course_published_dt\": \"2020-09-30\"}\n",
      "{\"course_name\": \"Web Applications - Python Django\", \"course_author\": \"Bob Dillon\", \"course_status\": \"published\", \"course_published_dt\": \"2020-06-23\"}\n",
      "{\"course_name\": \"Server Automation - Ansible\", \"course_author\": \"Uncle Sam\", \"course_status\": \"published\", \"course_published_dt\": \"2020-07-05\"}\n"
     ]
    }
   ],
   "source": [
    "!cat courses.json"
   ]
  },
  {
   "cell_type": "code",
   "execution_count": 47,
   "id": "32eaf813",
   "metadata": {},
   "outputs": [],
   "source": [
    "import pandas as pd"
   ]
  },
  {
   "cell_type": "code",
   "execution_count": 49,
   "id": "f01e6bca",
   "metadata": {},
   "outputs": [
    {
     "data": {
      "text/html": [
       "<div>\n",
       "<style scoped>\n",
       "    .dataframe tbody tr th:only-of-type {\n",
       "        vertical-align: middle;\n",
       "    }\n",
       "\n",
       "    .dataframe tbody tr th {\n",
       "        vertical-align: top;\n",
       "    }\n",
       "\n",
       "    .dataframe thead th {\n",
       "        text-align: right;\n",
       "    }\n",
       "</style>\n",
       "<table border=\"1\" class=\"dataframe\">\n",
       "  <thead>\n",
       "    <tr style=\"text-align: right;\">\n",
       "      <th></th>\n",
       "      <th>course_name</th>\n",
       "      <th>course_author</th>\n",
       "      <th>course_status</th>\n",
       "      <th>course_published_dt</th>\n",
       "    </tr>\n",
       "  </thead>\n",
       "  <tbody>\n",
       "    <tr>\n",
       "      <th>0</th>\n",
       "      <td>Programming using Python</td>\n",
       "      <td>Bob Dillon</td>\n",
       "      <td>published</td>\n",
       "      <td>2020-09-30</td>\n",
       "    </tr>\n",
       "    <tr>\n",
       "      <th>1</th>\n",
       "      <td>Data Engineering using Python</td>\n",
       "      <td>Bob Dillon</td>\n",
       "      <td>published</td>\n",
       "      <td>2020-07-15</td>\n",
       "    </tr>\n",
       "    <tr>\n",
       "      <th>2</th>\n",
       "      <td>Data Engineering using Scala</td>\n",
       "      <td>Elvis Presley</td>\n",
       "      <td>draft</td>\n",
       "      <td>None</td>\n",
       "    </tr>\n",
       "    <tr>\n",
       "      <th>3</th>\n",
       "      <td>Programming using Scala</td>\n",
       "      <td>Elvis Presley</td>\n",
       "      <td>published</td>\n",
       "      <td>2020-05-12</td>\n",
       "    </tr>\n",
       "    <tr>\n",
       "      <th>4</th>\n",
       "      <td>Programming using Java</td>\n",
       "      <td>Mike Jack</td>\n",
       "      <td>inactive</td>\n",
       "      <td>2020-08-10</td>\n",
       "    </tr>\n",
       "    <tr>\n",
       "      <th>5</th>\n",
       "      <td>Web Applications - Python Flask</td>\n",
       "      <td>Bob Dillon</td>\n",
       "      <td>inactive</td>\n",
       "      <td>2020-07-20</td>\n",
       "    </tr>\n",
       "    <tr>\n",
       "      <th>6</th>\n",
       "      <td>Web Applications - Java Spring</td>\n",
       "      <td>Mike Jack</td>\n",
       "      <td>draft</td>\n",
       "      <td>None</td>\n",
       "    </tr>\n",
       "    <tr>\n",
       "      <th>7</th>\n",
       "      <td>Pipeline Orchestration - Python</td>\n",
       "      <td>Bob Dillon</td>\n",
       "      <td>draft</td>\n",
       "      <td>None</td>\n",
       "    </tr>\n",
       "    <tr>\n",
       "      <th>8</th>\n",
       "      <td>Streaming Pipelines - Python</td>\n",
       "      <td>Bob Dillon</td>\n",
       "      <td>published</td>\n",
       "      <td>2020-10-05</td>\n",
       "    </tr>\n",
       "    <tr>\n",
       "      <th>9</th>\n",
       "      <td>Web Applications - Scala Play</td>\n",
       "      <td>Elvis Presley</td>\n",
       "      <td>inactive</td>\n",
       "      <td>2020-09-30</td>\n",
       "    </tr>\n",
       "    <tr>\n",
       "      <th>10</th>\n",
       "      <td>Web Applications - Python Django</td>\n",
       "      <td>Bob Dillon</td>\n",
       "      <td>published</td>\n",
       "      <td>2020-06-23</td>\n",
       "    </tr>\n",
       "    <tr>\n",
       "      <th>11</th>\n",
       "      <td>Server Automation - Ansible</td>\n",
       "      <td>Uncle Sam</td>\n",
       "      <td>published</td>\n",
       "      <td>2020-07-05</td>\n",
       "    </tr>\n",
       "  </tbody>\n",
       "</table>\n",
       "</div>"
      ],
      "text/plain": [
       "                         course_name  course_author course_status  \\\n",
       "0           Programming using Python     Bob Dillon     published   \n",
       "1      Data Engineering using Python     Bob Dillon     published   \n",
       "2       Data Engineering using Scala  Elvis Presley         draft   \n",
       "3            Programming using Scala  Elvis Presley     published   \n",
       "4             Programming using Java      Mike Jack      inactive   \n",
       "5    Web Applications - Python Flask     Bob Dillon      inactive   \n",
       "6     Web Applications - Java Spring      Mike Jack         draft   \n",
       "7    Pipeline Orchestration - Python     Bob Dillon         draft   \n",
       "8       Streaming Pipelines - Python     Bob Dillon     published   \n",
       "9      Web Applications - Scala Play  Elvis Presley      inactive   \n",
       "10  Web Applications - Python Django     Bob Dillon     published   \n",
       "11       Server Automation - Ansible      Uncle Sam     published   \n",
       "\n",
       "   course_published_dt  \n",
       "0           2020-09-30  \n",
       "1           2020-07-15  \n",
       "2                 None  \n",
       "3           2020-05-12  \n",
       "4           2020-08-10  \n",
       "5           2020-07-20  \n",
       "6                 None  \n",
       "7                 None  \n",
       "8           2020-10-05  \n",
       "9           2020-09-30  \n",
       "10          2020-06-23  \n",
       "11          2020-07-05  "
      ]
     },
     "execution_count": 49,
     "metadata": {},
     "output_type": "execute_result"
    }
   ],
   "source": [
    "pd.read_json('courses.json', lines=True)"
   ]
  }
 ],
 "metadata": {
  "kernelspec": {
   "display_name": "Pyspark 3",
   "language": "python",
   "name": "pyspark3"
  },
  "language_info": {
   "codemirror_mode": {
    "name": "ipython",
    "version": 3
   },
   "file_extension": ".py",
   "mimetype": "text/x-python",
   "name": "python",
   "nbconvert_exporter": "python",
   "pygments_lexer": "ipython3",
   "version": "3.6.12"
  }
 },
 "nbformat": 4,
 "nbformat_minor": 5
}
