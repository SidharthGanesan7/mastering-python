{
 "cells": [
  {
   "cell_type": "markdown",
   "id": "4dc222b5",
   "metadata": {},
   "source": [
    "## Read Data from file\n",
    "\n",
    "Develop logic to read the data from tab delimited file into list of tuples.\n",
    "* The file which you are supposed to use is **./data/courses/courses.csv** in the current folder.\n",
    "* It is a text file where lines are delimited by **new line** character.\n",
    "* Each line contain data for multiple attributes related to courses table. Each attribute value in each line is separated by **'\\t'** (tab) character.\n",
    "* The first line of the file is header, it means we have name of the attributes as part of the first line.\n",
    "* You need to develop a function which will return list of tuples with all the values from the file.\n",
    "\n",
    "**Hint: Using Pandas or csv will facilitate you to come up with the solution faster**"
   ]
  },
  {
   "cell_type": "code",
   "execution_count": null,
   "id": "c863617e",
   "metadata": {},
   "outputs": [],
   "source": [
    "# Provide the solution here\n",
    "import pandas as pd\n",
    "\n",
    "def get_courses(path):\n",
    "    return courses"
   ]
  },
  {
   "cell_type": "code",
   "execution_count": null,
   "id": "dd63a7c2",
   "metadata": {},
   "outputs": [],
   "source": [
    "courses = get_courses('./data/courses/courses.csv')"
   ]
  },
  {
   "cell_type": "code",
   "execution_count": null,
   "id": "1004ce1c",
   "metadata": {},
   "outputs": [],
   "source": [
    "type(courses) # should be list"
   ]
  },
  {
   "cell_type": "code",
   "execution_count": null,
   "id": "4e8fc3d4",
   "metadata": {},
   "outputs": [],
   "source": [
    "len(courses) # should be 12"
   ]
  },
  {
   "cell_type": "code",
   "execution_count": null,
   "id": "9cd26b5c",
   "metadata": {},
   "outputs": [],
   "source": [
    "courses[0] # Output: ('Programming using Python', 'Bob Dillon', 'published', '2020-09-30')"
   ]
  },
  {
   "cell_type": "code",
   "execution_count": null,
   "id": "7e5ba066",
   "metadata": {},
   "outputs": [],
   "source": [
    "type(courses[0]) # tuple"
   ]
  },
  {
   "cell_type": "code",
   "execution_count": null,
   "id": "b581cf4d",
   "metadata": {},
   "outputs": [],
   "source": []
  }
 ],
 "metadata": {
  "kernelspec": {
   "display_name": "Python 3",
   "language": "python",
   "name": "python3"
  },
  "language_info": {
   "codemirror_mode": {
    "name": "ipython",
    "version": 3
   },
   "file_extension": ".py",
   "mimetype": "text/x-python",
   "name": "python",
   "nbconvert_exporter": "python",
   "pygments_lexer": "ipython3",
   "version": "3.6.12"
  }
 },
 "nbformat": 4,
 "nbformat_minor": 5
}
