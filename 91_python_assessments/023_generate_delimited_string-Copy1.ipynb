{
 "cells": [
  {
   "cell_type": "markdown",
   "id": "5bf4a1e7",
   "metadata": {},
   "source": [
    "## Generate Delimited String\n",
    "\n",
    "Develop a function which takes one collection of type `list` or `set` or `dict` or `tuple` as argument and build delimited string.\n",
    "* This is primarily to ensure to assess the capabilities around string manipulation functions, the concepts of delimited strings and also ability to create reusable user defined functions by eliminating the redundancy of the code.\n",
    "* Here are the details of the function.\n",
    "  * Function Name: **gen_delim_string**\n",
    "  * Arguments: **coll** and **delim**.\n",
    "  * The function should return a delimited string."
   ]
  },
  {
   "cell_type": "code",
   "execution_count": 26,
   "id": "950a13a3",
   "metadata": {},
   "outputs": [],
   "source": [
    "def gen_delim_string(coll, delim):\n",
    "    return delim_string"
   ]
  },
  {
   "cell_type": "markdown",
   "id": "16874311",
   "metadata": {},
   "source": [
    "* Here are the steps to validate. Pass list, set, tuple and dict as below and ensure it matches desired output."
   ]
  },
  {
   "cell_type": "code",
   "execution_count": 16,
   "id": "aaed0dad",
   "metadata": {},
   "outputs": [],
   "source": [
    "order_list = [1, '2013-07-25 00:00:00.0', 11599, 'CLOSED']"
   ]
  },
  {
   "cell_type": "code",
   "execution_count": 17,
   "id": "8e790edb",
   "metadata": {},
   "outputs": [
    {
     "data": {
      "text/plain": [
       "'1,2013-07-25 00:00:00.0,11599,CLOSED'"
      ]
     },
     "execution_count": 17,
     "metadata": {},
     "output_type": "execute_result"
    }
   ],
   "source": [
    "gen_delim_string(order_list, ',') # Desired Output: '1,2013-07-25 00:00:00.0,11599,CLOSED'"
   ]
  },
  {
   "cell_type": "code",
   "execution_count": 18,
   "id": "5a3fff6b",
   "metadata": {},
   "outputs": [],
   "source": [
    "order_set = {1, '2013-07-25 00:00:00.0', 11599, 'CLOSED'}"
   ]
  },
  {
   "cell_type": "code",
   "execution_count": 19,
   "id": "e9163de3",
   "metadata": {},
   "outputs": [
    {
     "data": {
      "text/plain": [
       "'1|CLOSED|2013-07-25 00:00:00.0|11599'"
      ]
     },
     "execution_count": 19,
     "metadata": {},
     "output_type": "execute_result"
    }
   ],
   "source": [
    "gen_delim_string(order_set, '|') # Desired Output: '1,2013-07-25 00:00:00.0,11599,CLOSED'"
   ]
  },
  {
   "cell_type": "code",
   "execution_count": 27,
   "id": "580e022b",
   "metadata": {},
   "outputs": [],
   "source": [
    "order_dict = {\n",
    "    'order_id': 1,\n",
    "    'order_date': '2013-07-25 00:00:00.0',\n",
    "    'order_customer_id': 11599,\n",
    "    'order_status': 'CLOSED'\n",
    "}"
   ]
  },
  {
   "cell_type": "code",
   "execution_count": 28,
   "id": "89d65386",
   "metadata": {},
   "outputs": [
    {
     "data": {
      "text/plain": [
       "True"
      ]
     },
     "execution_count": 28,
     "metadata": {},
     "output_type": "execute_result"
    }
   ],
   "source": [
    "type(order_dict) == dict"
   ]
  },
  {
   "cell_type": "code",
   "execution_count": 29,
   "id": "3f3e74dc",
   "metadata": {},
   "outputs": [
    {
     "data": {
      "text/plain": [
       "'1;2013-07-25 00:00:00.0;11599;CLOSED'"
      ]
     },
     "execution_count": 29,
     "metadata": {},
     "output_type": "execute_result"
    }
   ],
   "source": [
    "gen_delim_string(order_dict, ';') # Desired Output: '1;2013-07-25 00:00:00.0;11599;CLOSED'"
   ]
  },
  {
   "cell_type": "code",
   "execution_count": 30,
   "id": "af04b769",
   "metadata": {},
   "outputs": [],
   "source": [
    "student_tuple = (1, 'Scott', 'Tiger', 'Python')"
   ]
  },
  {
   "cell_type": "code",
   "execution_count": 31,
   "id": "2819406e",
   "metadata": {},
   "outputs": [
    {
     "data": {
      "text/plain": [
       "'1,Scott,Tiger,Python'"
      ]
     },
     "execution_count": 31,
     "metadata": {},
     "output_type": "execute_result"
    }
   ],
   "source": [
    "gen_delim_string(student_tuple, ',') # Desired Output: '1,Scott,Tiger,Python'"
   ]
  },
  {
   "cell_type": "code",
   "execution_count": null,
   "id": "7f9c2312",
   "metadata": {},
   "outputs": [],
   "source": []
  }
 ],
 "metadata": {
  "kernelspec": {
   "display_name": "Python 3",
   "language": "python",
   "name": "python3"
  },
  "language_info": {
   "codemirror_mode": {
    "name": "ipython",
    "version": 3
   },
   "file_extension": ".py",
   "mimetype": "text/x-python",
   "name": "python",
   "nbconvert_exporter": "python",
   "pygments_lexer": "ipython3",
   "version": "3.6.12"
  }
 },
 "nbformat": 4,
 "nbformat_minor": 5
}
