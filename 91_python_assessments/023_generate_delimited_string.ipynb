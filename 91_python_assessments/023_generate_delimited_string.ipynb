{
 "cells": [
  {
   "cell_type": "markdown",
   "id": "53aa533e",
   "metadata": {},
   "source": [
    "## Generate Delimited String\n",
    "\n",
    "Develop a function which takes one collection of type `list` or `set` or `dict` or `tuple` as argument and build delimited string.\n",
    "* This is primarily to ensure to assess the capabilities around string manipulation functions, the concepts of delimited strings and also ability to create reusable user defined functions by eliminating the redundancy of the code.\n",
    "* Here are the details of the function.\n",
    "  * Function Name: **gen_delim_string**\n",
    "  * Arguments: **coll** and **delim**.\n",
    "  * The function should return a delimited string."
   ]
  },
  {
   "cell_type": "code",
   "execution_count": 26,
   "id": "54ff4635",
   "metadata": {},
   "outputs": [],
   "source": [
    "def gen_delim_string(coll, delim):\n",
    "    return delim_string"
   ]
  },
  {
   "cell_type": "markdown",
   "id": "59a4a93e",
   "metadata": {},
   "source": [
    "* Here are the steps to validate. Pass list, set, tuple and dict as below and ensure it matches desired output."
   ]
  },
  {
   "cell_type": "code",
   "execution_count": 16,
   "id": "a1b522cd",
   "metadata": {},
   "outputs": [],
   "source": [
    "order_list = [1, '2013-07-25 00:00:00.0', 11599, 'CLOSED']"
   ]
  },
  {
   "cell_type": "code",
   "execution_count": 17,
   "id": "150b1174",
   "metadata": {},
   "outputs": [
    {
     "data": {
      "text/plain": [
       "'1,2013-07-25 00:00:00.0,11599,CLOSED'"
      ]
     },
     "execution_count": 17,
     "metadata": {},
     "output_type": "execute_result"
    }
   ],
   "source": [
    "gen_delim_string(order_list, ',') # Desired Output: '1,2013-07-25 00:00:00.0,11599,CLOSED'"
   ]
  },
  {
   "cell_type": "code",
   "execution_count": 18,
   "id": "53df7a38",
   "metadata": {},
   "outputs": [],
   "source": [
    "order_set = {1, '2013-07-25 00:00:00.0', 11599, 'CLOSED'}"
   ]
  },
  {
   "cell_type": "code",
   "execution_count": 19,
   "id": "af900859",
   "metadata": {},
   "outputs": [
    {
     "data": {
      "text/plain": [
       "'1|CLOSED|2013-07-25 00:00:00.0|11599'"
      ]
     },
     "execution_count": 19,
     "metadata": {},
     "output_type": "execute_result"
    }
   ],
   "source": [
    "gen_delim_string(order_set, '|') # Desired Output: '1,2013-07-25 00:00:00.0,11599,CLOSED'"
   ]
  },
  {
   "cell_type": "code",
   "execution_count": 27,
   "id": "f2c14715",
   "metadata": {},
   "outputs": [],
   "source": [
    "order_dict = {\n",
    "    'order_id': 1,\n",
    "    'order_date': '2013-07-25 00:00:00.0',\n",
    "    'order_customer_id': 11599,\n",
    "    'order_status': 'CLOSED'\n",
    "}"
   ]
  },
  {
   "cell_type": "code",
   "execution_count": 28,
   "id": "bdabb139",
   "metadata": {},
   "outputs": [
    {
     "data": {
      "text/plain": [
       "True"
      ]
     },
     "execution_count": 28,
     "metadata": {},
     "output_type": "execute_result"
    }
   ],
   "source": [
    "type(order_dict) == dict"
   ]
  },
  {
   "cell_type": "code",
   "execution_count": 29,
   "id": "7ff5ffc6",
   "metadata": {},
   "outputs": [
    {
     "data": {
      "text/plain": [
       "'1;2013-07-25 00:00:00.0;11599;CLOSED'"
      ]
     },
     "execution_count": 29,
     "metadata": {},
     "output_type": "execute_result"
    }
   ],
   "source": [
    "gen_delim_string(order_dict, ';') # Desired Output: '1;2013-07-25 00:00:00.0;11599;CLOSED'"
   ]
  },
  {
   "cell_type": "code",
   "execution_count": 30,
   "id": "89f98db2",
   "metadata": {},
   "outputs": [],
   "source": [
    "student_tuple = (1, 'Scott', 'Tiger', 'Python')"
   ]
  },
  {
   "cell_type": "code",
   "execution_count": 31,
   "id": "e70cb16b",
   "metadata": {},
   "outputs": [
    {
     "data": {
      "text/plain": [
       "'1,Scott,Tiger,Python'"
      ]
     },
     "execution_count": 31,
     "metadata": {},
     "output_type": "execute_result"
    }
   ],
   "source": [
    "gen_delim_string(student_tuple, ',') # Desired Output: '1,Scott,Tiger,Python'"
   ]
  },
  {
   "cell_type": "code",
   "execution_count": null,
   "id": "2186a219",
   "metadata": {},
   "outputs": [],
   "source": []
  }
 ],
 "metadata": {
  "kernelspec": {
   "display_name": "Python 3",
   "language": "python",
   "name": "python3"
  },
  "language_info": {
   "codemirror_mode": {
    "name": "ipython",
    "version": 3
   },
   "file_extension": ".py",
   "mimetype": "text/x-python",
   "name": "python",
   "nbconvert_exporter": "python",
   "pygments_lexer": "ipython3",
   "version": "3.6.12"
  }
 },
 "nbformat": 4,
 "nbformat_minor": 5
}
