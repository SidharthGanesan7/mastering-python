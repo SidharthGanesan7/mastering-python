{
 "cells": [
  {
   "cell_type": "markdown",
   "id": "e619a87c-e13a-4861-9ff8-91263d24f9d0",
   "metadata": {},
   "source": [
    "## Using configparser for App Variables\n",
    "\n",
    "Let us understand how we can use `configparser` to pass the application variables.\n",
    "* Make sure you have `ini` file with all sections that are relevant for your application. You can also use other standard formats such as JSON, YML etc.\n",
    "* Create `configparser` object and read the `ini` file by passig the path as argument.\n",
    "* You can read specific section to build required URLs or objects to connect to external applications.\n",
    "* Now, we can pass the dict to `format` to replace the variables in the string with actual values from the dict."
   ]
  },
  {
   "cell_type": "markdown",
   "id": "6fa3e3a4-a7b0-4864-b606-9cbca73c6dee",
   "metadata": {},
   "source": [
    "* Make sure `application.ini` is available. It is typically placed in a location which is accessible to the Linux user using which we deploy the application."
   ]
  },
  {
   "cell_type": "code",
   "execution_count": null,
   "id": "c76bf806-d08a-46cc-8cc4-7dad97c007da",
   "metadata": {},
   "outputs": [],
   "source": [
    "!ls -ltr /home/${USER}/application.ini"
   ]
  },
  {
   "cell_type": "code",
   "execution_count": null,
   "id": "cd301217-d49a-418d-8424-194e415f216e",
   "metadata": {},
   "outputs": [],
   "source": [
    "!cat /home/${USER}/application.ini"
   ]
  },
  {
   "cell_type": "markdown",
   "id": "969239bf-c658-4b78-bebb-222d6204ea16",
   "metadata": {},
   "source": [
    "* Reading the `ini` file using `configparser`."
   ]
  },
  {
   "cell_type": "code",
   "execution_count": null,
   "id": "7e9776c4-626b-4fd1-9905-35345f2cf436",
   "metadata": {},
   "outputs": [],
   "source": [
    "import configparser"
   ]
  },
  {
   "cell_type": "code",
   "execution_count": null,
   "id": "7e2ce9d8-1977-452e-87be-2a453e6445fe",
   "metadata": {},
   "outputs": [],
   "source": [
    "config = configparser.ConfigParser()"
   ]
  },
  {
   "cell_type": "code",
   "execution_count": null,
   "id": "5ce94f72-cada-4c40-9299-229d0da3d94c",
   "metadata": {},
   "outputs": [],
   "source": [
    "# This will make sure that the case of keys in dict is not converted to lower\n",
    "config.optionxform = str"
   ]
  },
  {
   "cell_type": "code",
   "execution_count": null,
   "id": "156571d4-d6db-4d35-aaeb-6feac70102e7",
   "metadata": {},
   "outputs": [],
   "source": [
    "import getpass\n",
    "username = getpass.getuser()"
   ]
  },
  {
   "cell_type": "code",
   "execution_count": null,
   "id": "3121d810-a6c1-4935-b9d7-a0c3f5acf833",
   "metadata": {},
   "outputs": [],
   "source": [
    "config.read(f'/home/{username}/application.ini')"
   ]
  },
  {
   "cell_type": "markdown",
   "id": "9b148753-7858-48bf-9e23-04ed6db7dcde",
   "metadata": {},
   "source": [
    "* Reviewing `POSTGRES_DB` section. We can use `dict` to convert `section` object to dict."
   ]
  },
  {
   "cell_type": "code",
   "execution_count": null,
   "id": "d3a130b0-d2e8-42a4-8b3f-f7fddb532f1e",
   "metadata": {},
   "outputs": [],
   "source": [
    "type(config['POSTGRES_DB'])"
   ]
  },
  {
   "cell_type": "code",
   "execution_count": null,
   "id": "dfb97a10-e401-4e40-be1c-3876eddf52ee",
   "metadata": {},
   "outputs": [],
   "source": [
    "dict(config['POSTGRES_DB'])"
   ]
  },
  {
   "cell_type": "markdown",
   "id": "69110600-9ed7-47c4-b5c4-5bfa8de9330b",
   "metadata": {},
   "source": [
    "* Replacing the values in `connection_url` using `format`."
   ]
  },
  {
   "cell_type": "code",
   "execution_count": null,
   "id": "8f3cb52d-66ac-476f-b392-add4f7be1178",
   "metadata": {},
   "outputs": [],
   "source": [
    "connection_url = 'postgresql://{DB_USER}:{DB_PASS}@{DB_HOST}:{DB_PORT}/{DB_NAME}'"
   ]
  },
  {
   "cell_type": "code",
   "execution_count": null,
   "id": "41a4fec6-2256-49cf-9f96-c8654b3448c9",
   "metadata": {},
   "outputs": [],
   "source": [
    "connection_url.format(**dict(config['POSTGRES_DB']))"
   ]
  },
  {
   "cell_type": "code",
   "execution_count": null,
   "id": "9c6d6dbc-a810-4235-aa6a-f304ee369cff",
   "metadata": {},
   "outputs": [],
   "source": []
  }
 ],
 "metadata": {
  "kernelspec": {
   "display_name": "Python 3",
   "language": "python",
   "name": "python3"
  },
  "language_info": {
   "codemirror_mode": {
    "name": "ipython",
    "version": 3
   },
   "file_extension": ".py",
   "mimetype": "text/x-python",
   "name": "python",
   "nbconvert_exporter": "python",
   "pygments_lexer": "ipython3",
   "version": "3.7.10"
  }
 },
 "nbformat": 4,
 "nbformat_minor": 5
}
