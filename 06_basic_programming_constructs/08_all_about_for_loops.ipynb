{
 "cells": [
  {
   "cell_type": "markdown",
   "metadata": {},
   "source": [
    "## All about for Loops\n",
    "\n",
    "Let us perform a few tasks to understand loops.\n",
    "* Go through range between 2 integers (5 and 10) and print them. We can use range function to get range between two integers."
   ]
  },
  {
   "cell_type": "code",
   "execution_count": null,
   "metadata": {
    "jupyter": {
     "outputs_hidden": false
    },
    "pycharm": {
     "name": "#%%\n"
    }
   },
   "outputs": [],
   "source": [
    "for i in range(5, 11): print(i)"
   ]
  },
  {
   "cell_type": "markdown",
   "metadata": {},
   "source": [
    "* Create a list of 7 elements and print alternate numbers starting from 1.\n",
    "`[1, 6, 8, 3, 7, 2, 9]`\n",
    "* In this example we are using list. It will be covered extensively at a later point in time. `list` is one of the core Python Data Structures."
   ]
  },
  {
   "cell_type": "code",
   "execution_count": null,
   "metadata": {
    "jupyter": {
     "outputs_hidden": false
    },
    "pycharm": {
     "name": "#%%\n"
    }
   },
   "outputs": [],
   "source": [
    "l = [1, 6, 8, 3, 7, 2, 9]\n",
    "\n",
    "cnt = 0\n",
    "for i in l:\n",
    "    if cnt % 2 == 0: # checking if cnt is even or not\n",
    "        print(i)\n",
    "    cnt += 1 # incrementing cnt by 1"
   ]
  },
  {
   "cell_type": "markdown",
   "metadata": {},
   "source": [
    "* Go through range between 2 integers (5 and 15) and print even numbers.\n",
    "Iterate through a list of months and print them."
   ]
  },
  {
   "cell_type": "code",
   "execution_count": null,
   "metadata": {
    "jupyter": {
     "outputs_hidden": false
    },
    "pycharm": {
     "name": "#%%\n"
    }
   },
   "outputs": [],
   "source": [
    "for i in range(5, 16): \n",
    "    if i % 2 == 0:\n",
    "        print(i)"
   ]
  }
 ],
 "metadata": {
  "kernelspec": {
   "display_name": "Python 3",
   "language": "python",
   "name": "python3"
  },
  "language_info": {
   "codemirror_mode": {
    "name": "ipython",
    "version": 3
   },
   "file_extension": ".py",
   "mimetype": "text/x-python",
   "name": "python",
   "nbconvert_exporter": "python",
   "pygments_lexer": "ipython3",
   "version": "3.8.5"
  }
 },
 "nbformat": 4,
 "nbformat_minor": 4
}
