{
 "cells": [
  {
   "cell_type": "markdown",
   "metadata": {},
   "source": [
    "## Running OS Commands\n",
    "\n",
    "Let us understand how to run OS commands using Python.\n",
    "* Python provides several libraries which can be used to run OS commands. `os` and `subprocess` are most popular ones.\n",
    "* We can import and start using it.\n",
    "* There are bunch of commands to create directories, change ownership, change permission, run general system commands etc.\n",
    "* `os` library is extensively used to read environment variables at run time of the application. It is used to pass keys and credentials to work with databases, external applications etc.\n",
    "* Typically keys and credentials should not be part of the source code.\n",
    "* `subprocess` can be used to run the commands and also to process the output."
   ]
  },
  {
   "cell_type": "code",
   "execution_count": 2,
   "metadata": {
    "collapsed": false,
    "jupyter": {
     "outputs_hidden": false
    },
    "pycharm": {
     "name": "#%%\n"
    }
   },
   "outputs": [],
   "source": [
    "import os"
   ]
  },
  {
   "cell_type": "markdown",
   "metadata": {},
   "source": [
    "* Get current working directory."
   ]
  },
  {
   "cell_type": "code",
   "execution_count": 3,
   "metadata": {
    "collapsed": false,
    "jupyter": {
     "outputs_hidden": false
    },
    "pycharm": {
     "name": "#%%\n"
    }
   },
   "outputs": [
    {
     "data": {
      "text/plain": [
       "'/home/itversity/itversity-material/mastering-python/06_basic_programming_constructs'"
      ]
     },
     "execution_count": 3,
     "metadata": {},
     "output_type": "execute_result"
    }
   ],
   "source": [
    "os.getcwd()"
   ]
  },
  {
   "cell_type": "markdown",
   "metadata": {},
   "source": [
    "* Read environment variables"
   ]
  },
  {
   "cell_type": "code",
   "execution_count": 4,
   "metadata": {
    "collapsed": false,
    "jupyter": {
     "outputs_hidden": false
    },
    "pycharm": {
     "name": "#%%\n"
    }
   },
   "outputs": [
    {
     "data": {
      "text/plain": [
       "'/bin:/usr/local/sbin:/usr/local/bin:/usr/sbin:/usr/bin:/opt/anaconda3/envs/beakerx/bin'"
      ]
     },
     "execution_count": 4,
     "metadata": {},
     "output_type": "execute_result"
    }
   ],
   "source": [
    "os.environ.get('PATH')"
   ]
  },
  {
   "cell_type": "markdown",
   "metadata": {},
   "source": [
    "* Run `ls -ltr` command to get list of files in the current directory."
   ]
  },
  {
   "cell_type": "code",
   "execution_count": 5,
   "metadata": {},
   "outputs": [],
   "source": [
    "import subprocess"
   ]
  },
  {
   "cell_type": "code",
   "execution_count": 6,
   "metadata": {},
   "outputs": [
    {
     "name": "stdout",
     "output_type": "stream",
     "text": [
      "total 56\n",
      "-rw-rw-r-- 1 itversity itversity 2648 Dec  4 23:34 10_exercises.ipynb\n",
      "-rw-rw-r-- 1 itversity itversity 3241 Dec  4 23:34 06_comments_and_doc_strings.ipynb\n",
      "-rw-rw-r-- 1 itversity itversity 1070 Dec  4 23:34 04_data_types_commonly_used.ipynb\n",
      "-rw-rw-r-- 1 itversity itversity 2638 Dec  4 23:34 03_variables_and_objects.ipynb\n",
      "-rw-rw-r-- 1 itversity itversity 1532 Dec  4 23:34 02_getting_help.ipynb\n",
      "-rw-rw-r-- 1 itversity itversity  917 Dec  4 23:34 01_basic_programming_constructs.ipynb\n",
      "-rw-rw-r-- 1 itversity itversity 8533 Dec 10 15:43 05_operators_in_python.ipynb\n",
      "-rw-rw-r-- 1 itversity itversity 5995 Dec 15 23:21 07_conditionals.ipynb\n",
      "-rw-rw-r-- 1 itversity itversity 8026 Dec 16 00:01 08_all_about_for_loops.ipynb\n",
      "-rw-rw-r-- 1 itversity itversity 2900 Dec 16 00:02 09_running_os_commands.ipynb\n"
     ]
    }
   ],
   "source": [
    "%%sh\n",
    "\n",
    "ls -ltr"
   ]
  },
  {
   "cell_type": "code",
   "execution_count": 7,
   "metadata": {},
   "outputs": [],
   "source": [
    "output = subprocess.check_output(['ls', '-ltr'])"
   ]
  },
  {
   "cell_type": "code",
   "execution_count": 8,
   "metadata": {},
   "outputs": [
    {
     "data": {
      "text/plain": [
       "b'total 56\\n-rw-rw-r-- 1 itversity itversity 2648 Dec  4 23:34 10_exercises.ipynb\\n-rw-rw-r-- 1 itversity itversity 3241 Dec  4 23:34 06_comments_and_doc_strings.ipynb\\n-rw-rw-r-- 1 itversity itversity 1070 Dec  4 23:34 04_data_types_commonly_used.ipynb\\n-rw-rw-r-- 1 itversity itversity 2638 Dec  4 23:34 03_variables_and_objects.ipynb\\n-rw-rw-r-- 1 itversity itversity 1532 Dec  4 23:34 02_getting_help.ipynb\\n-rw-rw-r-- 1 itversity itversity  917 Dec  4 23:34 01_basic_programming_constructs.ipynb\\n-rw-rw-r-- 1 itversity itversity 8533 Dec 10 15:43 05_operators_in_python.ipynb\\n-rw-rw-r-- 1 itversity itversity 5995 Dec 15 23:21 07_conditionals.ipynb\\n-rw-rw-r-- 1 itversity itversity 8026 Dec 16 00:01 08_all_about_for_loops.ipynb\\n-rw-rw-r-- 1 itversity itversity 2900 Dec 16 00:02 09_running_os_commands.ipynb\\n'"
      ]
     },
     "execution_count": 8,
     "metadata": {},
     "output_type": "execute_result"
    }
   ],
   "source": [
    "output # output is of type binary"
   ]
  },
  {
   "cell_type": "code",
   "execution_count": 10,
   "metadata": {},
   "outputs": [
    {
     "data": {
      "text/plain": [
       "'total 56\\n-rw-rw-r-- 1 itversity itversity 2648 Dec  4 23:34 10_exercises.ipynb\\n-rw-rw-r-- 1 itversity itversity 3241 Dec  4 23:34 06_comments_and_doc_strings.ipynb\\n-rw-rw-r-- 1 itversity itversity 1070 Dec  4 23:34 04_data_types_commonly_used.ipynb\\n-rw-rw-r-- 1 itversity itversity 2638 Dec  4 23:34 03_variables_and_objects.ipynb\\n-rw-rw-r-- 1 itversity itversity 1532 Dec  4 23:34 02_getting_help.ipynb\\n-rw-rw-r-- 1 itversity itversity  917 Dec  4 23:34 01_basic_programming_constructs.ipynb\\n-rw-rw-r-- 1 itversity itversity 8533 Dec 10 15:43 05_operators_in_python.ipynb\\n-rw-rw-r-- 1 itversity itversity 5995 Dec 15 23:21 07_conditionals.ipynb\\n-rw-rw-r-- 1 itversity itversity 8026 Dec 16 00:01 08_all_about_for_loops.ipynb\\n-rw-rw-r-- 1 itversity itversity 2900 Dec 16 00:02 09_running_os_commands.ipynb\\n'"
      ]
     },
     "execution_count": 10,
     "metadata": {},
     "output_type": "execute_result"
    }
   ],
   "source": [
    "output.decode('utf-8') # converts to string of type utf-8"
   ]
  },
  {
   "cell_type": "code",
   "execution_count": 12,
   "metadata": {},
   "outputs": [
    {
     "data": {
      "text/plain": [
       "str"
      ]
     },
     "execution_count": 12,
     "metadata": {},
     "output_type": "execute_result"
    }
   ],
   "source": [
    "type(output.decode('utf-8'))"
   ]
  },
  {
   "cell_type": "markdown",
   "metadata": {},
   "source": [
    "```{note}\n",
    "Let us convert string into list of strings. Once it is broken into list of strings we can process the data as per our requirements either by using Map Reduce libraries or Pandas based libraries.\n",
    "```"
   ]
  },
  {
   "cell_type": "code",
   "execution_count": 11,
   "metadata": {},
   "outputs": [
    {
     "name": "stdout",
     "output_type": "stream",
     "text": [
      "total 56\n",
      "-rw-rw-r-- 1 itversity itversity 2648 Dec  4 23:34 10_exercises.ipynb\n",
      "-rw-rw-r-- 1 itversity itversity 3241 Dec  4 23:34 06_comments_and_doc_strings.ipynb\n",
      "-rw-rw-r-- 1 itversity itversity 1070 Dec  4 23:34 04_data_types_commonly_used.ipynb\n",
      "-rw-rw-r-- 1 itversity itversity 2638 Dec  4 23:34 03_variables_and_objects.ipynb\n",
      "-rw-rw-r-- 1 itversity itversity 1532 Dec  4 23:34 02_getting_help.ipynb\n",
      "-rw-rw-r-- 1 itversity itversity  917 Dec  4 23:34 01_basic_programming_constructs.ipynb\n",
      "-rw-rw-r-- 1 itversity itversity 8533 Dec 10 15:43 05_operators_in_python.ipynb\n",
      "-rw-rw-r-- 1 itversity itversity 5995 Dec 15 23:21 07_conditionals.ipynb\n",
      "-rw-rw-r-- 1 itversity itversity 8026 Dec 16 00:01 08_all_about_for_loops.ipynb\n",
      "-rw-rw-r-- 1 itversity itversity 2900 Dec 16 00:02 09_running_os_commands.ipynb\n"
     ]
    }
   ],
   "source": [
    "# splitlines is the function available on string type\n",
    "# It converts string with line breaks into list of strings\n",
    "for rec in output.decode('utf-8').splitlines():\n",
    "    print(rec)"
   ]
  },
  {
   "cell_type": "code",
   "execution_count": null,
   "metadata": {},
   "outputs": [],
   "source": []
  }
 ],
 "metadata": {
  "kernelspec": {
   "display_name": "Python 3",
   "language": "python",
   "name": "python3"
  },
  "language_info": {
   "codemirror_mode": {
    "name": "ipython",
    "version": 3
   },
   "file_extension": ".py",
   "mimetype": "text/x-python",
   "name": "python",
   "nbconvert_exporter": "python",
   "pygments_lexer": "ipython3",
   "version": "3.6.12"
  }
 },
 "nbformat": 4,
 "nbformat_minor": 4
}
