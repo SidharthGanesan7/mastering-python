{
 "cells": [
  {
   "cell_type": "markdown",
   "id": "50ca2683-dd96-430d-85c8-a89d15e772b4",
   "metadata": {},
   "source": [
    "## Overview of Boolean Type\n",
    "\n",
    "Let us get into the details related to Boolean.\n",
    "* Boolean typically will have `True` or `False`. In Python it is defined as `bool`.\n",
    "* You can assign boolean value by saying `a = True` or `a = False`.\n",
    "* All comparison operators which we will be seeing as part of the next topic will return bool type.\n",
    "* `not` can be used to get the negation of the `bool` value."
   ]
  },
  {
   "cell_type": "code",
   "execution_count": null,
   "id": "1648ad92-1ec6-4960-b742-db7834553e6b",
   "metadata": {},
   "outputs": [],
   "source": [
    "a = True"
   ]
  },
  {
   "cell_type": "code",
   "execution_count": null,
   "id": "dbbd2fe2-3036-4733-a49f-96c1dcb3c675",
   "metadata": {},
   "outputs": [],
   "source": [
    "type(a)"
   ]
  },
  {
   "cell_type": "code",
   "execution_count": null,
   "id": "78b00f28-34e5-41eb-bb40-e92924d5c45b",
   "metadata": {},
   "outputs": [],
   "source": [
    "a = False"
   ]
  },
  {
   "cell_type": "code",
   "execution_count": null,
   "id": "a89be572-d9ee-4bc2-802f-14c9dff1e225",
   "metadata": {},
   "outputs": [],
   "source": [
    "type(a)"
   ]
  },
  {
   "cell_type": "code",
   "execution_count": null,
   "id": "5ec3b3fb-c618-4dec-a15d-5d6af7818530",
   "metadata": {},
   "outputs": [],
   "source": [
    "# Assigning 10 to i\n",
    "i = 10"
   ]
  },
  {
   "cell_type": "code",
   "execution_count": null,
   "id": "eabe810f-5790-4739-8250-9cccf1c0b3a0",
   "metadata": {},
   "outputs": [],
   "source": [
    "# Comparing i with some number\n",
    "# Returns True\n",
    "i == 10"
   ]
  },
  {
   "cell_type": "code",
   "execution_count": null,
   "id": "4ad2e2e3-d5bb-4023-9050-d1e7431d0543",
   "metadata": {},
   "outputs": [],
   "source": [
    "# Comparing i with some value of type string\n",
    "# Returns False\n",
    "i == '10'"
   ]
  },
  {
   "cell_type": "code",
   "execution_count": null,
   "id": "495d982d-ab10-4793-98f0-a71b7e31f801",
   "metadata": {},
   "outputs": [],
   "source": [
    "type(i == 10)"
   ]
  },
  {
   "cell_type": "code",
   "execution_count": null,
   "id": "de994db1-0cc0-4a7e-9dd5-1b436eab3f6b",
   "metadata": {},
   "outputs": [],
   "source": [
    "type(i == '10')"
   ]
  },
  {
   "cell_type": "code",
   "execution_count": null,
   "id": "3c7ffa2a-a911-494d-bf23-722b155af197",
   "metadata": {},
   "outputs": [],
   "source": [
    "i = 10"
   ]
  },
  {
   "cell_type": "code",
   "execution_count": null,
   "id": "4148b6f6-66ba-4091-a444-b7990b2f4c18",
   "metadata": {},
   "outputs": [],
   "source": [
    "i == 10"
   ]
  },
  {
   "cell_type": "code",
   "execution_count": null,
   "id": "250e40bb-c219-4b15-8292-fd68059b92d3",
   "metadata": {},
   "outputs": [],
   "source": [
    "not i == 10"
   ]
  }
 ],
 "metadata": {
  "kernelspec": {
   "display_name": "Python 3",
   "language": "python",
   "name": "python3"
  },
  "language_info": {
   "codemirror_mode": {
    "name": "ipython",
    "version": 3
   },
   "file_extension": ".py",
   "mimetype": "text/x-python",
   "name": "python",
   "nbconvert_exporter": "python",
   "pygments_lexer": "ipython3",
   "version": "3.7.10"
  }
 },
 "nbformat": 4,
 "nbformat_minor": 5
}
