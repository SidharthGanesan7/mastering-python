{
 "cells": [
  {
   "cell_type": "markdown",
   "metadata": {},
   "source": [
    "## Performing Aggregations - Grouped\n",
    "\n",
    "Here are some of the examples for grouped aggregations.\n",
    "* Get number of employees for each department\n",
    "* Get daily revenue for a given month (aggregation for a given day and filtering based up on month).\n",
    "* Number of courses enrolled by each student\n",
    "* Number of students enrolled for each course"
   ]
  }
 ],
 "metadata": {
  "kernelspec": {
   "display_name": "Python 3",
   "language": "python",
   "name": "python3"
  },
  "language_info": {
   "codemirror_mode": {
    "name": "ipython",
    "version": 3
   },
   "file_extension": ".py",
   "mimetype": "text/x-python",
   "name": "python",
   "nbconvert_exporter": "python",
   "pygments_lexer": "ipython3",
   "version": "3.8.5"
  }
 },
 "nbformat": 4,
 "nbformat_minor": 4
}
