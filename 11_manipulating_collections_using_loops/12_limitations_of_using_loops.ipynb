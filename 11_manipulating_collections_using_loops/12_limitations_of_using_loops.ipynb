{
 "cells": [
  {
   "cell_type": "markdown",
   "metadata": {},
   "source": [
    "## Limitations of using Loops\n",
    "\n",
    "There are several limitations using loops.\n",
    "\n",
    "* If you look at the above examples, most of the functions have similar logic to iterate through elements.\n",
    "* We are spending more time on coding non business logic.\n",
    "* It results in too much of code and it can become a maintenance problem.\n",
    "* Map Reduce APIs will solve these problems.\n",
    "  * We do not have to develop loops and conditionals.\n",
    "  * Loops and Conditionals are taken care by the existing APIs.\n",
    "  * We can just focus on business logic. It can be passed using Lambda Functions."
   ]
  },
  {
   "cell_type": "code",
   "execution_count": null,
   "metadata": {},
   "outputs": [],
   "source": []
  }
 ],
 "metadata": {
  "kernelspec": {
   "display_name": "Python 3",
   "language": "python",
   "name": "python3"
  },
  "language_info": {
   "codemirror_mode": {
    "name": "ipython",
    "version": 3
   },
   "file_extension": ".py",
   "mimetype": "text/x-python",
   "name": "python",
   "nbconvert_exporter": "python",
   "pygments_lexer": "ipython3",
   "version": "3.6.12"
  }
 },
 "nbformat": 4,
 "nbformat_minor": 4
}
