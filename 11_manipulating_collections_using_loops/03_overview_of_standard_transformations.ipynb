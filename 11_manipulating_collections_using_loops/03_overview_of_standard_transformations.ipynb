{
 "cells": [
  {
   "cell_type": "markdown",
   "metadata": {},
   "source": [
    "## Overview of Standard Transformations\n",
    "\n",
    "Let us understand standard transformations we perform on top of data in collections.\n",
    "* Filtering\n",
    "* Row level transformations such as standardization, cleansing etc.\n",
    "* Aggregations\n",
    "* Grouped Aggregations\n",
    "* Sorting and Ranking\n",
    "\n",
    "Typically we use external libraries such as Pandas, Pyspark etc to perform these standard transformations. However, we will try to develop using conventional loops to understand how they are implemented and also to get better with respect to programming."
   ]
  }
 ],
 "metadata": {
  "kernelspec": {
   "display_name": "Python 3",
   "language": "python",
   "name": "python3"
  },
  "language_info": {
   "codemirror_mode": {
    "name": "ipython",
    "version": 3
   },
   "file_extension": ".py",
   "mimetype": "text/x-python",
   "name": "python",
   "nbconvert_exporter": "python",
   "pygments_lexer": "ipython3",
   "version": "3.8.5"
  }
 },
 "nbformat": 4,
 "nbformat_minor": 4
}
