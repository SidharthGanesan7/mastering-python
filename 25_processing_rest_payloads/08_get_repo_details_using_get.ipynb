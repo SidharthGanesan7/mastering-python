{
 "cells": [
  {
   "cell_type": "markdown",
   "id": "6786829e",
   "metadata": {},
   "source": [
    "## Get repo details using Get\n",
    "\n",
    "Let us take get repo details using REST GET via `requests` module or library.\n",
    "* We can get details about all the public repositories using `GET /repositories` from **https://api.github.com**.\n",
    "* As it is getting or reading data from external application the details are available via `GET`.\n",
    "* Here is an example using `curl` command."
   ]
  },
  {
   "cell_type": "code",
   "execution_count": null,
   "id": "c827ee95",
   "metadata": {},
   "outputs": [],
   "source": [
    "!curl https://api.github.com/repositories"
   ]
  },
  {
   "cell_type": "markdown",
   "id": "e66c2402",
   "metadata": {},
   "source": [
    "* We can get the payload of public repositories using `requests.get`.\n",
    "* The `content` attribute of response object returned will contain payload.\n",
    "* The data type of the payload is `bytes`.\n",
    "* We can decode the payload to string using `decode('utf-8')`."
   ]
  },
  {
   "cell_type": "code",
   "execution_count": 2,
   "id": "c3a5db7c",
   "metadata": {},
   "outputs": [],
   "source": [
    "import requests"
   ]
  },
  {
   "cell_type": "code",
   "execution_count": null,
   "id": "4955d172",
   "metadata": {},
   "outputs": [],
   "source": [
    "requests.get?"
   ]
  },
  {
   "cell_type": "code",
   "execution_count": null,
   "id": "caeacd09",
   "metadata": {},
   "outputs": [],
   "source": [
    "payload = requests.get('https://api.github.com/repositories', params={'since':369}).content.decode('utf-8')"
   ]
  },
  {
   "cell_type": "code",
   "execution_count": null,
   "id": "33d482e1",
   "metadata": {},
   "outputs": [],
   "source": [
    "since = int(input('Enter the repo id from which you want to get repositories: '))"
   ]
  },
  {
   "cell_type": "code",
   "execution_count": null,
   "id": "700c7405",
   "metadata": {},
   "outputs": [],
   "source": [
    "payload = requests.get(f'https://api.github.com/repositories?since={since}').content.decode('utf-8')"
   ]
  },
  {
   "cell_type": "code",
   "execution_count": null,
   "id": "27dc0af2",
   "metadata": {},
   "outputs": [],
   "source": [
    "type(payload)"
   ]
  },
  {
   "cell_type": "code",
   "execution_count": null,
   "id": "69f5c347",
   "metadata": {},
   "outputs": [],
   "source": [
    "payload # A string with valid json array"
   ]
  },
  {
   "cell_type": "markdown",
   "id": "b5847a5d",
   "metadata": {},
   "source": [
    "* We can convert `payload` which is of string type and contains valid JSON to `dict` or `list` using `json` module."
   ]
  },
  {
   "cell_type": "code",
   "execution_count": 6,
   "id": "bb067a98",
   "metadata": {},
   "outputs": [],
   "source": [
    "repos = requests.get(f'https://api.github.com/repositories?since=369').json()"
   ]
  },
  {
   "cell_type": "code",
   "execution_count": null,
   "id": "05800fb8",
   "metadata": {},
   "outputs": [],
   "source": [
    "repos"
   ]
  },
  {
   "cell_type": "code",
   "execution_count": 8,
   "id": "add0a0f3",
   "metadata": {},
   "outputs": [
    {
     "data": {
      "text/plain": [
       "list"
      ]
     },
     "execution_count": 8,
     "metadata": {},
     "output_type": "execute_result"
    }
   ],
   "source": [
    "type(repos) # type is list as the payload is valid JSON array."
   ]
  },
  {
   "cell_type": "code",
   "execution_count": 9,
   "id": "313afb52",
   "metadata": {},
   "outputs": [
    {
     "data": {
      "text/plain": [
       "100"
      ]
     },
     "execution_count": 9,
     "metadata": {},
     "output_type": "execute_result"
    }
   ],
   "source": [
    "len(repos)"
   ]
  },
  {
   "cell_type": "code",
   "execution_count": 10,
   "id": "e1b21a5b",
   "metadata": {},
   "outputs": [
    {
     "data": {
      "text/plain": [
       "{'id': 370,\n",
       " 'node_id': 'MDEwOlJlcG9zaXRvcnkzNzA=',\n",
       " 'name': 'imap_authenticatable',\n",
       " 'full_name': 'collectiveidea/imap_authenticatable',\n",
       " 'private': False,\n",
       " 'owner': {'login': 'collectiveidea',\n",
       "  'id': 128,\n",
       "  'node_id': 'MDEyOk9yZ2FuaXphdGlvbjEyOA==',\n",
       "  'avatar_url': 'https://avatars.githubusercontent.com/u/128?v=4',\n",
       "  'gravatar_id': '',\n",
       "  'url': 'https://api.github.com/users/collectiveidea',\n",
       "  'html_url': 'https://github.com/collectiveidea',\n",
       "  'followers_url': 'https://api.github.com/users/collectiveidea/followers',\n",
       "  'following_url': 'https://api.github.com/users/collectiveidea/following{/other_user}',\n",
       "  'gists_url': 'https://api.github.com/users/collectiveidea/gists{/gist_id}',\n",
       "  'starred_url': 'https://api.github.com/users/collectiveidea/starred{/owner}{/repo}',\n",
       "  'subscriptions_url': 'https://api.github.com/users/collectiveidea/subscriptions',\n",
       "  'organizations_url': 'https://api.github.com/users/collectiveidea/orgs',\n",
       "  'repos_url': 'https://api.github.com/users/collectiveidea/repos',\n",
       "  'events_url': 'https://api.github.com/users/collectiveidea/events{/privacy}',\n",
       "  'received_events_url': 'https://api.github.com/users/collectiveidea/received_events',\n",
       "  'type': 'Organization',\n",
       "  'site_admin': False},\n",
       " 'html_url': 'https://github.com/collectiveidea/imap_authenticatable',\n",
       " 'description': 'Authenticate your Rails app using any IMAP server!',\n",
       " 'fork': False,\n",
       " 'url': 'https://api.github.com/repos/collectiveidea/imap_authenticatable',\n",
       " 'forks_url': 'https://api.github.com/repos/collectiveidea/imap_authenticatable/forks',\n",
       " 'keys_url': 'https://api.github.com/repos/collectiveidea/imap_authenticatable/keys{/key_id}',\n",
       " 'collaborators_url': 'https://api.github.com/repos/collectiveidea/imap_authenticatable/collaborators{/collaborator}',\n",
       " 'teams_url': 'https://api.github.com/repos/collectiveidea/imap_authenticatable/teams',\n",
       " 'hooks_url': 'https://api.github.com/repos/collectiveidea/imap_authenticatable/hooks',\n",
       " 'issue_events_url': 'https://api.github.com/repos/collectiveidea/imap_authenticatable/issues/events{/number}',\n",
       " 'events_url': 'https://api.github.com/repos/collectiveidea/imap_authenticatable/events',\n",
       " 'assignees_url': 'https://api.github.com/repos/collectiveidea/imap_authenticatable/assignees{/user}',\n",
       " 'branches_url': 'https://api.github.com/repos/collectiveidea/imap_authenticatable/branches{/branch}',\n",
       " 'tags_url': 'https://api.github.com/repos/collectiveidea/imap_authenticatable/tags',\n",
       " 'blobs_url': 'https://api.github.com/repos/collectiveidea/imap_authenticatable/git/blobs{/sha}',\n",
       " 'git_tags_url': 'https://api.github.com/repos/collectiveidea/imap_authenticatable/git/tags{/sha}',\n",
       " 'git_refs_url': 'https://api.github.com/repos/collectiveidea/imap_authenticatable/git/refs{/sha}',\n",
       " 'trees_url': 'https://api.github.com/repos/collectiveidea/imap_authenticatable/git/trees{/sha}',\n",
       " 'statuses_url': 'https://api.github.com/repos/collectiveidea/imap_authenticatable/statuses/{sha}',\n",
       " 'languages_url': 'https://api.github.com/repos/collectiveidea/imap_authenticatable/languages',\n",
       " 'stargazers_url': 'https://api.github.com/repos/collectiveidea/imap_authenticatable/stargazers',\n",
       " 'contributors_url': 'https://api.github.com/repos/collectiveidea/imap_authenticatable/contributors',\n",
       " 'subscribers_url': 'https://api.github.com/repos/collectiveidea/imap_authenticatable/subscribers',\n",
       " 'subscription_url': 'https://api.github.com/repos/collectiveidea/imap_authenticatable/subscription',\n",
       " 'commits_url': 'https://api.github.com/repos/collectiveidea/imap_authenticatable/commits{/sha}',\n",
       " 'git_commits_url': 'https://api.github.com/repos/collectiveidea/imap_authenticatable/git/commits{/sha}',\n",
       " 'comments_url': 'https://api.github.com/repos/collectiveidea/imap_authenticatable/comments{/number}',\n",
       " 'issue_comment_url': 'https://api.github.com/repos/collectiveidea/imap_authenticatable/issues/comments{/number}',\n",
       " 'contents_url': 'https://api.github.com/repos/collectiveidea/imap_authenticatable/contents/{+path}',\n",
       " 'compare_url': 'https://api.github.com/repos/collectiveidea/imap_authenticatable/compare/{base}...{head}',\n",
       " 'merges_url': 'https://api.github.com/repos/collectiveidea/imap_authenticatable/merges',\n",
       " 'archive_url': 'https://api.github.com/repos/collectiveidea/imap_authenticatable/{archive_format}{/ref}',\n",
       " 'downloads_url': 'https://api.github.com/repos/collectiveidea/imap_authenticatable/downloads',\n",
       " 'issues_url': 'https://api.github.com/repos/collectiveidea/imap_authenticatable/issues{/number}',\n",
       " 'pulls_url': 'https://api.github.com/repos/collectiveidea/imap_authenticatable/pulls{/number}',\n",
       " 'milestones_url': 'https://api.github.com/repos/collectiveidea/imap_authenticatable/milestones{/number}',\n",
       " 'notifications_url': 'https://api.github.com/repos/collectiveidea/imap_authenticatable/notifications{?since,all,participating}',\n",
       " 'labels_url': 'https://api.github.com/repos/collectiveidea/imap_authenticatable/labels{/name}',\n",
       " 'releases_url': 'https://api.github.com/repos/collectiveidea/imap_authenticatable/releases{/id}',\n",
       " 'deployments_url': 'https://api.github.com/repos/collectiveidea/imap_authenticatable/deployments'}"
      ]
     },
     "execution_count": 10,
     "metadata": {},
     "output_type": "execute_result"
    }
   ],
   "source": [
    "repos[0]"
   ]
  },
  {
   "cell_type": "markdown",
   "id": "1f3363d9",
   "metadata": {},
   "source": [
    "* We can process the data further using appropriate Python modules based upon the requiements."
   ]
  },
  {
   "cell_type": "code",
   "execution_count": 11,
   "id": "feae9911",
   "metadata": {},
   "outputs": [
    {
     "name": "stdout",
     "output_type": "stream",
     "text": [
      "370\n",
      "371\n",
      "372\n",
      "374\n",
      "376\n",
      "377\n",
      "379\n",
      "386\n",
      "388\n",
      "408\n",
      "410\n",
      "413\n",
      "422\n",
      "423\n",
      "425\n",
      "426\n",
      "427\n",
      "429\n",
      "430\n",
      "443\n",
      "469\n",
      "483\n",
      "491\n",
      "492\n",
      "494\n",
      "506\n",
      "507\n",
      "509\n",
      "510\n",
      "511\n",
      "513\n",
      "514\n",
      "520\n",
      "521\n",
      "523\n",
      "531\n",
      "533\n",
      "537\n",
      "538\n",
      "539\n",
      "541\n",
      "543\n",
      "547\n",
      "550\n",
      "556\n",
      "559\n",
      "571\n",
      "586\n",
      "590\n",
      "592\n",
      "597\n",
      "600\n",
      "603\n",
      "608\n",
      "619\n",
      "620\n",
      "622\n",
      "623\n",
      "624\n",
      "625\n",
      "629\n",
      "639\n",
      "641\n",
      "648\n",
      "649\n",
      "653\n",
      "654\n",
      "660\n",
      "662\n",
      "663\n",
      "664\n",
      "682\n",
      "690\n",
      "703\n",
      "713\n",
      "726\n",
      "732\n",
      "733\n",
      "735\n",
      "738\n",
      "751\n",
      "765\n",
      "774\n",
      "775\n",
      "780\n",
      "786\n",
      "788\n",
      "800\n",
      "807\n",
      "818\n",
      "828\n",
      "830\n",
      "838\n",
      "839\n",
      "852\n",
      "856\n",
      "866\n",
      "867\n",
      "872\n",
      "876\n"
     ]
    }
   ],
   "source": [
    "for repo in repos:\n",
    "    print(repo['id'])"
   ]
  },
  {
   "cell_type": "code",
   "execution_count": 12,
   "id": "f340bb51",
   "metadata": {},
   "outputs": [
    {
     "name": "stdout",
     "output_type": "stream",
     "text": [
      "imap_authenticatable\n",
      "random_finders\n",
      "with_action\n",
      "graticule\n",
      "tinder\n",
      "invisible\n",
      "pyprofile\n",
      "rush\n",
      "ike\n",
      "halcyon\n",
      "cruisecontrolrb\n",
      "opml-schema\n",
      "reddy\n",
      "youtube-g\n",
      "facebox\n",
      "haml\n",
      "kissgen\n",
      "exception_logger\n",
      "brain_buster\n",
      "vanhelsing\n",
      "linthicum\n",
      "textilizefu\n",
      "slate\n",
      "archangel\n",
      "god\n",
      "newjs\n",
      "twitter\n",
      "googlebase\n",
      "googlereader\n",
      "mirrored\n",
      "scrobbler\n",
      "lorem\n",
      "rails-authorization-plugin\n",
      "drnic_js_test_helpers\n",
      "mephisto-erb-templates-plugin\n",
      "imdb\n",
      "userstamp\n",
      "matzbot\n",
      "pci4r\n",
      "exposure\n",
      "packet\n",
      "elderbrowser\n",
      "git-wiki\n",
      "merb-core\n",
      "jim\n",
      "blankable\n",
      "merb-for-rails\n",
      "portmidi-ruby\n",
      "vjot\n",
      "errcount\n",
      "jquery-autocomplete\n",
      "finally\n",
      "alfred\n",
      "github-campfire\n",
      "merb-more\n",
      "merb-core\n",
      "blanket\n",
      "merb-more\n",
      "rubyports\n",
      "wordcram\n",
      "dumbapp\n",
      "merl\n",
      "squawk-micro\n",
      "io\n",
      "fuzed-old\n",
      "comment_replies\n",
      "tumblr\n",
      "codesnippets\n",
      "barby\n",
      "sin\n",
      "jsunittest\n",
      "delayed_job\n",
      "admin_tasks\n",
      "chronic\n",
      "ruby-satisfaction\n",
      "llor-nu-legacy\n",
      "rubyurl\n",
      "rubyurl\n",
      "mor7-google-charts-demo\n",
      "dm\n",
      "eldorado\n",
      "stringex\n",
      "freefall\n",
      "merb-core\n",
      "git-wiki\n",
      "kroonikko\n",
      "bus-scheme\n",
      "bindata\n",
      "bookqueue\n",
      "strokedb\n",
      "bus-scheme\n",
      "yark\n",
      "capistrano-bells\n",
      "calendar-maker\n",
      "mydry\n",
      "gemify\n",
      "mor7\n",
      "blog\n",
      "hairball\n",
      "merb-core\n"
     ]
    }
   ],
   "source": [
    "for repo in repos:\n",
    "    print(repo['name'])"
   ]
  },
  {
   "cell_type": "code",
   "execution_count": 13,
   "id": "5ec7bb48",
   "metadata": {},
   "outputs": [
    {
     "name": "stdout",
     "output_type": "stream",
     "text": [
      "imap_authenticatable:https://api.github.com/repos/collectiveidea/imap_authenticatable\n",
      "random_finders:https://api.github.com/repos/collectiveidea/random_finders\n",
      "with_action:https://api.github.com/repos/collectiveidea/with_action\n",
      "graticule:https://api.github.com/repos/collectiveidea/graticule\n",
      "tinder:https://api.github.com/repos/collectiveidea/tinder\n",
      "invisible:https://api.github.com/repos/macournoyer/invisible\n",
      "pyprofile:https://api.github.com/repos/tommorris/pyprofile\n",
      "rush:https://api.github.com/repos/adamwiggins/rush\n",
      "ike:https://api.github.com/repos/defunkt/ike\n",
      "halcyon:https://api.github.com/repos/mtodd/halcyon\n",
      "cruisecontrolrb:https://api.github.com/repos/benburkert/cruisecontrolrb\n",
      "opml-schema:https://api.github.com/repos/tommorris/opml-schema\n",
      "reddy:https://api.github.com/repos/tommorris/reddy\n",
      "youtube-g:https://api.github.com/repos/shane/youtube-g\n",
      "facebox:https://api.github.com/repos/defunkt/facebox\n",
      "haml:https://api.github.com/repos/haml/haml\n",
      "kissgen:https://api.github.com/repos/lancecarlson/kissgen\n",
      "exception_logger:https://api.github.com/repos/anotherjesse/exception_logger\n",
      "brain_buster:https://api.github.com/repos/rsanheim/brain_buster\n",
      "vanhelsing:https://api.github.com/repos/mojombo/vanhelsing\n",
      "linthicum:https://api.github.com/repos/bryanl/linthicum\n",
      "textilizefu:https://api.github.com/repos/adelcambre/textilizefu\n",
      "slate:https://api.github.com/repos/scharfie/slate\n",
      "archangel:https://api.github.com/repos/halorgium/archangel\n",
      "god:https://api.github.com/repos/halorgium/god\n",
      "newjs:https://api.github.com/repos/drnic/newjs\n",
      "twitter:https://api.github.com/repos/sferik/twitter\n",
      "googlebase:https://api.github.com/repos/jnunemaker/googlebase\n",
      "googlereader:https://api.github.com/repos/jnunemaker/googlereader\n",
      "mirrored:https://api.github.com/repos/jnunemaker/mirrored\n",
      "scrobbler:https://api.github.com/repos/jnunemaker/scrobbler\n",
      "lorem:https://api.github.com/repos/jnunemaker/lorem\n",
      "rails-authorization-plugin:https://api.github.com/repos/DocSavage/rails-authorization-plugin\n",
      "drnic_js_test_helpers:https://api.github.com/repos/drnic/drnic_js_test_helpers\n",
      "mephisto-erb-templates-plugin:https://api.github.com/repos/psq/mephisto-erb-templates-plugin\n",
      "imdb:https://api.github.com/repos/maddox/imdb\n",
      "userstamp:https://api.github.com/repos/delynn/userstamp\n",
      "matzbot:https://api.github.com/repos/defunkt/matzbot\n",
      "pci4r:https://api.github.com/repos/alexvollmer/pci4r\n",
      "exposure:https://api.github.com/repos/marten/exposure\n",
      "packet:https://api.github.com/repos/gnufied/packet\n",
      "elderbrowser:https://api.github.com/repos/joshuamckenty/elderbrowser\n",
      "git-wiki:https://api.github.com/repos/kmarsh/git-wiki\n",
      "merb-core:https://api.github.com/repos/halorgium/merb-core\n",
      "jim:https://api.github.com/repos/imownbey/jim\n",
      "blankable:https://api.github.com/repos/mudge/blankable\n",
      "merb-for-rails:https://api.github.com/repos/ivey/merb-for-rails\n",
      "portmidi-ruby:https://api.github.com/repos/halfbyte/portmidi-ruby\n",
      "vjot:https://api.github.com/repos/pjhyett/vjot\n",
      "errcount:https://api.github.com/repos/pjhyett/errcount\n",
      "jquery-autocomplete:https://api.github.com/repos/reinh/jquery-autocomplete\n",
      "finally:https://api.github.com/repos/anotherjesse/finally\n",
      "alfred:https://api.github.com/repos/cannikin/alfred\n",
      "github-campfire:https://api.github.com/repos/jnewland/github-campfire\n",
      "merb-more:https://api.github.com/repos/jnicklas/merb-more\n",
      "merb-core:https://api.github.com/repos/jnicklas/merb-core\n",
      "blanket:https://api.github.com/repos/bigfleet/blanket\n",
      "merb-more:https://api.github.com/repos/sr/merb-more\n",
      "rubyports:https://api.github.com/repos/leahneukirchen/rubyports\n",
      "wordcram:https://api.github.com/repos/lypanov/wordcram\n",
      "dumbapp:https://api.github.com/repos/sr/dumbapp\n",
      "merl:https://api.github.com/repos/raymorgan/merl\n",
      "squawk-micro:https://api.github.com/repos/zackchandler/squawk-micro\n",
      "io:https://api.github.com/repos/cdcarter/io\n",
      "fuzed-old:https://api.github.com/repos/KirinDave/fuzed-old\n",
      "comment_replies:https://api.github.com/repos/drnic/comment_replies\n",
      "tumblr:https://api.github.com/repos/kmarsh/tumblr\n",
      "codesnippets:https://api.github.com/repos/anildigital/codesnippets\n",
      "barby:https://api.github.com/repos/toretore/barby\n",
      "sin:https://api.github.com/repos/kastner/sin\n",
      "jsunittest:https://api.github.com/repos/drnic/jsunittest\n",
      "delayed_job:https://api.github.com/repos/tobi/delayed_job\n",
      "admin_tasks:https://api.github.com/repos/halorgium/admin_tasks\n",
      "chronic:https://api.github.com/repos/abhay/chronic\n",
      "ruby-satisfaction:https://api.github.com/repos/nullstyle/ruby-satisfaction\n",
      "llor-nu-legacy:https://api.github.com/repos/jwhitmire/llor-nu-legacy\n",
      "rubyurl:https://api.github.com/repos/robbyrussell/rubyurl\n",
      "rubyurl:https://api.github.com/repos/adelcambre/rubyurl\n",
      "mor7-google-charts-demo:https://api.github.com/repos/francois/mor7-google-charts-demo\n",
      "dm:https://api.github.com/repos/reinh/dm\n",
      "eldorado:https://api.github.com/repos/trevorturk/eldorado\n",
      "stringex:https://api.github.com/repos/rsl/stringex\n",
      "freefall:https://api.github.com/repos/james/freefall\n",
      "merb-core:https://api.github.com/repos/xraid/merb-core\n",
      "git-wiki:https://api.github.com/repos/al3x/git-wiki\n",
      "kroonikko:https://api.github.com/repos/jarkko/kroonikko\n",
      "bus-scheme:https://api.github.com/repos/KirinDave/bus-scheme\n",
      "bindata:https://api.github.com/repos/dgoodlad/bindata\n",
      "bookqueue:https://api.github.com/repos/caffo-archived/bookqueue\n",
      "strokedb:https://api.github.com/repos/yrashk/strokedb\n",
      "bus-scheme:https://api.github.com/repos/jdhuntington/bus-scheme\n",
      "yark:https://api.github.com/repos/trey/yark\n",
      "capistrano-bells:https://api.github.com/repos/nakajima/capistrano-bells\n",
      "calendar-maker:https://api.github.com/repos/nakajima/calendar-maker\n",
      "mydry:https://api.github.com/repos/urubatan/mydry\n",
      "gemify:https://api.github.com/repos/judofyr/gemify\n",
      "mor7:https://api.github.com/repos/macournoyer/mor7\n",
      "blog:https://api.github.com/repos/jredville/blog\n",
      "hairball:https://api.github.com/repos/ericallam/hairball\n",
      "merb-core:https://api.github.com/repos/jackdempsey/merb-core\n"
     ]
    }
   ],
   "source": [
    "# Getting repo name and urls\n",
    "for repo in repos:\n",
    "    print(f\"{repo['name']}:{repo['url']}\")"
   ]
  },
  {
   "cell_type": "code",
   "execution_count": 14,
   "id": "5a669d60",
   "metadata": {},
   "outputs": [],
   "source": [
    "repo_urls = [{'name': repo['name'], 'repo_url': repo['url']} for repo in repos]"
   ]
  },
  {
   "cell_type": "code",
   "execution_count": 15,
   "id": "a57560da",
   "metadata": {},
   "outputs": [
    {
     "data": {
      "text/plain": [
       "{'name': 'imap_authenticatable',\n",
       " 'repo_url': 'https://api.github.com/repos/collectiveidea/imap_authenticatable'}"
      ]
     },
     "execution_count": 15,
     "metadata": {},
     "output_type": "execute_result"
    }
   ],
   "source": [
    "repo_urls[0]"
   ]
  },
  {
   "cell_type": "code",
   "execution_count": 16,
   "id": "2a937307",
   "metadata": {},
   "outputs": [],
   "source": [
    "repo_urls = list(map(lambda repo: {'name': repo['name'], 'repo_url': repo['url']}, repos))"
   ]
  },
  {
   "cell_type": "code",
   "execution_count": 17,
   "id": "9d249305",
   "metadata": {},
   "outputs": [
    {
     "data": {
      "text/plain": [
       "{'name': 'imap_authenticatable',\n",
       " 'repo_url': 'https://api.github.com/repos/collectiveidea/imap_authenticatable'}"
      ]
     },
     "execution_count": 17,
     "metadata": {},
     "output_type": "execute_result"
    }
   ],
   "source": [
    "repo_urls[0]"
   ]
  },
  {
   "cell_type": "markdown",
   "id": "4ba9a31f",
   "metadata": {},
   "source": [
    "Here are some of the exercises you can work on using `repos` data. Please come up with solutions using either loops or functions such as `map`, `filter` etc.\n",
    "* Get number of repositories.\n",
    "* Get repository name, url and owner type of all repositories. Each element in the new list should be of type **tuple**.\n",
    "* Get all unique or distinct owner types of the repositories. The output should be of type **list**.\n",
    "* Get number of repositories where owner type is **User**.\n",
    "* Get number of repositories where owner type is **Organization**.\n",
    "* Get number of repositories by each owner type.\n",
    "* Sort the data by owner type and then by id. Ensure that data is sorted by id as numeric."
   ]
  },
  {
   "cell_type": "code",
   "execution_count": null,
   "id": "86f195e4",
   "metadata": {},
   "outputs": [],
   "source": []
  }
 ],
 "metadata": {
  "kernelspec": {
   "display_name": "Python 3",
   "language": "python",
   "name": "python3"
  },
  "language_info": {
   "codemirror_mode": {
    "name": "ipython",
    "version": 3
   },
   "file_extension": ".py",
   "mimetype": "text/x-python",
   "name": "python",
   "nbconvert_exporter": "python",
   "pygments_lexer": "ipython3",
   "version": "3.6.12"
  }
 },
 "nbformat": 4,
 "nbformat_minor": 5
}
