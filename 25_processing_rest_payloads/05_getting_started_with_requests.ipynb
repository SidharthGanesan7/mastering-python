{
 "cells": [
  {
   "cell_type": "markdown",
   "id": "f63c01a2",
   "metadata": {},
   "source": [
    "## Getting Started with requests\n",
    "\n",
    "Let us get started with requests module. You might have to install `requests` using `pip`.\n",
    "* `requests` is part of many other 3rd party libraries. You can check whether it is already installed or not."
   ]
  },
  {
   "cell_type": "code",
   "execution_count": null,
   "id": "98539d4a",
   "metadata": {},
   "outputs": [],
   "source": [
    "!pip list|grep requests"
   ]
  },
  {
   "cell_type": "markdown",
   "id": "fa434b27",
   "metadata": {},
   "source": [
    "* You need to import before you start using it as part of your Python program."
   ]
  },
  {
   "cell_type": "code",
   "execution_count": null,
   "id": "d31cad53",
   "metadata": {},
   "outputs": [],
   "source": [
    "import requests"
   ]
  },
  {
   "cell_type": "markdown",
   "id": "952fb960",
   "metadata": {},
   "source": [
    "* Here are some of the important functions from `requests` module we use on regular basis. The below functions are to support common REST API calls."
   ]
  },
  {
   "cell_type": "code",
   "execution_count": null,
   "id": "5c99f9b8",
   "metadata": {},
   "outputs": [],
   "source": [
    "import requests\n",
    "\n",
    "url = \"https://api.github.com/users/dgadiraju/repos\"\n",
    "\n",
    "payload={}\n",
    "headers = {}\n",
    "\n",
    "response = requests.request(\"GET\", url, headers=headers, data=payload)\n",
    "\n",
    "print(response.text)\n"
   ]
  },
  {
   "cell_type": "code",
   "execution_count": null,
   "id": "d65f217a",
   "metadata": {},
   "outputs": [],
   "source": [
    "requests.get?"
   ]
  },
  {
   "cell_type": "code",
   "execution_count": null,
   "id": "dd3c7d3f",
   "metadata": {},
   "outputs": [],
   "source": [
    "requests.post?"
   ]
  },
  {
   "cell_type": "code",
   "execution_count": null,
   "id": "8a2b6657",
   "metadata": {},
   "outputs": [],
   "source": [
    "requests.put?"
   ]
  },
  {
   "cell_type": "code",
   "execution_count": null,
   "id": "6600b44d",
   "metadata": {},
   "outputs": [],
   "source": [
    "requests.delete?"
   ]
  },
  {
   "cell_type": "markdown",
   "id": "c2640b12",
   "metadata": {},
   "source": [
    "* As part of the Data Engineering projects, we typically read the data from REST APIs. It means we will be using functions such as `requests.get` more often than others.\n",
    "* Here is a quick example. We will deep dive as part of subsequent topics."
   ]
  },
  {
   "cell_type": "code",
   "execution_count": null,
   "id": "18b41fd0",
   "metadata": {},
   "outputs": [],
   "source": [
    "import requests"
   ]
  },
  {
   "cell_type": "code",
   "execution_count": null,
   "id": "48102716",
   "metadata": {},
   "outputs": [],
   "source": [
    "gitapi = requests.get('https://api.github.com').content.decode('utf-8')"
   ]
  },
  {
   "cell_type": "code",
   "execution_count": null,
   "id": "b4868b02",
   "metadata": {},
   "outputs": [],
   "source": [
    "gitapi # It is of type string. This string is a valid JSON"
   ]
  },
  {
   "cell_type": "code",
   "execution_count": null,
   "id": "1f42b1f1",
   "metadata": {},
   "outputs": [],
   "source": []
  }
 ],
 "metadata": {
  "kernelspec": {
   "display_name": "Python 3",
   "language": "python",
   "name": "python3"
  },
  "language_info": {
   "codemirror_mode": {
    "name": "ipython",
    "version": 3
   },
   "file_extension": ".py",
   "mimetype": "text/x-python",
   "name": "python",
   "nbconvert_exporter": "python",
   "pygments_lexer": "ipython3",
   "version": "3.6.12"
  }
 },
 "nbformat": 4,
 "nbformat_minor": 5
}
