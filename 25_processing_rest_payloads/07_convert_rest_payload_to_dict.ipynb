{
 "cells": [
  {
   "cell_type": "markdown",
   "id": "f124a86b",
   "metadata": {},
   "source": [
    "## Convert REST Payload to dict\n",
    "\n",
    "Let us understand how we can convert REST `GET` Payload to `dict`.\n",
    "* We have already seen that the `payload` is of type `str`. Also, it contains valid `json`.\n",
    "\n",
    "Here are the steps involved in converting REST Payload to Python `dict`.\n",
    "* Invoke REST API by passing valid URI. It will create response object.\n",
    "* Using response object invoke `json()`. It will return Python dict.\n",
    "* Once it is converted to Python dict we can further process data using appropriate Python APIs as per our requirements."
   ]
  },
  {
   "cell_type": "code",
   "execution_count": null,
   "id": "03a98bed",
   "metadata": {},
   "outputs": [],
   "source": [
    "import requests"
   ]
  },
  {
   "cell_type": "code",
   "execution_count": null,
   "id": "2ca65c3b",
   "metadata": {},
   "outputs": [],
   "source": [
    "payload = requests.get('https://api.github.com').content.decode('utf-8')"
   ]
  },
  {
   "cell_type": "code",
   "execution_count": null,
   "id": "37a4d08e",
   "metadata": {},
   "outputs": [],
   "source": [
    "payload # A string with valid json"
   ]
  },
  {
   "cell_type": "code",
   "execution_count": null,
   "id": "dbddc4f4",
   "metadata": {},
   "outputs": [],
   "source": [
    "payload_dict = requests.get('https://api.github.com').json() # returns Python dict directly"
   ]
  },
  {
   "cell_type": "code",
   "execution_count": null,
   "id": "bfd1acbd",
   "metadata": {},
   "outputs": [],
   "source": [
    "type(payload_dict)"
   ]
  },
  {
   "cell_type": "code",
   "execution_count": null,
   "id": "261cc51b",
   "metadata": {},
   "outputs": [],
   "source": [
    "payload_dict # It is of type dict"
   ]
  },
  {
   "cell_type": "code",
   "execution_count": null,
   "id": "e1bad216",
   "metadata": {},
   "outputs": [],
   "source": [
    "payload_dict.keys()"
   ]
  },
  {
   "cell_type": "code",
   "execution_count": null,
   "id": "56fdc222",
   "metadata": {},
   "outputs": [],
   "source": [
    "payload_dict.values()"
   ]
  },
  {
   "cell_type": "code",
   "execution_count": null,
   "id": "04f07f22",
   "metadata": {},
   "outputs": [],
   "source": [
    "payload_dict['current_user_url']"
   ]
  },
  {
   "cell_type": "code",
   "execution_count": null,
   "id": "a16ba1c2",
   "metadata": {},
   "outputs": [],
   "source": []
  }
 ],
 "metadata": {
  "kernelspec": {
   "display_name": "Python 3",
   "language": "python",
   "name": "python3"
  },
  "language_info": {
   "codemirror_mode": {
    "name": "ipython",
    "version": 3
   },
   "file_extension": ".py",
   "mimetype": "text/x-python",
   "name": "python",
   "nbconvert_exporter": "python",
   "pygments_lexer": "ipython3",
   "version": "3.6.12"
  }
 },
 "nbformat": 4,
 "nbformat_minor": 5
}
