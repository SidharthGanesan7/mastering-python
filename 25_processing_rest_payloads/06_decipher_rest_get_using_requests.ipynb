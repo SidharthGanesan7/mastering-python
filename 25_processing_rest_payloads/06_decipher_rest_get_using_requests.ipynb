{
 "cells": [
  {
   "cell_type": "markdown",
   "id": "e82c550d",
   "metadata": {},
   "source": [
    "## Decipher REST GET using requests\n",
    "\n",
    "Let us decipher the response returned by REST GET API call using requests.\n",
    "* `requests.get` returns `requests.models.Response` type object."
   ]
  },
  {
   "cell_type": "code",
   "execution_count": null,
   "id": "aeb8f2e3",
   "metadata": {},
   "outputs": [],
   "source": [
    "import requests"
   ]
  },
  {
   "cell_type": "code",
   "execution_count": null,
   "id": "d830dc91",
   "metadata": {},
   "outputs": [],
   "source": [
    "requests.get('https://api.github.com')\n",
    "# 200"
   ]
  },
  {
   "cell_type": "code",
   "execution_count": null,
   "id": "c1eba2a4",
   "metadata": {},
   "outputs": [],
   "source": [
    "type(requests.get('https://api.github.com'))"
   ]
  },
  {
   "cell_type": "markdown",
   "id": "7f4bf41d",
   "metadata": {},
   "source": [
    "* `requests.models.Response` contains an attribute by name `content`. The type of content attribute is `bytes`"
   ]
  },
  {
   "cell_type": "code",
   "execution_count": null,
   "id": "8d05c8db",
   "metadata": {},
   "outputs": [],
   "source": [
    "res = requests.get('https://api.github.com')"
   ]
  },
  {
   "cell_type": "code",
   "execution_count": null,
   "id": "f96ff1ec",
   "metadata": {},
   "outputs": [],
   "source": [
    "requests.get('https://api.github.com').content"
   ]
  },
  {
   "cell_type": "code",
   "execution_count": null,
   "id": "d1c39479",
   "metadata": {},
   "outputs": [],
   "source": [
    "type(requests.get('https://api.github.com').content)"
   ]
  },
  {
   "cell_type": "markdown",
   "id": "009cb242",
   "metadata": {},
   "source": [
    "* Let us quickly review how to convert bytes which have alpha numeric characters to string. `bytes` have a function called as `decode` which can be used to convert `bytes` to `str` type."
   ]
  },
  {
   "cell_type": "code",
   "execution_count": null,
   "id": "1b0ac60b",
   "metadata": {},
   "outputs": [],
   "source": [
    "b = b'Hello'"
   ]
  },
  {
   "cell_type": "code",
   "execution_count": null,
   "id": "1c391289",
   "metadata": {},
   "outputs": [],
   "source": [
    "type(b) # If byte stream contains only alpha numeric characters, we should be able to decode to string type"
   ]
  },
  {
   "cell_type": "code",
   "execution_count": null,
   "id": "ae9e544a",
   "metadata": {},
   "outputs": [],
   "source": [
    "b = b'{\"order_id\": 1, \"order_status\": \"COMPLETE\"}'"
   ]
  },
  {
   "cell_type": "code",
   "execution_count": null,
   "id": "625301ac",
   "metadata": {},
   "outputs": [],
   "source": [
    "type(b) # If byte stream contains only alpha numeric characters, we should be able to decode to string type"
   ]
  },
  {
   "cell_type": "code",
   "execution_count": null,
   "id": "078e9bbd",
   "metadata": {},
   "outputs": [],
   "source": [
    "import json"
   ]
  },
  {
   "cell_type": "code",
   "execution_count": null,
   "id": "e9908c91",
   "metadata": {},
   "outputs": [],
   "source": [
    "json.loads(b)"
   ]
  },
  {
   "cell_type": "code",
   "execution_count": null,
   "id": "1512127b",
   "metadata": {},
   "outputs": [],
   "source": [
    "b.decode('utf-8')"
   ]
  },
  {
   "cell_type": "code",
   "execution_count": null,
   "id": "159c87d7",
   "metadata": {},
   "outputs": [],
   "source": [
    "type(b.decode('utf-8'))"
   ]
  },
  {
   "cell_type": "markdown",
   "id": "977bd077",
   "metadata": {},
   "source": [
    "* As `requests.get('https://api.github.com').content` return `bytes` type, we should be able to use `decode` to convert the string. Most of the REST API responses can be decoded to strings (unless the websites are developed for other languages)"
   ]
  },
  {
   "cell_type": "code",
   "execution_count": null,
   "id": "9c3962fb",
   "metadata": {},
   "outputs": [],
   "source": [
    "requests.get('https://api.github.com').content.decode('utf-8')"
   ]
  },
  {
   "cell_type": "markdown",
   "id": "cbf31cd7",
   "metadata": {},
   "source": [
    "* Assigning decoded string to a variable `payload`"
   ]
  },
  {
   "cell_type": "code",
   "execution_count": null,
   "id": "cfdefd44",
   "metadata": {},
   "outputs": [],
   "source": [
    "payload = requests.get('https://api.github.com').content.decode('utf-8')"
   ]
  },
  {
   "cell_type": "code",
   "execution_count": null,
   "id": "09a5a12c",
   "metadata": {},
   "outputs": [],
   "source": [
    "type(payload) # It is of type str and the string contain valid JSON structure"
   ]
  },
  {
   "cell_type": "markdown",
   "id": "d859abcf",
   "metadata": {},
   "source": [
    "* We can further process this payload using appropriate APIs as per our requirements.\n",
    "* As the payload contain valid JSON structure, we can use either `json` or `pandas` or both to process the data in JSON structure further."
   ]
  },
  {
   "cell_type": "code",
   "execution_count": null,
   "id": "c2405bc7",
   "metadata": {},
   "outputs": [],
   "source": []
  }
 ],
 "metadata": {
  "kernelspec": {
   "display_name": "python37",
   "language": "python",
   "name": "python37"
  },
  "language_info": {
   "codemirror_mode": {
    "name": "ipython",
    "version": 3
   },
   "file_extension": ".py",
   "mimetype": "text/x-python",
   "name": "python",
   "nbconvert_exporter": "python",
   "pygments_lexer": "ipython3",
   "version": "3.7.10"
  }
 },
 "nbformat": 4,
 "nbformat_minor": 5
}
