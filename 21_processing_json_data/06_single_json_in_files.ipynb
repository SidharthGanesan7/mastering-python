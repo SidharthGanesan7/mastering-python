{
 "cells": [
  {
   "cell_type": "markdown",
   "metadata": {},
   "source": [
    "## Single JSON in Files"
   ]
  },
  {
   "cell_type": "code",
   "execution_count": 2,
   "metadata": {},
   "outputs": [],
   "source": [
    "import json"
   ]
  },
  {
   "cell_type": "code",
   "execution_count": 6,
   "metadata": {},
   "outputs": [
    {
     "data": {
      "text/plain": [
       "_io.TextIOWrapper"
      ]
     },
     "execution_count": 6,
     "metadata": {},
     "output_type": "execute_result"
    }
   ],
   "source": [
    "type(open('single_document.json'))"
   ]
  },
  {
   "cell_type": "code",
   "execution_count": 5,
   "metadata": {},
   "outputs": [],
   "source": [
    "single_json = json.load(open('single_document.json'))"
   ]
  },
  {
   "cell_type": "code",
   "execution_count": 7,
   "metadata": {},
   "outputs": [
    {
     "data": {
      "text/plain": [
       "{'id': 1,\n",
       " 'first_name': 'Frasco',\n",
       " 'last_name': 'Necolds',\n",
       " 'email': 'fnecolds0@vk.com',\n",
       " 'gender': 'Male',\n",
       " 'ip_address': '243.67.63.34'}"
      ]
     },
     "execution_count": 7,
     "metadata": {},
     "output_type": "execute_result"
    }
   ],
   "source": [
    "single_json"
   ]
  },
  {
   "cell_type": "code",
   "execution_count": 8,
   "metadata": {},
   "outputs": [],
   "source": [
    "results_json = json.load(open('youtube_playlist_items.json'))"
   ]
  },
  {
   "cell_type": "code",
   "execution_count": 9,
   "metadata": {},
   "outputs": [
    {
     "data": {
      "text/plain": [
       "{'kind': 'youtube#playlistItemListResponse',\n",
       " 'etag': 'lfs_qWNaczIydJ2Dlp1gmX9UTAc',\n",
       " 'nextPageToken': 'CAUQAA',\n",
       " 'items': [{'kind': 'youtube#playlistItem',\n",
       "   'etag': 'SGHDydc4dLsY2RjfXTPneb_zc_s',\n",
       "   'id': 'UExmMHN3VEZoVEk4cmtINHlJZm95VEFoZUVHaldJUnRQRy5EQkE3RTJCQTJEQkFBQTcz',\n",
       "   'contentDetails': {'videoId': 'ETZJln4jtAo',\n",
       "    'videoPublishedAt': '2020-11-28T16:29:47Z'},\n",
       "   'status': {'privacyStatus': 'public'}},\n",
       "  {'kind': 'youtube#playlistItem',\n",
       "   'etag': '5EFUNhJBvcwXPxO416VYQsXGzMo',\n",
       "   'id': 'UExmMHN3VEZoVEk4cmtINHlJZm95VEFoZUVHaldJUnRQRy4yQzk4QTA5QjkzMTFFOEI1',\n",
       "   'contentDetails': {'videoId': '1OVHjHTkP3M',\n",
       "    'videoPublishedAt': '2020-11-28T16:30:12Z'},\n",
       "   'status': {'privacyStatus': 'public'}},\n",
       "  {'kind': 'youtube#playlistItem',\n",
       "   'etag': 'TiKqB2aeYxJjMGKQ0yLMJY0vpQE',\n",
       "   'id': 'UExmMHN3VEZoVEk4cmtINHlJZm95VEFoZUVHaldJUnRQRy45NDlDQUFFOThDMTAxQjUw',\n",
       "   'contentDetails': {'videoId': 'qfUbPLsLQcQ',\n",
       "    'videoPublishedAt': '2020-11-28T16:30:33Z'},\n",
       "   'status': {'privacyStatus': 'public'}},\n",
       "  {'kind': 'youtube#playlistItem',\n",
       "   'etag': 'vQrJOpYdXmGJuV32kjj2xqvSByc',\n",
       "   'id': 'UExmMHN3VEZoVEk4cmtINHlJZm95VEFoZUVHaldJUnRQRy4xN0Y2QjVBOEI2MzQ5OUM5',\n",
       "   'contentDetails': {'videoId': 'rLTbhSaXhSM',\n",
       "    'videoPublishedAt': '2020-11-28T16:30:52Z'},\n",
       "   'status': {'privacyStatus': 'public'}},\n",
       "  {'kind': 'youtube#playlistItem',\n",
       "   'etag': '2CzGUToIgqywXAr4wuPswj9MuFg',\n",
       "   'id': 'UExmMHN3VEZoVEk4cmtINHlJZm95VEFoZUVHaldJUnRQRy5FQUY2Qzk4RUFDN0ZFRkZF',\n",
       "   'contentDetails': {'videoId': 'wP7BhXrJKR8',\n",
       "    'videoPublishedAt': '2020-11-28T16:31:14Z'},\n",
       "   'status': {'privacyStatus': 'public'}}],\n",
       " 'pageInfo': {'totalResults': 127, 'resultsPerPage': 5}}"
      ]
     },
     "execution_count": 9,
     "metadata": {},
     "output_type": "execute_result"
    }
   ],
   "source": [
    "results_json"
   ]
  },
  {
   "cell_type": "code",
   "execution_count": 10,
   "metadata": {},
   "outputs": [
    {
     "data": {
      "text/plain": [
       "[{'kind': 'youtube#playlistItem',\n",
       "  'etag': 'SGHDydc4dLsY2RjfXTPneb_zc_s',\n",
       "  'id': 'UExmMHN3VEZoVEk4cmtINHlJZm95VEFoZUVHaldJUnRQRy5EQkE3RTJCQTJEQkFBQTcz',\n",
       "  'contentDetails': {'videoId': 'ETZJln4jtAo',\n",
       "   'videoPublishedAt': '2020-11-28T16:29:47Z'},\n",
       "  'status': {'privacyStatus': 'public'}},\n",
       " {'kind': 'youtube#playlistItem',\n",
       "  'etag': '5EFUNhJBvcwXPxO416VYQsXGzMo',\n",
       "  'id': 'UExmMHN3VEZoVEk4cmtINHlJZm95VEFoZUVHaldJUnRQRy4yQzk4QTA5QjkzMTFFOEI1',\n",
       "  'contentDetails': {'videoId': '1OVHjHTkP3M',\n",
       "   'videoPublishedAt': '2020-11-28T16:30:12Z'},\n",
       "  'status': {'privacyStatus': 'public'}},\n",
       " {'kind': 'youtube#playlistItem',\n",
       "  'etag': 'TiKqB2aeYxJjMGKQ0yLMJY0vpQE',\n",
       "  'id': 'UExmMHN3VEZoVEk4cmtINHlJZm95VEFoZUVHaldJUnRQRy45NDlDQUFFOThDMTAxQjUw',\n",
       "  'contentDetails': {'videoId': 'qfUbPLsLQcQ',\n",
       "   'videoPublishedAt': '2020-11-28T16:30:33Z'},\n",
       "  'status': {'privacyStatus': 'public'}},\n",
       " {'kind': 'youtube#playlistItem',\n",
       "  'etag': 'vQrJOpYdXmGJuV32kjj2xqvSByc',\n",
       "  'id': 'UExmMHN3VEZoVEk4cmtINHlJZm95VEFoZUVHaldJUnRQRy4xN0Y2QjVBOEI2MzQ5OUM5',\n",
       "  'contentDetails': {'videoId': 'rLTbhSaXhSM',\n",
       "   'videoPublishedAt': '2020-11-28T16:30:52Z'},\n",
       "  'status': {'privacyStatus': 'public'}},\n",
       " {'kind': 'youtube#playlistItem',\n",
       "  'etag': '2CzGUToIgqywXAr4wuPswj9MuFg',\n",
       "  'id': 'UExmMHN3VEZoVEk4cmtINHlJZm95VEFoZUVHaldJUnRQRy5FQUY2Qzk4RUFDN0ZFRkZF',\n",
       "  'contentDetails': {'videoId': 'wP7BhXrJKR8',\n",
       "   'videoPublishedAt': '2020-11-28T16:31:14Z'},\n",
       "  'status': {'privacyStatus': 'public'}}]"
      ]
     },
     "execution_count": 10,
     "metadata": {},
     "output_type": "execute_result"
    }
   ],
   "source": [
    "results_json['items']"
   ]
  },
  {
   "cell_type": "code",
   "execution_count": 13,
   "metadata": {},
   "outputs": [
    {
     "data": {
      "text/plain": [
       "{'videoId': 'ETZJln4jtAo', 'videoPublishedAt': '2020-11-28T16:29:47Z'}"
      ]
     },
     "execution_count": 13,
     "metadata": {},
     "output_type": "execute_result"
    }
   ],
   "source": [
    "results_json['items'][0]['contentDetails']"
   ]
  },
  {
   "cell_type": "code",
   "execution_count": 14,
   "metadata": {},
   "outputs": [
    {
     "name": "stdout",
     "output_type": "stream",
     "text": [
      "{'kind': 'youtube#playlistItem', 'etag': 'SGHDydc4dLsY2RjfXTPneb_zc_s', 'id': 'UExmMHN3VEZoVEk4cmtINHlJZm95VEFoZUVHaldJUnRQRy5EQkE3RTJCQTJEQkFBQTcz', 'contentDetails': {'videoId': 'ETZJln4jtAo', 'videoPublishedAt': '2020-11-28T16:29:47Z'}, 'status': {'privacyStatus': 'public'}}\n",
      "{'kind': 'youtube#playlistItem', 'etag': '5EFUNhJBvcwXPxO416VYQsXGzMo', 'id': 'UExmMHN3VEZoVEk4cmtINHlJZm95VEFoZUVHaldJUnRQRy4yQzk4QTA5QjkzMTFFOEI1', 'contentDetails': {'videoId': '1OVHjHTkP3M', 'videoPublishedAt': '2020-11-28T16:30:12Z'}, 'status': {'privacyStatus': 'public'}}\n",
      "{'kind': 'youtube#playlistItem', 'etag': 'TiKqB2aeYxJjMGKQ0yLMJY0vpQE', 'id': 'UExmMHN3VEZoVEk4cmtINHlJZm95VEFoZUVHaldJUnRQRy45NDlDQUFFOThDMTAxQjUw', 'contentDetails': {'videoId': 'qfUbPLsLQcQ', 'videoPublishedAt': '2020-11-28T16:30:33Z'}, 'status': {'privacyStatus': 'public'}}\n",
      "{'kind': 'youtube#playlistItem', 'etag': 'vQrJOpYdXmGJuV32kjj2xqvSByc', 'id': 'UExmMHN3VEZoVEk4cmtINHlJZm95VEFoZUVHaldJUnRQRy4xN0Y2QjVBOEI2MzQ5OUM5', 'contentDetails': {'videoId': 'rLTbhSaXhSM', 'videoPublishedAt': '2020-11-28T16:30:52Z'}, 'status': {'privacyStatus': 'public'}}\n",
      "{'kind': 'youtube#playlistItem', 'etag': '2CzGUToIgqywXAr4wuPswj9MuFg', 'id': 'UExmMHN3VEZoVEk4cmtINHlJZm95VEFoZUVHaldJUnRQRy5FQUY2Qzk4RUFDN0ZFRkZF', 'contentDetails': {'videoId': 'wP7BhXrJKR8', 'videoPublishedAt': '2020-11-28T16:31:14Z'}, 'status': {'privacyStatus': 'public'}}\n"
     ]
    }
   ],
   "source": [
    "for playlist_item in results_json['items']:\n",
    "    print(playlist_item)"
   ]
  },
  {
   "cell_type": "code",
   "execution_count": 15,
   "metadata": {},
   "outputs": [
    {
     "name": "stdout",
     "output_type": "stream",
     "text": [
      "{'videoId': 'ETZJln4jtAo', 'videoPublishedAt': '2020-11-28T16:29:47Z'}\n",
      "{'videoId': '1OVHjHTkP3M', 'videoPublishedAt': '2020-11-28T16:30:12Z'}\n",
      "{'videoId': 'qfUbPLsLQcQ', 'videoPublishedAt': '2020-11-28T16:30:33Z'}\n",
      "{'videoId': 'rLTbhSaXhSM', 'videoPublishedAt': '2020-11-28T16:30:52Z'}\n",
      "{'videoId': 'wP7BhXrJKR8', 'videoPublishedAt': '2020-11-28T16:31:14Z'}\n"
     ]
    }
   ],
   "source": [
    "for playlist_item in results_json['items']:\n",
    "    print(playlist_item['contentDetails'])"
   ]
  },
  {
   "cell_type": "code",
   "execution_count": null,
   "metadata": {},
   "outputs": [],
   "source": []
  }
 ],
 "metadata": {
  "kernelspec": {
   "display_name": "Python 3",
   "language": "python",
   "name": "python3"
  },
  "language_info": {
   "codemirror_mode": {
    "name": "ipython",
    "version": 3
   },
   "file_extension": ".py",
   "mimetype": "text/x-python",
   "name": "python",
   "nbconvert_exporter": "python",
   "pygments_lexer": "ipython3",
   "version": "3.7.10"
  }
 },
 "nbformat": 4,
 "nbformat_minor": 4
}
