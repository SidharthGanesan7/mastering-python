{
 "cells": [
  {
   "cell_type": "markdown",
   "id": "f0e09d67",
   "metadata": {},
   "source": [
    "## Write to JSON files using json\n",
    "\n",
    "Let us understand how to write to JSON files using `json` module.\n",
    "* We can use `dump` to save JSON data to files. We can also generate a JSON string from a `dict` using `dumps`."
   ]
  },
  {
   "cell_type": "code",
   "execution_count": null,
   "id": "f46ebe90",
   "metadata": {},
   "outputs": [],
   "source": [
    "course = {'course_name': 'Programming using Python',\n",
    "  'course_author': 'Bob Dillon',\n",
    "  'course_status': 'published',\n",
    "  'course_published_dt': '2020-09-30'}"
   ]
  },
  {
   "cell_type": "code",
   "execution_count": null,
   "id": "36248d05",
   "metadata": {},
   "outputs": [],
   "source": [
    "import json"
   ]
  },
  {
   "cell_type": "code",
   "execution_count": null,
   "id": "ce3d8539",
   "metadata": {},
   "outputs": [],
   "source": [
    "json.dumps(course)"
   ]
  },
  {
   "cell_type": "code",
   "execution_count": null,
   "id": "30ef5fac",
   "metadata": {},
   "outputs": [],
   "source": [
    "courses = [{'course_name': 'Programming using Python',\n",
    "  'course_author': 'Bob Dillon',\n",
    "  'course_status': 'published',\n",
    "  'course_published_dt': '2020-09-30'},\n",
    " {'course_name': 'Data Engineering using Python',\n",
    "  'course_author': 'Bob Dillon',\n",
    "  'course_status': 'published',\n",
    "  'course_published_dt': '2020-07-15'},\n",
    " {'course_name': 'Data Engineering using Scala',\n",
    "  'course_author': 'Elvis Presley',\n",
    "  'course_status': 'draft',\n",
    "  'course_published_dt': None},\n",
    " {'course_name': 'Programming using Scala',\n",
    "  'course_author': 'Elvis Presley',\n",
    "  'course_status': 'published',\n",
    "  'course_published_dt': '2020-05-12'},\n",
    " {'course_name': 'Programming using Java',\n",
    "  'course_author': 'Mike Jack',\n",
    "  'course_status': 'inactive',\n",
    "  'course_published_dt': '2020-08-10'},\n",
    " {'course_name': 'Web Applications - Python Flask',\n",
    "  'course_author': 'Bob Dillon',\n",
    "  'course_status': 'inactive',\n",
    "  'course_published_dt': '2020-07-20'},\n",
    " {'course_name': 'Web Applications - Java Spring',\n",
    "  'course_author': 'Mike Jack',\n",
    "  'course_status': 'draft',\n",
    "  'course_published_dt': None},\n",
    " {'course_name': 'Pipeline Orchestration - Python',\n",
    "  'course_author': 'Bob Dillon',\n",
    "  'course_status': 'draft',\n",
    "  'course_published_dt': None},\n",
    " {'course_name': 'Streaming Pipelines - Python',\n",
    "  'course_author': 'Bob Dillon',\n",
    "  'course_status': 'published',\n",
    "  'course_published_dt': '2020-10-05'},\n",
    " {'course_name': 'Web Applications - Scala Play',\n",
    "  'course_author': 'Elvis Presley',\n",
    "  'course_status': 'inactive',\n",
    "  'course_published_dt': '2020-09-30'},\n",
    " {'course_name': 'Web Applications - Python Django',\n",
    "  'course_author': 'Bob Dillon',\n",
    "  'course_status': 'published',\n",
    "  'course_published_dt': '2020-06-23'},\n",
    " {'course_name': 'Server Automation - Ansible',\n",
    "  'course_author': 'Uncle Sam',\n",
    "  'course_status': 'published',\n",
    "  'course_published_dt': '2020-07-05'}]"
   ]
  },
  {
   "cell_type": "code",
   "execution_count": null,
   "id": "166f4a59",
   "metadata": {},
   "outputs": [],
   "source": [
    "json.dumps(courses)"
   ]
  },
  {
   "cell_type": "markdown",
   "id": "449f42b3",
   "metadata": {},
   "source": [
    "* Dumping a JSON array to the file."
   ]
  },
  {
   "cell_type": "code",
   "execution_count": null,
   "id": "997afe7f",
   "metadata": {},
   "outputs": [],
   "source": [
    "courses_file = open('courses.json', 'w')"
   ]
  },
  {
   "cell_type": "code",
   "execution_count": null,
   "id": "17f7a32b",
   "metadata": {},
   "outputs": [],
   "source": [
    "json.dump(courses, courses_file)"
   ]
  },
  {
   "cell_type": "code",
   "execution_count": null,
   "id": "b0d5cea8",
   "metadata": {},
   "outputs": [],
   "source": [
    "courses_file.close()"
   ]
  },
  {
   "cell_type": "code",
   "execution_count": null,
   "id": "eb0e5ae8",
   "metadata": {},
   "outputs": [],
   "source": [
    "!ls -ltr courses.json"
   ]
  },
  {
   "cell_type": "code",
   "execution_count": null,
   "id": "959649cb",
   "metadata": {},
   "outputs": [],
   "source": [
    "!cat courses.json"
   ]
  },
  {
   "cell_type": "markdown",
   "id": "74f2d1aa",
   "metadata": {},
   "source": [
    "* Dumping a JSON documents into a file with one JSON document per line."
   ]
  },
  {
   "cell_type": "code",
   "execution_count": null,
   "id": "091d774a",
   "metadata": {},
   "outputs": [],
   "source": [
    "!rm courses.json"
   ]
  },
  {
   "cell_type": "code",
   "execution_count": null,
   "id": "1d8424ff",
   "metadata": {},
   "outputs": [],
   "source": [
    "courses_file = open('courses.json', 'w')"
   ]
  },
  {
   "cell_type": "code",
   "execution_count": null,
   "id": "0a2ee035",
   "metadata": {},
   "outputs": [],
   "source": [
    "for course in courses:\n",
    "    json.dump(course, courses_file) # Writing one JSON at a time.\n",
    "    courses_file.write('\\n') # we need to add new line character after each JSON document in the file."
   ]
  },
  {
   "cell_type": "code",
   "execution_count": null,
   "id": "912917e3",
   "metadata": {},
   "outputs": [],
   "source": [
    "courses_file.close()"
   ]
  },
  {
   "cell_type": "code",
   "execution_count": null,
   "id": "fd594445",
   "metadata": {},
   "outputs": [],
   "source": [
    "!ls -ltr courses.json"
   ]
  },
  {
   "cell_type": "code",
   "execution_count": null,
   "id": "b6f4cf2e",
   "metadata": {},
   "outputs": [],
   "source": [
    "!cat courses.json"
   ]
  },
  {
   "cell_type": "code",
   "execution_count": null,
   "id": "25a080e8",
   "metadata": {},
   "outputs": [],
   "source": [
    "import pandas as pd"
   ]
  },
  {
   "cell_type": "code",
   "execution_count": null,
   "id": "e9863539",
   "metadata": {},
   "outputs": [],
   "source": [
    "pd.read_json('courses.json', lines=True)"
   ]
  }
 ],
 "metadata": {
  "kernelspec": {
   "display_name": "Pyspark 3",
   "language": "python",
   "name": "pyspark3"
  },
  "language_info": {
   "codemirror_mode": {
    "name": "ipython",
    "version": 3
   },
   "file_extension": ".py",
   "mimetype": "text/x-python",
   "name": "python",
   "nbconvert_exporter": "python",
   "pygments_lexer": "ipython3",
   "version": "3.6.12"
  }
 },
 "nbformat": 4,
 "nbformat_minor": 5
}
