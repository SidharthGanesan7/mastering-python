{
 "cells": [
  {
   "cell_type": "markdown",
   "id": "80bf14d6",
   "metadata": {},
   "source": [
    "## Write to JSON files using pandas\n",
    "\n",
    "Let us understand how to write to JSON files using `pandas` module.\n",
    "* We can use `to_json` to write to JSON file using `pandas`."
   ]
  },
  {
   "cell_type": "code",
   "execution_count": null,
   "id": "4bda8a16",
   "metadata": {},
   "outputs": [],
   "source": [
    "import pandas as pd"
   ]
  },
  {
   "cell_type": "code",
   "execution_count": null,
   "id": "6ee35b08",
   "metadata": {},
   "outputs": [],
   "source": [
    "courses = [{'course_name': 'Programming using Python',\n",
    "  'course_author': 'Bob Dillon',\n",
    "  'course_status': 'published',\n",
    "  'course_published_dt': '2020-09-30'},\n",
    " {'course_name': 'Data Engineering using Python',\n",
    "  'course_author': 'Bob Dillon',\n",
    "  'course_status': 'published',\n",
    "  'course_published_dt': '2020-07-15'}]"
   ]
  },
  {
   "cell_type": "code",
   "execution_count": null,
   "id": "e86fd409",
   "metadata": {},
   "outputs": [],
   "source": [
    "df = pd.DataFrame(courses)"
   ]
  },
  {
   "cell_type": "code",
   "execution_count": null,
   "id": "b6055050",
   "metadata": {},
   "outputs": [],
   "source": [
    "df.to_json?"
   ]
  },
  {
   "cell_type": "markdown",
   "id": "571e1758",
   "metadata": {},
   "source": [
    "* Dumping a JSON documents into a file with one JSON document per line."
   ]
  },
  {
   "cell_type": "code",
   "execution_count": null,
   "id": "a1e50d54",
   "metadata": {},
   "outputs": [],
   "source": [
    "courses = [{'course_name': 'Programming using Python',\n",
    "  'course_author': 'Bob Dillon',\n",
    "  'course_status': 'published',\n",
    "  'course_published_dt': '2020-09-30'},\n",
    " {'course_name': 'Data Engineering using Python',\n",
    "  'course_author': 'Bob Dillon',\n",
    "  'course_status': 'published',\n",
    "  'course_published_dt': '2020-07-15'},\n",
    " {'course_name': 'Data Engineering using Scala',\n",
    "  'course_author': 'Elvis Presley',\n",
    "  'course_status': 'draft',\n",
    "  'course_published_dt': None},\n",
    " {'course_name': 'Programming using Scala',\n",
    "  'course_author': 'Elvis Presley',\n",
    "  'course_status': 'published',\n",
    "  'course_published_dt': '2020-05-12'},\n",
    " {'course_name': 'Programming using Java',\n",
    "  'course_author': 'Mike Jack',\n",
    "  'course_status': 'inactive',\n",
    "  'course_published_dt': '2020-08-10'},\n",
    " {'course_name': 'Web Applications - Python Flask',\n",
    "  'course_author': 'Bob Dillon',\n",
    "  'course_status': 'inactive',\n",
    "  'course_published_dt': '2020-07-20'},\n",
    " {'course_name': 'Web Applications - Java Spring',\n",
    "  'course_author': 'Mike Jack',\n",
    "  'course_status': 'draft',\n",
    "  'course_published_dt': None},\n",
    " {'course_name': 'Pipeline Orchestration - Python',\n",
    "  'course_author': 'Bob Dillon',\n",
    "  'course_status': 'draft',\n",
    "  'course_published_dt': None},\n",
    " {'course_name': 'Streaming Pipelines - Python',\n",
    "  'course_author': 'Bob Dillon',\n",
    "  'course_status': 'published',\n",
    "  'course_published_dt': '2020-10-05'},\n",
    " {'course_name': 'Web Applications - Scala Play',\n",
    "  'course_author': 'Elvis Presley',\n",
    "  'course_status': 'inactive',\n",
    "  'course_published_dt': '2020-09-30'},\n",
    " {'course_name': 'Web Applications - Python Django',\n",
    "  'course_author': 'Bob Dillon',\n",
    "  'course_status': 'published',\n",
    "  'course_published_dt': '2020-06-23'},\n",
    " {'course_name': 'Server Automation - Ansible',\n",
    "  'course_author': 'Uncle Sam',\n",
    "  'course_status': 'published',\n",
    "  'course_published_dt': '2020-07-05'}]"
   ]
  },
  {
   "cell_type": "code",
   "execution_count": null,
   "id": "e4e0175e",
   "metadata": {},
   "outputs": [],
   "source": [
    "!rm courses.json"
   ]
  },
  {
   "cell_type": "code",
   "execution_count": null,
   "id": "82be2cec",
   "metadata": {},
   "outputs": [],
   "source": [
    "import pandas as pd"
   ]
  },
  {
   "cell_type": "code",
   "execution_count": null,
   "id": "6f99b03a",
   "metadata": {},
   "outputs": [],
   "source": [
    "courses_df = pd.DataFrame(courses)"
   ]
  },
  {
   "cell_type": "code",
   "execution_count": null,
   "id": "73e219c1",
   "metadata": {},
   "outputs": [],
   "source": [
    "courses_df"
   ]
  },
  {
   "cell_type": "code",
   "execution_count": null,
   "id": "0fa28394",
   "metadata": {},
   "outputs": [],
   "source": [
    "courses_df.to_json('courses.json', orient='records', lines=True)"
   ]
  },
  {
   "cell_type": "code",
   "execution_count": null,
   "id": "eca9a32d",
   "metadata": {},
   "outputs": [],
   "source": [
    "!ls -ltr courses.json"
   ]
  },
  {
   "cell_type": "code",
   "execution_count": null,
   "id": "353b6fb3",
   "metadata": {},
   "outputs": [],
   "source": [
    "!cat courses.json"
   ]
  },
  {
   "cell_type": "markdown",
   "id": "026db054",
   "metadata": {},
   "source": [
    "* We can also write Pandas dataframe to json file with orient split."
   ]
  },
  {
   "cell_type": "code",
   "execution_count": null,
   "id": "f3a9126b",
   "metadata": {},
   "outputs": [],
   "source": [
    "courses_df.to_json('courses.json', orient='split')"
   ]
  },
  {
   "cell_type": "code",
   "execution_count": null,
   "id": "209572ba",
   "metadata": {},
   "outputs": [],
   "source": [
    "!ls -ltr courses.json"
   ]
  },
  {
   "cell_type": "code",
   "execution_count": null,
   "id": "ccc1889b",
   "metadata": {},
   "outputs": [],
   "source": [
    "!cat courses.json"
   ]
  },
  {
   "cell_type": "markdown",
   "id": "4cd3de0b",
   "metadata": {},
   "source": [
    "* We can also write Pandas dataframe to json file with orient records. It wil generate string with valid JSON array."
   ]
  },
  {
   "cell_type": "code",
   "execution_count": null,
   "id": "040230d6",
   "metadata": {},
   "outputs": [],
   "source": [
    "courses_df.to_json('courses.json', orient='records')"
   ]
  },
  {
   "cell_type": "code",
   "execution_count": null,
   "id": "eb55d855",
   "metadata": {},
   "outputs": [],
   "source": [
    "!ls -ltr courses.json"
   ]
  },
  {
   "cell_type": "code",
   "execution_count": null,
   "id": "c91bceca",
   "metadata": {},
   "outputs": [],
   "source": [
    "!cat courses.json"
   ]
  },
  {
   "cell_type": "code",
   "execution_count": null,
   "id": "c9db6eea",
   "metadata": {},
   "outputs": [],
   "source": []
  }
 ],
 "metadata": {
  "kernelspec": {
   "display_name": "Python 3",
   "language": "python",
   "name": "python3"
  },
  "language_info": {
   "codemirror_mode": {
    "name": "ipython",
    "version": 3
   },
   "file_extension": ".py",
   "mimetype": "text/x-python",
   "name": "python",
   "nbconvert_exporter": "python",
   "pygments_lexer": "ipython3",
   "version": "3.6.12"
  }
 },
 "nbformat": 4,
 "nbformat_minor": 5
}
